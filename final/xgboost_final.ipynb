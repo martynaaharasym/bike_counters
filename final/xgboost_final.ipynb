{
 "cells": [
  {
   "cell_type": "code",
   "execution_count": 1,
   "id": "fbe933c2-19be-4af8-863a-87ca84a7a74c",
   "metadata": {},
   "outputs": [],
   "source": [
    "from pathlib import Path\n",
    "import pandas as pd\n",
    "import numpy as np\n",
    "from sklearn.model_selection import train_test_split\n",
    "from sklearn.pipeline import Pipeline\n",
    "from sklearn.compose import ColumnTransformer\n",
    "from sklearn.preprocessing import OneHotEncoder\n",
    "from xgboost import XGBRegressor\n",
    "from sklearn.metrics import root_mean_squared_error\n",
    "\n",
    "from preprocess_FE import (\n",
    "    get_zone_c_holidays,\n",
    "    get_public_holidays,\n",
    "    encode_dates,\n",
    "    engineer_weather_features, \n",
    "    delete_zeros\n",
    ")"
   ]
  },
  {
   "cell_type": "code",
   "execution_count": 2,
   "id": "652b34ba-07c3-4fe2-af4a-29f6f285b704",
   "metadata": {},
   "outputs": [],
   "source": [
    "school_holiday = get_zone_c_holidays()\n",
    "public_holiday = get_public_holidays()"
   ]
  },
  {
   "cell_type": "code",
   "execution_count": 3,
   "id": "41a845f1-95a7-4b70-b241-063e5429ee12",
   "metadata": {},
   "outputs": [],
   "source": [
    "def _merge_weather_data(X):\n",
    "    file_path = Path(\"./external_data/external_data.csv\")\n",
    "    important_columns = [\"date\", \"pres\", \"ff\", \"t\", \"vv\", \"rr1\"]\n",
    "    weather_data = pd.read_csv(file_path, usecols=important_columns, parse_dates=[\"date\"])\n",
    "    weather_data[\"date\"] = pd.to_datetime(weather_data[\"date\"]).astype(\"datetime64[ns]\")\n",
    "    \n",
    "    X = X.copy()\n",
    "    X[\"orig_index\"] = np.arange(X.shape[0])  # Save the original order\n",
    "    X = pd.merge_asof(\n",
    "        X.sort_values(\"date\"),\n",
    "        weather_data.sort_values(\"date\"),\n",
    "        on=\"date\"\n",
    "    )\n",
    "    X = X.sort_values(\"orig_index\")\n",
    "    del X[\"orig_index\"]\n",
    "    return X"
   ]
  },
  {
   "cell_type": "code",
   "execution_count": 4,
   "id": "2466e382-867c-4b59-afe4-2c0041b46296",
   "metadata": {},
   "outputs": [],
   "source": [
    "data = pd.read_parquet(Path(\"data\") / \"train.parquet\")\n",
    "data = delete_zeros(data)\n",
    "data[\"date\"] = pd.to_datetime(data[\"date\"]).astype(\"datetime64[ns]\")\n",
    "\n",
    "data = _merge_weather_data(data)"
   ]
  },
  {
   "cell_type": "code",
   "execution_count": 5,
   "id": "6247d7d8-2897-4ae4-ab64-54a82798753b",
   "metadata": {},
   "outputs": [],
   "source": [
    "covid_data_path = Path(\"./synthese-fra (1).csv\")\n",
    "columns = [\"date\", \"nouveaux_patients_hospitalises\"]\n",
    "covid_data = pd.read_csv(covid_data_path, usecols=columns, parse_dates=[\"date\"])\n",
    "covid_data[\"date\"] = pd.to_datetime(covid_data[\"date\"]).astype(\"datetime64[ns]\")\n",
    "covid_data[\"date_only\"] = covid_data[\"date\"].dt.date\n",
    "\n",
    "data[\"date_only\"] = data[\"date\"].dt.date\n",
    "merged_data = data.merge(covid_data, on=\"date_only\", how=\"left\")\n",
    "\n",
    "data.drop(columns=[\"date_only\"], inplace=True)"
   ]
  },
  {
   "cell_type": "code",
   "execution_count": 6,
   "id": "f3e20524-694e-4c9c-bb72-197628936fe9",
   "metadata": {},
   "outputs": [],
   "source": [
    "X = merged_data[[\"counter_name\", \"site_name\", \"date_x\", \"longitude\", \n",
    "                 \"latitude\", \"ff\", \"t\", \"vv\", \"pres\", \"rr1\", \"nouveaux_patients_hospitalises\"]]\n",
    "y = merged_data[\"log_bike_count\"]\n",
    "\n",
    "X_train, X_test, y_train, y_test = train_test_split(X, y, test_size=0.2, random_state=42)\n",
    "\n",
    "X_train_encoded1 = encode_dates(X_train, school_holiday, public_holiday)\n",
    "X_test_encoded1 = encode_dates(X_test, school_holiday, public_holiday)\n",
    "\n",
    "X_train_encoded3 = engineer_weather_features(X_train_encoded1)\n",
    "X_test_encoded3 = engineer_weather_features(X_test_encoded1)\n"
   ]
  },
  {
   "cell_type": "code",
   "execution_count": 7,
   "id": "4b6d8718-1eb4-4d34-ac83-adb909839758",
   "metadata": {},
   "outputs": [],
   "source": [
    "categorical_features = [\"counter_name\", \"site_name\", \"rain_category\", \"season\", \"year\"]\n",
    "numerical_features = list(X_train_encoded3.drop(columns=categorical_features).columns)\n",
    "\n",
    "preprocessor = ColumnTransformer(\n",
    "    transformers=[\n",
    "        (\"cat\", OneHotEncoder(handle_unknown=\"ignore\"), categorical_features),\n",
    "        (\"num\", \"passthrough\", numerical_features)\n",
    "    ]\n",
    ")"
   ]
  },
  {
   "cell_type": "code",
   "execution_count": 8,
   "id": "1953581f-fd22-4d01-9b75-45541cf42b2e",
   "metadata": {},
   "outputs": [],
   "source": [
    "best_params = {\n",
    "    \"n_estimators\": 472,\n",
    "    \"max_depth\": 10,\n",
    "    \"learning_rate\": 0.12614361865303286,\n",
    "    \"subsample\": 0.9523866028433459,\n",
    "    \"colsample_bytree\": 0.7603900904362988,\n",
    "    \"reg_alpha\": 2.369797865081342,\n",
    "    \"reg_lambda\": 1.8538255301093718,\n",
    "}\n",
    "\n",
    "best_model = XGBRegressor(**best_params, random_state=42)\n",
    "\n",
    "xgboost_pipeline = Pipeline([\n",
    "    (\"preprocessor\", preprocessor),\n",
    "    (\"model\", best_model)\n",
    "])"
   ]
  },
  {
   "cell_type": "code",
   "execution_count": 9,
   "id": "ea2734c8-405a-42f2-97fd-0dee43dd443b",
   "metadata": {},
   "outputs": [
    {
     "name": "stdout",
     "output_type": "stream",
     "text": [
      "Final XGBoost RMSE: 0.3364\n"
     ]
    }
   ],
   "source": [
    "xgboost_pipeline.fit(X_train_encoded3, y_train)\n",
    "y_pred = xgboost_pipeline.predict(X_test_encoded3)\n",
    "final_rmse = root_mean_squared_error(y_test, y_pred)\n",
    "print(f\"Final XGBoost RMSE: {final_rmse:.4f}\")"
   ]
  },
  {
   "cell_type": "code",
   "execution_count": 10,
   "id": "84f79858-834a-4300-94a0-3f9665b36bc3",
   "metadata": {},
   "outputs": [
    {
     "name": "stderr",
     "output_type": "stream",
     "text": [
      "/Users/martynaharasym/bike_counters/preprocess_FE.py:98: SettingWithCopyWarning: \n",
      "A value is trying to be set on a copy of a slice from a DataFrame.\n",
      "Try using .loc[row_indexer,col_indexer] = value instead\n",
      "\n",
      "See the caveats in the documentation: https://pandas.pydata.org/pandas-docs/stable/user_guide/indexing.html#returning-a-view-versus-a-copy\n",
      "  X.loc[:, \"year\"] = X[\"date_x\"].dt.year\n",
      "/Users/martynaharasym/bike_counters/preprocess_FE.py:99: SettingWithCopyWarning: \n",
      "A value is trying to be set on a copy of a slice from a DataFrame.\n",
      "Try using .loc[row_indexer,col_indexer] = value instead\n",
      "\n",
      "See the caveats in the documentation: https://pandas.pydata.org/pandas-docs/stable/user_guide/indexing.html#returning-a-view-versus-a-copy\n",
      "  X.loc[:, \"month\"] = X[\"date_x\"].dt.month\n",
      "/Users/martynaharasym/bike_counters/preprocess_FE.py:100: SettingWithCopyWarning: \n",
      "A value is trying to be set on a copy of a slice from a DataFrame.\n",
      "Try using .loc[row_indexer,col_indexer] = value instead\n",
      "\n",
      "See the caveats in the documentation: https://pandas.pydata.org/pandas-docs/stable/user_guide/indexing.html#returning-a-view-versus-a-copy\n",
      "  X.loc[:, \"day\"] = X[\"date_x\"].dt.day\n",
      "/Users/martynaharasym/bike_counters/preprocess_FE.py:101: SettingWithCopyWarning: \n",
      "A value is trying to be set on a copy of a slice from a DataFrame.\n",
      "Try using .loc[row_indexer,col_indexer] = value instead\n",
      "\n",
      "See the caveats in the documentation: https://pandas.pydata.org/pandas-docs/stable/user_guide/indexing.html#returning-a-view-versus-a-copy\n",
      "  X.loc[:, \"weekday\"] = X[\"date_x\"].dt.weekday\n",
      "/Users/martynaharasym/bike_counters/preprocess_FE.py:102: SettingWithCopyWarning: \n",
      "A value is trying to be set on a copy of a slice from a DataFrame.\n",
      "Try using .loc[row_indexer,col_indexer] = value instead\n",
      "\n",
      "See the caveats in the documentation: https://pandas.pydata.org/pandas-docs/stable/user_guide/indexing.html#returning-a-view-versus-a-copy\n",
      "  X.loc[:, \"hour\"] = X[\"date_x\"].dt.hour\n",
      "/Users/martynaharasym/bike_counters/preprocess_FE.py:122: SettingWithCopyWarning: \n",
      "A value is trying to be set on a copy of a slice from a DataFrame.\n",
      "Try using .loc[row_indexer,col_indexer] = value instead\n",
      "\n",
      "See the caveats in the documentation: https://pandas.pydata.org/pandas-docs/stable/user_guide/indexing.html#returning-a-view-versus-a-copy\n",
      "  X.loc[:, \"season\"] = np.select(conditions, seasons, default=\"Unknown\")\n"
     ]
    }
   ],
   "source": [
    "df_test = pd.read_parquet(\"./data/final_test.parquet\")\n",
    "df_test[\"date\"] = pd.to_datetime(df_test[\"date\"], format='%Y-%m-%d %H:%M:%S').astype(\"datetime64[ns]\")\n",
    "df_test_merged = _merge_weather_data(df_test)\n",
    "\n",
    "df_test_merged['date_only'] = pd.to_datetime(df_test_merged['date']).dt.date\n",
    "\n",
    "df_test_merged = df_test_merged.merge(covid_data, on='date_only', how='left')\n",
    "\n",
    "X = df_test_merged[[\"counter_name\", \"site_name\", \"date_x\", \"longitude\", \"latitude\", \"ff\", \"t\", \"vv\", \n",
    "                    \"pres\", \"rr1\", \"nouveaux_patients_hospitalises\"]]\n",
    "\n",
    "X = encode_dates(X, school_holiday, public_holiday)\n",
    "X = engineer_weather_features(X)\n",
    "\n",
    "X_test_final = preprocessor.transform(X)\n",
    "final_predictions = xgboost_pipeline.named_steps['model'].predict(X_test_final)\n",
    "\n",
    "results = pd.DataFrame({\"Id\": np.arange(final_predictions.shape[0]), \"log_bike_count\": final_predictions})\n",
    "results.to_csv(\"submission_xgboost_optuna8.csv\", index=False)"
   ]
  },
  {
   "cell_type": "code",
   "execution_count": null,
   "id": "76b0dd01-0946-4144-a6b5-5d77429e7a0b",
   "metadata": {},
   "outputs": [],
   "source": []
  }
 ],
 "metadata": {
  "kernelspec": {
   "display_name": "Python 3 (ipykernel)",
   "language": "python",
   "name": "python3"
  },
  "language_info": {
   "codemirror_mode": {
    "name": "ipython",
    "version": 3
   },
   "file_extension": ".py",
   "mimetype": "text/x-python",
   "name": "python",
   "nbconvert_exporter": "python",
   "pygments_lexer": "ipython3",
   "version": "3.12.4"
  }
 },
 "nbformat": 4,
 "nbformat_minor": 5
}
