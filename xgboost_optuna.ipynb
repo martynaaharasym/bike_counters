{
 "cells": [
  {
   "cell_type": "code",
   "execution_count": 1,
   "id": "fbe933c2-19be-4af8-863a-87ca84a7a74c",
   "metadata": {},
   "outputs": [],
   "source": [
    "from pathlib import Path\n",
    "import pandas as pd\n",
    "import numpy as np\n",
    "from sklearn.model_selection import train_test_split\n",
    "from sklearn.pipeline import Pipeline\n",
    "from sklearn.compose import ColumnTransformer\n",
    "from sklearn.preprocessing import OneHotEncoder\n",
    "from sklearn.linear_model import Ridge\n",
    "from sklearn.ensemble import RandomForestRegressor\n",
    "from xgboost import XGBRegressor\n",
    "from catboost import CatBoostRegressor\n",
    "from sklearn.metrics import root_mean_squared_error\n",
    "# from jours_feries_france import JoursFeries\n",
    "import matplotlib.pyplot as plt\n",
    "import optuna\n",
    "from vacances_scolaires_france import SchoolHolidayDates"
   ]
  },
  {
   "cell_type": "code",
   "execution_count": 2,
   "id": "fa315110-b2af-4a42-a73d-6faeb83d049e",
   "metadata": {},
   "outputs": [],
   "source": [
    "#holidays_2020_2021 = (\n",
    "#    list(JoursFeries.for_year(2020).values()) +\n",
    "#    list(JoursFeries.for_year(2021).values())\n",
    "#)\n",
    "\n",
    "# holidays_2020_2021 = pd.to_datetime(holidays_2020_2021)"
   ]
  },
  {
   "cell_type": "code",
   "execution_count": 3,
   "id": "652b34ba-07c3-4fe2-af4a-29f6f285b704",
   "metadata": {},
   "outputs": [],
   "source": [
    "holiday_dates = SchoolHolidayDates()\n",
    "\n",
    "# Fetch holidays for Zone C for specific years\n",
    "zone_c_holidays_2020 = holiday_dates.holidays_for_year_and_zone(2020, 'C')\n",
    "zone_c_holidays_2021 = holiday_dates.holidays_for_year_and_zone(2021, 'C')\n",
    "\n",
    "# Combine holidays for both years\n",
    "all_zone_c_holidays = list(zone_c_holidays_2020.keys()) + list(zone_c_holidays_2021.keys())\n",
    "\n",
    "# Convert to pandas datetime\n",
    "all_zone_c_holidays = pd.to_datetime(all_zone_c_holidays)"
   ]
  },
  {
   "cell_type": "code",
   "execution_count": 4,
   "id": "e07dfc92-ff8f-43f1-81ed-0ad7c9b182b1",
   "metadata": {},
   "outputs": [],
   "source": [
    "def encode_dates(X):\n",
    "    \"\"\"\n",
    "    Encode date information from the 'date' column.\n",
    "    Adds year, month, day, weekday, hour, holiday, and weekend indicators.\n",
    "    \"\"\"\n",
    "    lockdown_periods = [\n",
    "        (\"2020-03-17\", \"2020-05-11\"),\n",
    "        (\"2020-10-30\", \"2020-12-14\"),\n",
    "        (\"2021-04-03\", \"2021-06-30\"),\n",
    "    ]\n",
    "    \n",
    "    lockdown_ranges = [\n",
    "        (pd.to_datetime(start), pd.to_datetime(end)) for start, end in lockdown_periods\n",
    "    ]\n",
    "    \n",
    "    X = X.copy()\n",
    "    X[\"year\"] = X[\"date\"].dt.year\n",
    "    X[\"month\"] = X[\"date\"].dt.month\n",
    "    X[\"day\"] = X[\"date\"].dt.day\n",
    "    X[\"weekday\"] = X[\"date\"].dt.weekday\n",
    "    X[\"hour\"] = X[\"date\"].dt.hour\n",
    "    X[\"holiday\"] = X[\"date\"].isin(all_zone_c_holidays).astype(int)\n",
    "    X[\"weekend\"] = (X[\"date\"].dt.dayofweek > 4).astype(int)\n",
    "    X[\"lockdown\"] = X[\"date\"].apply(\n",
    "        lambda d: any(start <= d <= end for start, end in lockdown_ranges)\n",
    "    ).astype(int)\n",
    "    X['is_peak'] = X['hour'].apply(lambda x: 1 if (6 <= x < 9 or 16 <= x < 19) else 0)\n",
    "\n",
    "    X['sin_hour'] = np.sin(2 * np.pi * X['hour'] / 24)\n",
    "    X['cos_hour'] = np.cos(2 * np.pi * X['hour'] / 24)\n",
    "    \n",
    "    return X.drop(columns=['date', 'hour'])"
   ]
  },
  {
   "cell_type": "code",
   "execution_count": 5,
   "id": "852dd85e-4e7c-428f-9d76-e648e9a6ef61",
   "metadata": {},
   "outputs": [],
   "source": [
    "def engineer_weather_features(data):\n",
    "    # 1. Categorical Buckets\n",
    "    data['rain_category'] = pd.cut(\n",
    "        data['rr1'], bins=[-1, 0, 2, 10, float('inf')],\n",
    "        labels=['No Rain', 'Light Rain', 'Moderate Rain', 'Heavy Rain']\n",
    "    )\n",
    "    \n",
    "    data['snow_category'] = pd.cut(\n",
    "        data['ht_neige'], bins=[-1, 0, 0.01, 0.05, float('inf')],\n",
    "        labels=['No Snow', 'Light Snow', 'Moderate Snow', 'Heavy Snow']\n",
    "    )\n",
    "    \n",
    "    data['is_hot_day'] = (data['t'] > 300).astype(int)  # Assuming temperature in Kelvin\n",
    "    data['is_cold_day'] = (data['t'] < 283).astype(int)\n",
    "    data['high_wind'] = (data['ff'] > 5).astype(int)\n",
    "    \n",
    "    # 3. Interaction Features\n",
    "    data['rain_with_wind'] = data['rr1'] * data['ff']\n",
    "    data['rolling_rain'] = data['rr1'].rolling(window=3, min_periods=1).sum()\n",
    "    \n",
    "    return data"
   ]
  },
  {
   "cell_type": "code",
   "execution_count": 6,
   "id": "2466e382-867c-4b59-afe4-2c0041b46296",
   "metadata": {},
   "outputs": [],
   "source": [
    "data = pd.read_parquet(Path(\"data\") / \"train.parquet\")\n",
    "\n",
    "important_columns = [\"date\", \"pres\", \"ff\", \"t\", \"u\", \"vv\", \"n\", \"ht_neige\", \"rr1\"]\n",
    "weather_data = pd.read_csv(\"./external_data/external_data.csv\", usecols=important_columns)"
   ]
  },
  {
   "cell_type": "code",
   "execution_count": 7,
   "id": "a48d3044-0506-4a53-bc89-b33f6af76c8c",
   "metadata": {},
   "outputs": [],
   "source": [
    "weather_data[\"date\"] = pd.to_datetime(weather_data[\"date\"])\n",
    "weather_data = weather_data.dropna(axis=1, how=\"all\")\n",
    "weather_data.set_index(\"date\", inplace=True)\n",
    "weather_data = weather_data[~weather_data.index.duplicated(keep=\"first\")]\n",
    "weather_data_interpolated = weather_data.resample(\"h\").interpolate(method=\"linear\")"
   ]
  },
  {
   "cell_type": "code",
   "execution_count": 8,
   "id": "6247d7d8-2897-4ae4-ab64-54a82798753b",
   "metadata": {},
   "outputs": [],
   "source": [
    "merged_data = data.merge(weather_data_interpolated, on=\"date\", how=\"left\")\n",
    "\n",
    "X = merged_data[[\"counter_name\", \"site_name\", \"date\", \"longitude\", \"latitude\", \"ff\", \"t\", \"u\", \"vv\", \"n\", \"pres\", \"ht_neige\", \"rr1\"]]\n",
    "y = merged_data[\"log_bike_count\"]\n",
    "\n",
    "X_train, X_test, y_train, y_test = train_test_split(X, y, test_size=0.2, random_state=42)\n",
    "\n",
    "# Apply date encoding\n",
    "\n",
    "X_train_encoded2 = encode_dates(X_train)\n",
    "X_test_encoded2 = encode_dates(X_test)\n",
    "\n",
    "X_train_encoded3 = engineer_weather_features(X_train_encoded2)\n",
    "X_test_encoded3 = engineer_weather_features(X_test_encoded2)\n",
    "\n",
    "# Column transformer for preprocessing\n",
    "categorical_features = [\"counter_name\", \"site_name\", \"rain_category\", \"snow_category\"]\n",
    "numerical_features = list(X_train_encoded3.drop(columns=categorical_features).columns)\n",
    "\n",
    "preprocessor = ColumnTransformer(\n",
    "    transformers=[\n",
    "        (\"cat\", OneHotEncoder(handle_unknown=\"ignore\"), categorical_features),\n",
    "        (\"num\", \"passthrough\", numerical_features)\n",
    "    ]\n",
    ")"
   ]
  },
  {
   "cell_type": "code",
   "execution_count": 9,
   "id": "1953581f-fd22-4d01-9b75-45541cf42b2e",
   "metadata": {},
   "outputs": [
    {
     "name": "stderr",
     "output_type": "stream",
     "text": [
      "[I 2024-12-08 21:51:33,843] A new study created in memory with name: no-name-c861fa5f-4449-450b-8be6-953bd0dcb8c7\n",
      "[I 2024-12-08 21:51:40,770] Trial 0 finished with value: 0.3674283432717737 and parameters: {'n_estimators': 370, 'max_depth': 7, 'learning_rate': 0.22466180194809116, 'subsample': 0.6203691945195122, 'colsample_bytree': 0.7833505860628984, 'reg_alpha': 1.5754449495777694, 'reg_lambda': 2.327822857873093}. Best is trial 0 with value: 0.3674283432717737.\n",
      "[I 2024-12-08 21:51:46,045] Trial 1 finished with value: 0.5779913518171613 and parameters: {'n_estimators': 439, 'max_depth': 4, 'learning_rate': 0.046094267052025927, 'subsample': 0.5530947593212425, 'colsample_bytree': 0.781605106660199, 'reg_alpha': 8.17212849236075, 'reg_lambda': 2.228099013753095}. Best is trial 0 with value: 0.3674283432717737.\n",
      "[I 2024-12-08 21:51:51,649] Trial 2 finished with value: 0.4638436508275901 and parameters: {'n_estimators': 333, 'max_depth': 5, 'learning_rate': 0.12722028351929082, 'subsample': 0.6631342703011953, 'colsample_bytree': 0.5015496888316338, 'reg_alpha': 3.8237329101224216, 'reg_lambda': 3.814434661152252}. Best is trial 0 with value: 0.3674283432717737.\n",
      "[I 2024-12-08 21:52:04,117] Trial 3 finished with value: 0.3591426036909576 and parameters: {'n_estimators': 368, 'max_depth': 10, 'learning_rate': 0.09466165785500467, 'subsample': 0.9171396479930136, 'colsample_bytree': 0.5369517858250799, 'reg_alpha': 4.960145865381813, 'reg_lambda': 6.835967985987706}. Best is trial 3 with value: 0.3591426036909576.\n",
      "[I 2024-12-08 21:52:08,462] Trial 4 finished with value: 0.49435403521400173 and parameters: {'n_estimators': 397, 'max_depth': 3, 'learning_rate': 0.2734236816065624, 'subsample': 0.7388620488293607, 'colsample_bytree': 0.9337558947448683, 'reg_alpha': 7.583771569302142, 'reg_lambda': 7.653735125007246}. Best is trial 3 with value: 0.3591426036909576.\n",
      "[I 2024-12-08 21:52:14,003] Trial 5 finished with value: 0.5618861326551767 and parameters: {'n_estimators': 324, 'max_depth': 6, 'learning_rate': 0.027695830552451603, 'subsample': 0.7622368684963521, 'colsample_bytree': 0.6533233701941682, 'reg_alpha': 1.9694814409588346, 'reg_lambda': 4.876301571546061}. Best is trial 3 with value: 0.3591426036909576.\n",
      "[I 2024-12-08 21:52:27,875] Trial 6 finished with value: 0.35742884212343534 and parameters: {'n_estimators': 408, 'max_depth': 10, 'learning_rate': 0.16845229855519084, 'subsample': 0.5734721341718028, 'colsample_bytree': 0.5297379815597265, 'reg_alpha': 1.388767560313409, 'reg_lambda': 5.910288505829392}. Best is trial 6 with value: 0.35742884212343534.\n",
      "[I 2024-12-08 21:52:37,893] Trial 7 finished with value: 0.3814127181602022 and parameters: {'n_estimators': 485, 'max_depth': 7, 'learning_rate': 0.10117943341468669, 'subsample': 0.5317793326231717, 'colsample_bytree': 0.7118449305134135, 'reg_alpha': 3.865551486310803, 'reg_lambda': 5.46182877104245}. Best is trial 6 with value: 0.35742884212343534.\n",
      "[I 2024-12-08 21:52:44,068] Trial 8 finished with value: 0.4437585283300742 and parameters: {'n_estimators': 457, 'max_depth': 5, 'learning_rate': 0.10528974205202042, 'subsample': 0.5058641470533825, 'colsample_bytree': 0.7129084642081827, 'reg_alpha': 5.198321898878803, 'reg_lambda': 7.912779481536792}. Best is trial 6 with value: 0.35742884212343534.\n",
      "[I 2024-12-08 21:52:48,560] Trial 9 finished with value: 0.45043514508510263 and parameters: {'n_estimators': 360, 'max_depth': 4, 'learning_rate': 0.2983982324513608, 'subsample': 0.7518953290615988, 'colsample_bytree': 0.6215668482633314, 'reg_alpha': 6.0801906977530855, 'reg_lambda': 3.1175490761313878}. Best is trial 6 with value: 0.35742884212343534.\n",
      "[I 2024-12-08 21:53:03,298] Trial 10 finished with value: 0.35064664199452444 and parameters: {'n_estimators': 423, 'max_depth': 10, 'learning_rate': 0.21792066398517762, 'subsample': 0.8656515192395043, 'colsample_bytree': 0.9907991598063628, 'reg_alpha': 9.652208032617436, 'reg_lambda': 6.336782075647946}. Best is trial 10 with value: 0.35064664199452444.\n",
      "[I 2024-12-08 21:53:16,202] Trial 11 finished with value: 0.3491019888966047 and parameters: {'n_estimators': 420, 'max_depth': 10, 'learning_rate': 0.1911513844480114, 'subsample': 0.914251666567681, 'colsample_bytree': 0.9960200299966347, 'reg_alpha': 9.525234174627343, 'reg_lambda': 9.491576052493883}. Best is trial 11 with value: 0.3491019888966047.\n",
      "[I 2024-12-08 21:53:30,174] Trial 12 finished with value: 0.350781108105666 and parameters: {'n_estimators': 420, 'max_depth': 9, 'learning_rate': 0.19588231093895922, 'subsample': 0.956285197816044, 'colsample_bytree': 0.9980806719222096, 'reg_alpha': 9.928675879213829, 'reg_lambda': 9.838331098887608}. Best is trial 11 with value: 0.3491019888966047.\n",
      "[I 2024-12-08 21:53:41,525] Trial 13 finished with value: 0.35492295873295265 and parameters: {'n_estimators': 462, 'max_depth': 8, 'learning_rate': 0.22917334417175605, 'subsample': 0.8686837648151026, 'colsample_bytree': 0.8764717417868497, 'reg_alpha': 9.612422843366847, 'reg_lambda': 9.665748653042733}. Best is trial 11 with value: 0.3491019888966047.\n",
      "[I 2024-12-08 21:53:58,267] Trial 14 finished with value: 0.3498046971596267 and parameters: {'n_estimators': 499, 'max_depth': 9, 'learning_rate': 0.23949721446027028, 'subsample': 0.8437368399870434, 'colsample_bytree': 0.9999370294607438, 'reg_alpha': 8.4166166844572, 'reg_lambda': 8.819690001348581}. Best is trial 11 with value: 0.3491019888966047.\n",
      "[I 2024-12-08 21:54:14,366] Trial 15 finished with value: 0.35491067739049237 and parameters: {'n_estimators': 494, 'max_depth': 8, 'learning_rate': 0.2520690095935597, 'subsample': 0.8527713871522862, 'colsample_bytree': 0.8650989019755706, 'reg_alpha': 8.017264507679826, 'reg_lambda': 8.62231659412023}. Best is trial 11 with value: 0.3491019888966047.\n",
      "[I 2024-12-08 21:54:29,543] Trial 16 finished with value: 0.3498782833257979 and parameters: {'n_estimators': 467, 'max_depth': 9, 'learning_rate': 0.1698300338982387, 'subsample': 0.982110557626682, 'colsample_bytree': 0.9066980800221158, 'reg_alpha': 7.11466825728862, 'reg_lambda': 8.937149380376757}. Best is trial 11 with value: 0.3491019888966047.\n",
      "[I 2024-12-08 21:54:44,743] Trial 17 finished with value: 0.3497034154079517 and parameters: {'n_estimators': 499, 'max_depth': 9, 'learning_rate': 0.19417641108161468, 'subsample': 0.8102755490349173, 'colsample_bytree': 0.8252841407736129, 'reg_alpha': 6.548616808687614, 'reg_lambda': 8.49374263623307}. Best is trial 11 with value: 0.3491019888966047.\n",
      "[I 2024-12-08 21:54:52,767] Trial 18 finished with value: 0.3707980353426525 and parameters: {'n_estimators': 304, 'max_depth': 8, 'learning_rate': 0.14285576486827187, 'subsample': 0.7957679338750807, 'colsample_bytree': 0.8285822264025177, 'reg_alpha': 6.376946267871375, 'reg_lambda': 7.6104703838134755}. Best is trial 11 with value: 0.3491019888966047.\n",
      "[I 2024-12-08 21:55:03,940] Trial 19 finished with value: 0.35582515252170316 and parameters: {'n_estimators': 387, 'max_depth': 9, 'learning_rate': 0.17950099195972108, 'subsample': 0.7083689916132361, 'colsample_bytree': 0.9358940024064705, 'reg_alpha': 8.78809362928624, 'reg_lambda': 9.922189571526323}. Best is trial 11 with value: 0.3491019888966047.\n",
      "[I 2024-12-08 21:55:21,322] Trial 20 finished with value: 0.34744071278347466 and parameters: {'n_estimators': 475, 'max_depth': 10, 'learning_rate': 0.20262586290945114, 'subsample': 0.919381031301119, 'colsample_bytree': 0.8144802461975797, 'reg_alpha': 6.866262656738043, 'reg_lambda': 7.015016041501598}. Best is trial 20 with value: 0.34744071278347466.\n",
      "[I 2024-12-08 21:55:38,010] Trial 21 finished with value: 0.34755237647465964 and parameters: {'n_estimators': 477, 'max_depth': 10, 'learning_rate': 0.19741377768051896, 'subsample': 0.9086621311639789, 'colsample_bytree': 0.8125349653264513, 'reg_alpha': 6.755644135500649, 'reg_lambda': 7.003651770331503}. Best is trial 20 with value: 0.34744071278347466.\n",
      "[I 2024-12-08 21:55:50,372] Trial 22 finished with value: 0.3471673243858658 and parameters: {'n_estimators': 440, 'max_depth': 10, 'learning_rate': 0.1988929242109653, 'subsample': 0.9243330610847478, 'colsample_bytree': 0.7531513983014181, 'reg_alpha': 4.161105220947656, 'reg_lambda': 7.085076294478189}. Best is trial 22 with value: 0.3471673243858658.\n",
      "[I 2024-12-08 21:56:05,971] Trial 23 finished with value: 0.347157805083823 and parameters: {'n_estimators': 444, 'max_depth': 10, 'learning_rate': 0.14595586795297757, 'subsample': 0.9989619346798151, 'colsample_bytree': 0.7281341378163058, 'reg_alpha': 4.27082747068224, 'reg_lambda': 6.9836516027578766}. Best is trial 23 with value: 0.347157805083823.\n",
      "[I 2024-12-08 21:56:16,396] Trial 24 finished with value: 0.3591168070400708 and parameters: {'n_estimators': 442, 'max_depth': 8, 'learning_rate': 0.13686280335737988, 'subsample': 0.9916363833894545, 'colsample_bytree': 0.7196690470019385, 'reg_alpha': 4.002388410576578, 'reg_lambda': 4.811945283150707}. Best is trial 23 with value: 0.347157805083823.\n",
      "[I 2024-12-08 21:56:30,655] Trial 25 finished with value: 0.34757639714777216 and parameters: {'n_estimators': 445, 'max_depth': 10, 'learning_rate': 0.15409361924085074, 'subsample': 0.961507522539599, 'colsample_bytree': 0.6740320088351766, 'reg_alpha': 3.230981987767191, 'reg_lambda': 6.583262229369126}. Best is trial 23 with value: 0.347157805083823.\n",
      "[I 2024-12-08 21:56:44,126] Trial 26 finished with value: 0.36092279478196104 and parameters: {'n_estimators': 453, 'max_depth': 9, 'learning_rate': 0.07184664540990747, 'subsample': 0.9357444164534593, 'colsample_bytree': 0.760703458790111, 'reg_alpha': 2.9613210069489346, 'reg_lambda': 7.25559881318377}. Best is trial 23 with value: 0.347157805083823.\n",
      "[I 2024-12-08 21:56:53,069] Trial 27 finished with value: 0.3638188379945072 and parameters: {'n_estimators': 432, 'max_depth': 7, 'learning_rate': 0.25859238040384946, 'subsample': 0.8932836341117392, 'colsample_bytree': 0.6225145683300488, 'reg_alpha': 4.387774753443618, 'reg_lambda': 5.708830894628197}. Best is trial 23 with value: 0.347157805083823.\n",
      "[I 2024-12-08 21:57:08,833] Trial 28 finished with value: 0.3482920131324663 and parameters: {'n_estimators': 473, 'max_depth': 10, 'learning_rate': 0.2103478069353982, 'subsample': 0.9894781342049624, 'colsample_bytree': 0.7282711758053675, 'reg_alpha': 5.594373291097928, 'reg_lambda': 1.173666545433302}. Best is trial 23 with value: 0.347157805083823.\n",
      "[I 2024-12-08 21:57:15,800] Trial 29 finished with value: 0.37845620460671153 and parameters: {'n_estimators': 387, 'max_depth': 7, 'learning_rate': 0.12582945850398275, 'subsample': 0.9538949048970722, 'colsample_bytree': 0.7904429860954051, 'reg_alpha': 2.2671715601979407, 'reg_lambda': 4.924691372198421}. Best is trial 23 with value: 0.347157805083823.\n",
      "[I 2024-12-08 21:57:25,576] Trial 30 finished with value: 0.35956608224611497 and parameters: {'n_estimators': 451, 'max_depth': 8, 'learning_rate': 0.16122300604094386, 'subsample': 0.811352984735184, 'colsample_bytree': 0.6717569103413827, 'reg_alpha': 4.68134006053366, 'reg_lambda': 7.935165834178385}. Best is trial 23 with value: 0.347157805083823.\n",
      "[I 2024-12-08 21:57:42,379] Trial 31 finished with value: 0.3480352117818055 and parameters: {'n_estimators': 477, 'max_depth': 10, 'learning_rate': 0.20850223005714397, 'subsample': 0.9014815751550189, 'colsample_bytree': 0.8124922574354725, 'reg_alpha': 5.654399298128206, 'reg_lambda': 7.039075737371654}. Best is trial 23 with value: 0.347157805083823.\n",
      "[I 2024-12-08 21:57:56,986] Trial 32 finished with value: 0.3465287926064601 and parameters: {'n_estimators': 483, 'max_depth': 10, 'learning_rate': 0.18485999909119089, 'subsample': 0.934932641877267, 'colsample_bytree': 0.771387389415114, 'reg_alpha': 7.027793583280011, 'reg_lambda': 6.210938607181354}. Best is trial 32 with value: 0.3465287926064601.\n",
      "[I 2024-12-08 21:58:10,665] Trial 33 finished with value: 0.34891124871467916 and parameters: {'n_estimators': 485, 'max_depth': 9, 'learning_rate': 0.17849711403618695, 'subsample': 0.9429850081895448, 'colsample_bytree': 0.7649386118181855, 'reg_alpha': 7.440195265258996, 'reg_lambda': 6.08525960811304}. Best is trial 32 with value: 0.3465287926064601.\n",
      "[I 2024-12-08 21:58:25,059] Trial 34 finished with value: 0.35446852118198113 and parameters: {'n_estimators': 434, 'max_depth': 10, 'learning_rate': 0.2277578383183506, 'subsample': 0.6402987503297894, 'colsample_bytree': 0.739803209368095, 'reg_alpha': 5.875016476090215, 'reg_lambda': 3.889709514067016}. Best is trial 32 with value: 0.3465287926064601.\n",
      "[I 2024-12-08 21:58:37,881] Trial 35 finished with value: 0.3481706522174312 and parameters: {'n_estimators': 466, 'max_depth': 9, 'learning_rate': 0.1536020814970819, 'subsample': 0.8797661101752579, 'colsample_bytree': 0.7851437511862609, 'reg_alpha': 3.4725566135545263, 'reg_lambda': 5.486519111756044}. Best is trial 32 with value: 0.3465287926064601.\n",
      "[I 2024-12-08 21:58:54,667] Trial 36 finished with value: 0.3548566006206104 and parameters: {'n_estimators': 486, 'max_depth': 10, 'learning_rate': 0.0718817055406332, 'subsample': 0.9997951329348399, 'colsample_bytree': 0.6918547674327495, 'reg_alpha': 5.047601409140624, 'reg_lambda': 6.548704744351253}. Best is trial 32 with value: 0.3465287926064601.\n",
      "[I 2024-12-08 21:59:02,111] Trial 37 finished with value: 0.39588662665832797 and parameters: {'n_estimators': 448, 'max_depth': 6, 'learning_rate': 0.12571707632662896, 'subsample': 0.9317095627178212, 'colsample_bytree': 0.847597331094877, 'reg_alpha': 2.798592889771958, 'reg_lambda': 7.353094506398485}. Best is trial 32 with value: 0.3465287926064601.\n",
      "[I 2024-12-08 21:59:14,676] Trial 38 finished with value: 0.34981680478119115 and parameters: {'n_estimators': 403, 'max_depth': 10, 'learning_rate': 0.18110546547802034, 'subsample': 0.971725665999762, 'colsample_bytree': 0.5932625798779974, 'reg_alpha': 4.487070520228598, 'reg_lambda': 8.187338472013026}. Best is trial 32 with value: 0.3465287926064601.\n",
      "[I 2024-12-08 21:59:30,140] Trial 39 finished with value: 0.35443343998213683 and parameters: {'n_estimators': 430, 'max_depth': 9, 'learning_rate': 0.28198357530258483, 'subsample': 0.8346076741875996, 'colsample_bytree': 0.7774199074367486, 'reg_alpha': 7.335188774809892, 'reg_lambda': 6.71477001142228}. Best is trial 32 with value: 0.3465287926064601.\n",
      "[I 2024-12-08 21:59:36,796] Trial 40 finished with value: 0.49678915394382694 and parameters: {'n_estimators': 412, 'max_depth': 4, 'learning_rate': 0.111958264851199, 'subsample': 0.9283531760971184, 'colsample_bytree': 0.7494792206416957, 'reg_alpha': 6.835301495430896, 'reg_lambda': 5.069357056457799}. Best is trial 32 with value: 0.3465287926064601.\n",
      "[I 2024-12-08 21:59:54,382] Trial 41 finished with value: 0.3496139896828914 and parameters: {'n_estimators': 476, 'max_depth': 10, 'learning_rate': 0.24171085271940962, 'subsample': 0.9036024067135267, 'colsample_bytree': 0.8058483200040327, 'reg_alpha': 6.165898474464858, 'reg_lambda': 7.197806203860665}. Best is trial 32 with value: 0.3465287926064601.\n",
      "[I 2024-12-08 22:00:14,094] Trial 42 finished with value: 0.34816057579951115 and parameters: {'n_estimators': 486, 'max_depth': 10, 'learning_rate': 0.20360117888379747, 'subsample': 0.882508195225495, 'colsample_bytree': 0.7961594907632525, 'reg_alpha': 7.802412509715316, 'reg_lambda': 5.970603745430343}. Best is trial 32 with value: 0.3465287926064601.\n",
      "[I 2024-12-08 22:00:28,035] Trial 43 finished with value: 0.3482904547588959 and parameters: {'n_estimators': 458, 'max_depth': 10, 'learning_rate': 0.18674177324586844, 'subsample': 0.9170333415537756, 'colsample_bytree': 0.8359090274790095, 'reg_alpha': 6.717461634952516, 'reg_lambda': 7.589015746273991}. Best is trial 32 with value: 0.3465287926064601.\n",
      "[I 2024-12-08 22:00:33,360] Trial 44 finished with value: 0.5066684980111664 and parameters: {'n_estimators': 476, 'max_depth': 3, 'learning_rate': 0.21922783142768687, 'subsample': 0.9672010268279387, 'colsample_bytree': 0.6952079800958599, 'reg_alpha': 5.185668835479507, 'reg_lambda': 4.336042066731767}. Best is trial 32 with value: 0.3465287926064601.\n",
      "[I 2024-12-08 22:00:46,870] Trial 45 finished with value: 0.35552902936207376 and parameters: {'n_estimators': 468, 'max_depth': 9, 'learning_rate': 0.17029984254827926, 'subsample': 0.6043356182872885, 'colsample_bytree': 0.8835193269418011, 'reg_alpha': 8.469971366662548, 'reg_lambda': 6.342377230810623}. Best is trial 32 with value: 0.3465287926064601.\n",
      "[I 2024-12-08 22:00:53,093] Trial 46 finished with value: 0.40554307185191735 and parameters: {'n_estimators': 457, 'max_depth': 5, 'learning_rate': 0.2052517626754142, 'subsample': 0.678545615949973, 'colsample_bytree': 0.7673032638101257, 'reg_alpha': 3.8109285642702178, 'reg_lambda': 6.779237005590672}. Best is trial 32 with value: 0.3465287926064601.\n",
      "[I 2024-12-08 22:01:03,864] Trial 47 finished with value: 0.3543429103204601 and parameters: {'n_estimators': 344, 'max_depth': 10, 'learning_rate': 0.14381445178967733, 'subsample': 0.7724672922472863, 'colsample_bytree': 0.7438124772199511, 'reg_alpha': 9.016798196119638, 'reg_lambda': 8.245736719502872}. Best is trial 32 with value: 0.3465287926064601.\n",
      "[I 2024-12-08 22:01:17,437] Trial 48 finished with value: 0.34950867006331543 and parameters: {'n_estimators': 489, 'max_depth': 9, 'learning_rate': 0.23452563757578426, 'subsample': 0.9442114251087154, 'colsample_bytree': 0.8527917088370075, 'reg_alpha': 7.105479429378894, 'reg_lambda': 6.033726026267749}. Best is trial 32 with value: 0.3465287926064601.\n",
      "[I 2024-12-08 22:01:32,111] Trial 49 finished with value: 0.3494913446843959 and parameters: {'n_estimators': 437, 'max_depth': 10, 'learning_rate': 0.19386410012451938, 'subsample': 0.8558168432093258, 'colsample_bytree': 0.9089701381092319, 'reg_alpha': 5.4839554466922635, 'reg_lambda': 6.893441851325585}. Best is trial 32 with value: 0.3465287926064601.\n"
     ]
    },
    {
     "name": "stdout",
     "output_type": "stream",
     "text": [
      "Best hyperparameters: {'n_estimators': 483, 'max_depth': 10, 'learning_rate': 0.18485999909119089, 'subsample': 0.934932641877267, 'colsample_bytree': 0.771387389415114, 'reg_alpha': 7.027793583280011, 'reg_lambda': 6.210938607181354}\n"
     ]
    }
   ],
   "source": [
    "def objective(trial):\n",
    "    params = {\n",
    "        \"n_estimators\": trial.suggest_int(\"n_estimators\", 300, 500),\n",
    "        \"max_depth\": trial.suggest_int(\"max_depth\", 3, 10),\n",
    "        \"learning_rate\": trial.suggest_float(\"learning_rate\", 0.01, 0.3),\n",
    "        \"subsample\": trial.suggest_float(\"subsample\", 0.5, 1.0),\n",
    "        \"colsample_bytree\": trial.suggest_float(\"colsample_bytree\", 0.5, 1.0),\n",
    "        \"reg_alpha\": trial.suggest_float(\"reg_alpha\", 1.0, 10.0),\n",
    "        \"reg_lambda\": trial.suggest_float(\"reg_lambda\", 1.0, 10.0),\n",
    "    }\n",
    "    \n",
    "    xgb_model = XGBRegressor(**params, random_state=42)\n",
    "    pipeline = Pipeline([\n",
    "        (\"preprocessor\", preprocessor),\n",
    "        (\"model\", xgb_model)\n",
    "    ])\n",
    "    pipeline.fit(X_train_encoded3, y_train)\n",
    "    y_pred = pipeline.predict(X_test_encoded3)\n",
    "    rmse = root_mean_squared_error(y_test, y_pred)\n",
    "    return rmse\n",
    "\n",
    "# Run Optuna optimization\n",
    "study = optuna.create_study(direction=\"minimize\")\n",
    "study.optimize(objective, n_trials=50)\n",
    "\n",
    "# Best hyperparameters\n",
    "print(\"Best hyperparameters:\", study.best_params)\n",
    "\n",
    "best_params = study.best_params\n",
    "best_model = XGBRegressor(**best_params, random_state=42)\n",
    "\n",
    "xgboost_pipeline = Pipeline([\n",
    "    (\"preprocessor\", preprocessor),\n",
    "    (\"model\", best_model)\n",
    "])"
   ]
  },
  {
   "cell_type": "code",
   "execution_count": 10,
   "id": "ea2734c8-405a-42f2-97fd-0dee43dd443b",
   "metadata": {},
   "outputs": [
    {
     "name": "stdout",
     "output_type": "stream",
     "text": [
      "Final XGBoost RMSE: 0.3465\n"
     ]
    }
   ],
   "source": [
    "xgboost_pipeline.fit(X_train_encoded3, y_train)\n",
    "y_pred = xgboost_pipeline.predict(X_test_encoded3)\n",
    "final_rmse = root_mean_squared_error(y_test, y_pred)\n",
    "print(f\"Final XGBoost RMSE: {final_rmse:.4f}\")"
   ]
  },
  {
   "cell_type": "code",
   "execution_count": 11,
   "id": "914b3c6b-3dc4-4cfc-a5a0-05ad0f34fde4",
   "metadata": {},
   "outputs": [],
   "source": [
    "df_test = pd.read_parquet(\"./data/final_test.parquet\")\n",
    "df_test_merged = df_test.merge(weather_data_interpolated, on='date', how='left')\n",
    "df_test_merged = df_test_merged.assign(**encode_dates(df_test_merged[[\"date\"]]))\n",
    "df_test_merged = df_test_merged.assign(**engineer_weather_features(df_test_merged))\n",
    "X_test_final = df_test_merged[[\n",
    "    \"counter_name\", \"site_name\", \"longitude\", \"latitude\", \"ff\", \"t\", \"u\", \"vv\", \"n\", \"pres\", \"ht_neige\", \"rr1\",\n",
    "    \"rain_category\", \"snow_category\", \"is_hot_day\", \"is_cold_day\", \"high_wind\", \"rain_with_wind\", \"rolling_rain\",\n",
    "    \"year\", \"month\", \"day\", \"weekday\", \"sin_hour\", \"cos_hour\", \"is_peak\", \"holiday\", \"weekend\", \"lockdown\"\n",
    "]]\n",
    "X_test_final = preprocessor.transform(X_test_final)\n",
    "final_predictions = xgboost_pipeline.named_steps['model'].predict(X_test_final)\n",
    "\n",
    "results = pd.DataFrame({\"Id\": np.arange(final_predictions.shape[0]), \"log_bike_count\": final_predictions})\n",
    "results.to_csv(\"submission_xgboost_optuna.csv\", index=False)"
   ]
  },
  {
   "cell_type": "code",
   "execution_count": 12,
   "id": "1b5b3d87-345a-4fe5-8746-a333f18ade26",
   "metadata": {},
   "outputs": [
    {
     "data": {
      "image/png": "[encoded data removed]",
      "text/plain": [
       "<Figure size 640x480 with 1 Axes>"
      ]
     },
     "metadata": {},
     "output_type": "display_data"
    }
   ],
   "source": [
    "from sklearn.inspection import permutation_importance\n",
    "\n",
    "result = permutation_importance(\n",
    "    xgboost_pipeline, X_test_encoded3, y_test, n_repeats=10, random_state=42\n",
    ")\n",
    "\n",
    "# Visualize\n",
    "sorted_idx = result.importances_mean.argsort()\n",
    "plt.barh(\n",
    "    X_test_encoded3.columns[sorted_idx],\n",
    "    result.importances_mean[sorted_idx]\n",
    ")\n",
    "plt.xlabel(\"Permutation Importance\")\n",
    "plt.show()"
   ]
  },
  {
   "cell_type": "code",
   "execution_count": null,
   "id": "cb1db5af-961d-45fc-9e66-220bc2732816",
   "metadata": {},
   "outputs": [],
   "source": []
  }
 ],
 "metadata": {
  "kernelspec": {
   "display_name": "Python 3 (ipykernel)",
   "language": "python",
   "name": "python3"
  },
  "language_info": {
   "codemirror_mode": {
    "name": "ipython",
    "version": 3
   },
   "file_extension": ".py",
   "mimetype": "text/x-python",
   "name": "python",
   "nbconvert_exporter": "python",
   "pygments_lexer": "ipython3",
   "version": "3.12.4"
  }
 },
 "nbformat": 4,
 "nbformat_minor": 5
}
