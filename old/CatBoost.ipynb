{
 "cells": [
  {
   "cell_type": "code",
   "execution_count": 1,
   "id": "76830023-134a-4eb8-9584-8352d7d6f580",
   "metadata": {},
   "outputs": [],
   "source": [
    "from pathlib import Path\n",
    "import numpy as np\n",
    "import pandas as pd\n",
    "from catboost import CatBoostRegressor\n",
    "from sklearn.model_selection import train_test_split, GridSearchCV\n",
    "from sklearn.metrics import mean_squared_error\n",
    "from jours_feries_france import JoursFeries"
   ]
  },
  {
   "cell_type": "code",
   "execution_count": 2,
   "id": "4ac26043-4ca4-4a67-89bd-fa0e571fac6e",
   "metadata": {},
   "outputs": [
    {
     "name": "stdout",
     "output_type": "stream",
     "text": [
      "                counter_id              counter_name    site_id  \\\n",
      "48321  100007049-102007049  28 boulevard Diderot E-O  100007049   \n",
      "48324  100007049-102007049  28 boulevard Diderot E-O  100007049   \n",
      "48327  100007049-102007049  28 boulevard Diderot E-O  100007049   \n",
      "48330  100007049-102007049  28 boulevard Diderot E-O  100007049   \n",
      "48333  100007049-102007049  28 boulevard Diderot E-O  100007049   \n",
      "\n",
      "                  site_name  bike_count                date  \\\n",
      "48321  28 boulevard Diderot         0.0 2020-09-01 02:00:00   \n",
      "48324  28 boulevard Diderot         1.0 2020-09-01 03:00:00   \n",
      "48327  28 boulevard Diderot         0.0 2020-09-01 04:00:00   \n",
      "48330  28 boulevard Diderot         4.0 2020-09-01 15:00:00   \n",
      "48333  28 boulevard Diderot         9.0 2020-09-01 18:00:00   \n",
      "\n",
      "      counter_installation_date         coordinates counter_technical_id  \\\n",
      "48321                2013-01-18  48.846028,2.375429          Y2H15027244   \n",
      "48324                2013-01-18  48.846028,2.375429          Y2H15027244   \n",
      "48327                2013-01-18  48.846028,2.375429          Y2H15027244   \n",
      "48330                2013-01-18  48.846028,2.375429          Y2H15027244   \n",
      "48333                2013-01-18  48.846028,2.375429          Y2H15027244   \n",
      "\n",
      "        latitude  longitude  log_bike_count  \n",
      "48321  48.846028   2.375429        0.000000  \n",
      "48324  48.846028   2.375429        0.693147  \n",
      "48327  48.846028   2.375429        0.000000  \n",
      "48330  48.846028   2.375429        1.609438  \n",
      "48333  48.846028   2.375429        2.302585  \n",
      "<class 'pandas.core.frame.DataFrame'>\n",
      "Index: 496827 entries, 48321 to 929187\n",
      "Data columns (total 12 columns):\n",
      " #   Column                     Non-Null Count   Dtype         \n",
      "---  ------                     --------------   -----         \n",
      " 0   counter_id                 496827 non-null  category      \n",
      " 1   counter_name               496827 non-null  category      \n",
      " 2   site_id                    496827 non-null  int64         \n",
      " 3   site_name                  496827 non-null  category      \n",
      " 4   bike_count                 496827 non-null  float64       \n",
      " 5   date                       496827 non-null  datetime64[us]\n",
      " 6   counter_installation_date  496827 non-null  datetime64[us]\n",
      " 7   coordinates                496827 non-null  category      \n",
      " 8   counter_technical_id       496827 non-null  category      \n",
      " 9   latitude                   496827 non-null  float64       \n",
      " 10  longitude                  496827 non-null  float64       \n",
      " 11  log_bike_count             496827 non-null  float64       \n",
      "dtypes: category(5), datetime64[us](2), float64(4), int64(1)\n",
      "memory usage: 32.7 MB\n",
      "None\n"
     ]
    }
   ],
   "source": [
    "data = pd.read_parquet(Path(\"data\") / \"train.parquet\")\n",
    "print(data.head())\n",
    "print(data.info())"
   ]
  },
  {
   "cell_type": "code",
   "execution_count": 3,
   "id": "8726b5e2-62a5-46f2-9b34-35a4542e7ed3",
   "metadata": {},
   "outputs": [],
   "source": [
    "# Define holidays for 2020 and 2021\n",
    "holidays_2020_2021 = (\n",
    "    list(JoursFeries.for_year(2020).values()) +\n",
    "    list(JoursFeries.for_year(2021).values())\n",
    ")\n",
    "holidays_2020_2021 = pd.to_datetime(holidays_2020_2021)"
   ]
  },
  {
   "cell_type": "code",
   "execution_count": 4,
   "id": "f30fc51d-e746-440a-afe9-0680af42a997",
   "metadata": {},
   "outputs": [],
   "source": [
    "# Date encoding function\n",
    "def _encode_dates(X):\n",
    "    \"\"\"\n",
    "    Encode date information from the 'date' column.\n",
    "    Adds year, month, day, weekday, hour, holiday, and weekend indicators.\n",
    "    \"\"\"\n",
    "    lockdown_periods = [\n",
    "        (\"2020-03-17\", \"2020-05-11\"),\n",
    "        (\"2020-10-30\", \"2020-12-14\"),\n",
    "        (\"2021-04-03\", \"2021-06-30\"),\n",
    "    ]\n",
    "    lockdown_ranges = [\n",
    "        (pd.to_datetime(start), pd.to_datetime(end)) for start, end in lockdown_periods\n",
    "    ]\n",
    "    X = X.copy()\n",
    "    X[\"year\"] = X[\"date\"].dt.year\n",
    "    X[\"month\"] = X[\"date\"].dt.month\n",
    "    X[\"day\"] = X[\"date\"].dt.day\n",
    "    X[\"weekday\"] = X[\"date\"].dt.weekday\n",
    "    X[\"hour\"] = X[\"date\"].dt.hour\n",
    "    X['holiday'] = X['date'].isin(holidays_2020_2021).astype(int)\n",
    "    X['weekend'] = (X['date'].dt.dayofweek > 4).astype(int)\n",
    "    X[\"lockdown\"] = X[\"date\"].apply(\n",
    "        lambda d: any(start <= d <= end for start, end in lockdown_ranges)\n",
    "    ).astype(int)\n",
    "    \n",
    "    return X.drop(columns=[\"date\"])"
   ]
  },
  {
   "cell_type": "code",
   "execution_count": 5,
   "id": "4ab7e499-86fc-49d1-afad-99b79265e1c8",
   "metadata": {},
   "outputs": [],
   "source": [
    "data = data.assign(**_encode_dates(data[[\"date\"]]))"
   ]
  },
  {
   "cell_type": "code",
   "execution_count": 6,
   "id": "99203291-5125-416d-bf22-0533ce70506e",
   "metadata": {},
   "outputs": [],
   "source": [
    "# Load weather data\n",
    "important_columns = [\"date\", \"pres\", \"ff\", \"t\", \"u\", \"vv\", \"n\", \"hbas\", \"ht_neige\", \"rr1\"]\n",
    "weather_data = pd.read_csv('./external_data/external_data.csv', usecols=important_columns)\n",
    "weather_data['date'] = pd.to_datetime(weather_data['date'])\n",
    "weather_data = weather_data.dropna(axis=1, how='all')\n",
    "weather_data.set_index('date', inplace=True)\n",
    "weather_data = weather_data[~weather_data.index.duplicated(keep='first')]\n",
    "weather_data_interpolated = weather_data.resample('h').interpolate(method='linear')"
   ]
  },
  {
   "cell_type": "code",
   "execution_count": 7,
   "id": "a4c8d67a-feb8-4a37-b4ad-365ad345ae00",
   "metadata": {},
   "outputs": [],
   "source": [
    "# Merge with main dataset\n",
    "merged_data = data.merge(weather_data_interpolated, on='date', how='left')"
   ]
  },
  {
   "cell_type": "code",
   "execution_count": 8,
   "id": "b8c47135-e081-48fa-bbd5-cfad15327c38",
   "metadata": {},
   "outputs": [],
   "source": [
    "X = merged_data[\n",
    "    [\"counter_name\", \"site_name\", \"year\", \"month\", \"day\", \"weekday\", \"hour\", \"holiday\",\n",
    "     \"weekend\", \"lockdown\", \"longitude\", \"latitude\", \"ff\", \"t\", \"u\", \"vv\", \"n\", \"hbas\", \"pres\", \"ht_neige\", \"rr1\"]\n",
    "]\n",
    "y = merged_data['log_bike_count']\n",
    "\n",
    "X_train, X_test, y_train, y_test = train_test_split(X, y, test_size=0.2, random_state=42)\n",
    "\n",
    "categorical_features = [\"counter_name\", \"site_name\", \"month\", \"weekday\", \"holiday\", \"weekend\", \"lockdown\"]"
   ]
  },
  {
   "cell_type": "code",
   "execution_count": 9,
   "id": "4fe05279-7196-4339-8533-ea3e91014d6b",
   "metadata": {},
   "outputs": [
    {
     "name": "stdout",
     "output_type": "stream",
     "text": [
      "Fitting 3 folds for each of 27 candidates, totalling 81 fits\n",
      "Best Parameters: {'depth': 8, 'iterations': 500, 'learning_rate': 0.2}\n",
      "Best Score: 0.386950514960059\n",
      "Test RMSE: 0.382036896546149\n"
     ]
    }
   ],
   "source": [
    "# Define CatBoost model\n",
    "model = CatBoostRegressor(\n",
    "    loss_function='RMSE',\n",
    "    cat_features=categorical_features,\n",
    "    random_state=42,\n",
    "    verbose=0  # Suppress training logs for GridSearchCV\n",
    ")\n",
    "\n",
    "# Define parameter grid for GridSearchCV\n",
    "param_grid = {\n",
    "    \"iterations\": [100, 300, 500],\n",
    "    \"learning_rate\": [0.01, 0.1, 0.2],\n",
    "    \"depth\": [4, 6, 8],\n",
    "}\n",
    "\n",
    "# Perform Grid Search\n",
    "grid_search = GridSearchCV(\n",
    "    estimator=model,\n",
    "    param_grid=param_grid,\n",
    "    scoring=\"neg_root_mean_squared_error\",\n",
    "    cv=3,\n",
    "    verbose=1,\n",
    "    n_jobs=-1\n",
    ")\n",
    "\n",
    "# Fit GridSearchCV\n",
    "grid_search.fit(X_train, y_train)\n",
    "\n",
    "# Best parameters and evaluation\n",
    "print(f\"Best Parameters: {grid_search.best_params_}\")\n",
    "print(f\"Best Score: {-grid_search.best_score_}\")\n",
    "\n",
    "# Evaluate best model on test data\n",
    "best_model = grid_search.best_estimator_\n",
    "y_pred = best_model.predict(X_test)\n",
    "rmse = np.sqrt(mean_squared_error(y_test, y_pred))\n",
    "print(f\"Test RMSE: {rmse}\")"
   ]
  },
  {
   "cell_type": "code",
   "execution_count": 10,
   "id": "011bd10e-5b3f-4476-8a13-6b44f8f6037b",
   "metadata": {},
   "outputs": [],
   "source": [
    "# Load and preprocess test set\n",
    "df_test = pd.read_parquet(\"./data/final_test.parquet\")\n",
    "df_test = df_test.merge(weather_data_interpolated, on='date', how='left')\n",
    "df_test = df_test.assign(**_encode_dates(df_test[[\"date\"]]))\n",
    "\n",
    "# Prepare features for prediction\n",
    "X_test_final = df_test[\n",
    "    [\"counter_name\", \"site_name\", \"year\", \"month\", \"day\", \"weekday\", \"hour\", \"holiday\",\n",
    "     \"weekend\", \"lockdown\", \"longitude\", \"latitude\", \"ff\", \"t\", \"u\", \"vv\", \"n\", \"hbas\", \"pres\", \"ht_neige\", \"rr1\"]\n",
    "]\n",
    "\n",
    "# Make predictions on the test set\n",
    "y_test_pred = best_model.predict(X_test_final)\n",
    "\n",
    "# Save results\n",
    "results = pd.DataFrame(\n",
    "    dict(\n",
    "        Id=np.arange(y_test_pred.shape[0]),\n",
    "        log_bike_count=y_test_pred,\n",
    "    )\n",
    ")\n",
    "results.to_csv(\"submission.csv\", index=False)"
   ]
  }
 ],
 "metadata": {
  "kernelspec": {
   "display_name": "Python 3 (ipykernel)",
   "language": "python",
   "name": "python3"
  },
  "language_info": {
   "codemirror_mode": {
    "name": "ipython",
    "version": 3
   },
   "file_extension": ".py",
   "mimetype": "text/x-python",
   "name": "python",
   "nbconvert_exporter": "python",
   "pygments_lexer": "ipython3",
   "version": "3.12.4"
  }
 },
 "nbformat": 4,
 "nbformat_minor": 5
}
