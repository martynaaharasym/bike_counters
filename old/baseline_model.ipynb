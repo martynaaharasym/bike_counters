{
 "cells": [
  {
   "cell_type": "code",
   "execution_count": 1,
   "id": "fbe933c2-19be-4af8-863a-87ca84a7a74c",
   "metadata": {},
   "outputs": [],
   "source": [
    "from pathlib import Path\n",
    "import pandas as pd\n",
    "import numpy as np\n",
    "from sklearn.model_selection import train_test_split\n",
    "from sklearn.pipeline import Pipeline\n",
    "from sklearn.compose import ColumnTransformer\n",
    "from sklearn.preprocessing import OneHotEncoder\n",
    "from sklearn.linear_model import Ridge\n",
    "from sklearn.ensemble import RandomForestRegressor\n",
    "from xgboost import XGBRegressor\n",
    "from catboost import CatBoostRegressor\n",
    "from sklearn.metrics import root_mean_squared_error\n",
    "from jours_feries_france import JoursFeries\n",
    "import matplotlib.pyplot as plt"
   ]
  },
  {
   "cell_type": "code",
   "execution_count": 2,
   "id": "652b34ba-07c3-4fe2-af4a-29f6f285b704",
   "metadata": {},
   "outputs": [],
   "source": [
    "holidays_2020_2021 = (\n",
    "    list(JoursFeries.for_year(2020).values()) +\n",
    "    list(JoursFeries.for_year(2021).values())\n",
    ")\n",
    "\n",
    "holidays_2020_2021 = pd.to_datetime(holidays_2020_2021)"
   ]
  },
  {
   "cell_type": "code",
   "execution_count": 3,
   "id": "e07dfc92-ff8f-43f1-81ed-0ad7c9b182b1",
   "metadata": {},
   "outputs": [],
   "source": [
    "def encode_dates(X):\n",
    "    \"\"\"\n",
    "    Encode date information from the 'date' column.\n",
    "    Adds year, month, day, weekday, hour, holiday, and weekend indicators.\n",
    "    \"\"\"\n",
    "    lockdown_periods = [\n",
    "        (\"2020-03-17\", \"2020-05-11\"),\n",
    "        (\"2020-10-30\", \"2020-12-14\"),\n",
    "        (\"2021-04-03\", \"2021-06-30\"),\n",
    "    ]\n",
    "    \n",
    "    lockdown_ranges = [\n",
    "        (pd.to_datetime(start), pd.to_datetime(end)) for start, end in lockdown_periods\n",
    "    ]\n",
    "    \n",
    "    X = X.copy()\n",
    "    X[\"year\"] = X[\"date\"].dt.year\n",
    "    X[\"month\"] = X[\"date\"].dt.month\n",
    "    X[\"day\"] = X[\"date\"].dt.day\n",
    "    X[\"weekday\"] = X[\"date\"].dt.weekday\n",
    "    X[\"hour\"] = X[\"date\"].dt.hour\n",
    "    X[\"holiday\"] = X[\"date\"].isin(holidays_2020_2021).astype(int)\n",
    "    X[\"weekend\"] = (X[\"date\"].dt.dayofweek > 4).astype(int)\n",
    "    X[\"lockdown\"] = X[\"date\"].apply(\n",
    "        lambda d: any(start <= d <= end for start, end in lockdown_ranges)\n",
    "    ).astype(int)\n",
    "    \n",
    "    return X.drop(columns=['date'])"
   ]
  },
  {
   "cell_type": "code",
   "execution_count": 4,
   "id": "2466e382-867c-4b59-afe4-2c0041b46296",
   "metadata": {},
   "outputs": [],
   "source": [
    "data = pd.read_parquet(Path(\"data\") / \"train.parquet\")\n",
    "\n",
    "important_columns = [\"date\", \"pres\", \"ff\", \"t\", \"u\", \"vv\", \"n\", \"ht_neige\", \"rr1\"]\n",
    "weather_data = pd.read_csv(\"./external_data/external_data.csv\", usecols=important_columns)"
   ]
  },
  {
   "cell_type": "code",
   "execution_count": 5,
   "id": "a48d3044-0506-4a53-bc89-b33f6af76c8c",
   "metadata": {},
   "outputs": [],
   "source": [
    "weather_data[\"date\"] = pd.to_datetime(weather_data[\"date\"])\n",
    "weather_data = weather_data.dropna(axis=1, how=\"all\")\n",
    "weather_data.set_index(\"date\", inplace=True)\n",
    "weather_data = weather_data[~weather_data.index.duplicated(keep=\"first\")]\n",
    "weather_data_interpolated = weather_data.resample(\"h\").interpolate(method=\"linear\")"
   ]
  },
  {
   "cell_type": "code",
   "execution_count": 6,
   "id": "6247d7d8-2897-4ae4-ab64-54a82798753b",
   "metadata": {},
   "outputs": [],
   "source": [
    "merged_data = data.merge(weather_data_interpolated, on=\"date\", how=\"left\")\n",
    "\n",
    "X = merged_data[[\"counter_name\", \"site_name\", \"date\", \"longitude\", \"latitude\", \"ff\", \"t\", \"u\", \"vv\", \"n\", \"pres\", \"ht_neige\", \"rr1\"]]\n",
    "y = merged_data[\"log_bike_count\"]\n",
    "\n",
    "X_train, X_test, y_train, y_test = train_test_split(X, y, test_size=0.2, random_state=42)\n",
    "\n",
    "# Apply date encoding\n",
    "X_train_encoded = encode_dates(X_train)\n",
    "X_test_encoded = encode_dates(X_test)\n",
    "\n",
    "# Column transformer for preprocessing\n",
    "categorical_features = [\"counter_name\", \"site_name\"]\n",
    "numerical_features = list(X_train_encoded.drop(columns=categorical_features).columns)\n",
    "\n",
    "preprocessor = ColumnTransformer(\n",
    "    transformers=[\n",
    "        (\"cat\", OneHotEncoder(handle_unknown=\"ignore\"), categorical_features),\n",
    "        (\"num\", \"passthrough\", numerical_features)\n",
    "    ]\n",
    ")"
   ]
  },
  {
   "cell_type": "code",
   "execution_count": 7,
   "id": "c26c8eff-9dbd-422d-9f57-b3eb38a009fb",
   "metadata": {},
   "outputs": [],
   "source": [
    "ridge = Ridge()\n",
    "catboost = CatBoostRegressor(verbose=0, random_state=42)\n",
    "random_forest = RandomForestRegressor(random_state=42)\n",
    "xgboost = XGBRegressor(random_state=42)\n",
    "\n",
    "ridge_pipeline = Pipeline([\n",
    "    (\"preprocessor\", preprocessor),\n",
    "    (\"model\", ridge)\n",
    "])\n",
    "\n",
    "catboost_pipeline = Pipeline([\n",
    "    (\"preprocessor\", preprocessor),\n",
    "    (\"model\", catboost)\n",
    "])\n",
    "\n",
    "random_forest_pipeline = Pipeline([\n",
    "    (\"preprocessor\", preprocessor),\n",
    "    (\"model\", random_forest)\n",
    "])\n",
    "\n",
    "xgboost_pipeline = Pipeline([\n",
    "    (\"preprocessor\", preprocessor),\n",
    "    (\"model\", xgboost)\n",
    "])\n",
    "\n",
    "pipelines = {\n",
    "    \"Ridge\": ridge_pipeline,\n",
    "    \"CatBoost\": catboost_pipeline,\n",
    "#   \"RandomForest\": random_forest_pipeline,\n",
    "    \"XGBoost\": xgboost_pipeline\n",
    "}"
   ]
  },
  {
   "cell_type": "code",
   "execution_count": 8,
   "id": "c22eb3ab-5f66-45dc-a1bc-af40f222bb50",
   "metadata": {},
   "outputs": [
    {
     "name": "stdout",
     "output_type": "stream",
     "text": [
      "\n",
      "Baseline Model Performance:\n",
      "Ridge RMSE: 1.3188\n",
      "CatBoost RMSE: 0.4072\n",
      "XGBoost RMSE: 0.4389\n"
     ]
    }
   ],
   "source": [
    "rmse_scores = {}\n",
    "\n",
    "print(\"\\nBaseline Model Performance:\")\n",
    "for name, pipeline in pipelines.items():\n",
    "    # Fit model\n",
    "    pipeline.fit(X_train_encoded, y_train)\n",
    "    \n",
    "    # Predict and calculate RMSE\n",
    "    y_pred = pipeline.predict(X_test_encoded)\n",
    "    rmse = root_mean_squared_error(y_test, y_pred)\n",
    "    rmse_scores[name] = rmse\n",
    "    print(f\"{name} RMSE: {rmse:.4f}\")"
   ]
  },
  {
   "cell_type": "code",
   "execution_count": 9,
   "id": "731bc9a6-70a9-467d-81a3-f5d848c74f1f",
   "metadata": {},
   "outputs": [
    {
     "data": {
      "image/png": "[encoded data removed]",
      "text/plain": [
       "<Figure size 800x600 with 1 Axes>"
      ]
     },
     "metadata": {},
     "output_type": "display_data"
    }
   ],
   "source": [
    "# Plot the RMSE scores\n",
    "plt.figure(figsize=(8, 6))\n",
    "plt.bar(rmse_scores.keys(), rmse_scores.values())\n",
    "plt.title(\"Baseline Model RMSE Scores\", fontsize=16)\n",
    "plt.ylabel(\"RMSE\", fontsize=14)\n",
    "plt.xlabel(\"Model\", fontsize=14)\n",
    "plt.xticks(fontsize=12)\n",
    "plt.yticks(fontsize=12)\n",
    "plt.tight_layout()\n",
    "plt.show()"
   ]
  }
 ],
 "metadata": {
  "kernelspec": {
   "display_name": "Python 3 (ipykernel)",
   "language": "python",
   "name": "python3"
  },
  "language_info": {
   "codemirror_mode": {
    "name": "ipython",
    "version": 3
   },
   "file_extension": ".py",
   "mimetype": "text/x-python",
   "name": "python",
   "nbconvert_exporter": "python",
   "pygments_lexer": "ipython3",
   "version": "3.12.4"
  }
 },
 "nbformat": 4,
 "nbformat_minor": 5
}
