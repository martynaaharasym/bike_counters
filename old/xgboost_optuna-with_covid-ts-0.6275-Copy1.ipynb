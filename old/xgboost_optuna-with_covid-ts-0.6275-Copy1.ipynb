{
 "cells": [
  {
   "cell_type": "code",
   "execution_count": 1,
   "id": "fbe933c2-19be-4af8-863a-87ca84a7a74c",
   "metadata": {},
   "outputs": [],
   "source": [
    "from pathlib import Path\n",
    "import pandas as pd\n",
    "import numpy as np\n",
    "from sklearn.model_selection import train_test_split\n",
    "from sklearn.pipeline import Pipeline\n",
    "from sklearn.compose import ColumnTransformer\n",
    "from sklearn.preprocessing import OneHotEncoder\n",
    "from sklearn.linear_model import Ridge\n",
    "from sklearn.ensemble import RandomForestRegressor\n",
    "from xgboost import XGBRegressor\n",
    "from catboost import CatBoostRegressor\n",
    "from sklearn.metrics import root_mean_squared_error\n",
    "import matplotlib.pyplot as plt\n",
    "import optuna\n",
    "from vacances_scolaires_france import SchoolHolidayDates\n",
    "from sklearn.model_selection import train_test_split\n",
    "import importlib\n",
    "from sklearn.preprocessing import StandardScaler\n",
    "\n",
    "from sklearn.model_selection import cross_val_score, KFold\n",
    "from sklearn.metrics import make_scorer\n",
    "\n",
    "from preprocess_FE import (\n",
    "    get_zone_c_holidays,\n",
    "    encode_dates,\n",
    "    engineer_weather_features, \n",
    "    remove_outliers, \n",
    "    get_public_holidays\n",
    ")\n",
    "\n",
    "from sklearn.model_selection import TimeSeriesSplit"
   ]
  },
  {
   "cell_type": "code",
   "execution_count": 2,
   "id": "652b34ba-07c3-4fe2-af4a-29f6f285b704",
   "metadata": {},
   "outputs": [],
   "source": [
    "school_holidays = get_zone_c_holidays()\n",
    "public_holidays = get_public_holidays()"
   ]
  },
  {
   "cell_type": "code",
   "execution_count": 3,
   "id": "2466e382-867c-4b59-afe4-2c0041b46296",
   "metadata": {},
   "outputs": [
    {
     "name": "stderr",
     "output_type": "stream",
     "text": [
      "/Users/martynaharasym/bike_counters/preprocess_FE.py:213: FutureWarning: The default of observed=False is deprecated and will be changed to True in a future version of pandas. Pass observed=False to retain current behavior or observed=True to adopt the future default and silence this warning.\n",
      "  data.groupby([\"counter_name\", \"date_truncated\"])\n"
     ]
    }
   ],
   "source": [
    "data = pd.read_parquet(Path(\"data\") / \"train.parquet\")\n",
    "data = remove_outliers(data)\n",
    "data = data.sort_values([\"date\", \"counter_name\"])\n",
    "\n",
    "important_columns = [\"date\", \"pres\", \"ff\", \"t\", \"vv\", \"rr1\"]\n",
    "weather_data = pd.read_csv(\"./external_data/external_data.csv\", usecols=important_columns)"
   ]
  },
  {
   "cell_type": "code",
   "execution_count": 4,
   "id": "a48d3044-0506-4a53-bc89-b33f6af76c8c",
   "metadata": {},
   "outputs": [],
   "source": [
    "weather_data[\"date\"] = pd.to_datetime(weather_data[\"date\"])\n",
    "weather_data = weather_data.dropna(axis=1, how=\"all\")\n",
    "weather_data.set_index(\"date\", inplace=True)\n",
    "weather_data = weather_data[~weather_data.index.duplicated(keep=\"first\")]\n",
    "weather_data_interpolated = weather_data.resample(\"h\").interpolate(method=\"linear\")"
   ]
  },
  {
   "cell_type": "code",
   "execution_count": 5,
   "id": "3b2bd2ad-49d2-4afb-92a6-31b91ec0a4c2",
   "metadata": {},
   "outputs": [],
   "source": [
    "columns = ['date', 'nouveaux_patients_hospitalises']\n",
    "covid_data = pd.read_csv('./synthese-fra (1).csv', parse_dates=False, usecols=columns)\n",
    "covid_data['date_only'] = pd.to_datetime(covid_data['date']).dt.date"
   ]
  },
  {
   "cell_type": "code",
   "execution_count": 6,
   "id": "6247d7d8-2897-4ae4-ab64-54a82798753b",
   "metadata": {},
   "outputs": [],
   "source": [
    "merged_data = data.merge(weather_data_interpolated, on=\"date\", how=\"left\")\n",
    "merged_data['date_only'] = pd.to_datetime(merged_data['date']).dt.date\n",
    "\n",
    "merged_data = merged_data.merge(covid_data, on=\"date_only\", how=\"left\")"
   ]
  },
  {
   "cell_type": "code",
   "execution_count": 7,
   "id": "f3e20524-694e-4c9c-bb72-197628936fe9",
   "metadata": {},
   "outputs": [],
   "source": [
    "X = merged_data[[\"counter_name\", \"date_x\", \"longitude\", \"latitude\", \"ff\", \"t\", \"vv\", \"pres\", \"rr1\", \"nouveaux_patients_hospitalises\"]]\n",
    "y = merged_data[\"log_bike_count\"]\n",
    "\n",
    "X_train, X_test, y_train, y_test = train_test_split(X, y, test_size=0.2, random_state=42)\n",
    "\n",
    "# Apply date encoding\n",
    "\n",
    "X_train_encoded1 = encode_dates(X_train, school_holidays, public_holidays)\n",
    "X_test_encoded1 = encode_dates(X_test, school_holidays, public_holidays)\n",
    "\n",
    "X_train_encoded3 = engineer_weather_features(X_train_encoded1)\n",
    "X_test_encoded3 = engineer_weather_features(X_test_encoded1)\n",
    "\n",
    "# Column transformer for preprocessing\n",
    "categorical_features = [\"counter_name\", \"rain_category\", \"season\"]\n",
    "numerical_features = list(X_train_encoded3.drop(columns=categorical_features).columns)\n",
    "\n",
    "preprocessor = ColumnTransformer(\n",
    "    transformers=[\n",
    "        (\"cat\", OneHotEncoder(handle_unknown=\"ignore\"), categorical_features),\n",
    "        (\"num\", \"passthrough\", numerical_features)\n",
    "    ]\n",
    ")"
   ]
  },
  {
   "cell_type": "code",
   "execution_count": 8,
   "id": "2ff08e0a-3cbc-41b0-b5f3-22df21b1bf98",
   "metadata": {},
   "outputs": [],
   "source": [
    "time_series_split = TimeSeriesSplit(n_splits=5)"
   ]
  },
  {
   "cell_type": "code",
   "execution_count": 9,
   "id": "1953581f-fd22-4d01-9b75-45541cf42b2e",
   "metadata": {},
   "outputs": [
    {
     "name": "stderr",
     "output_type": "stream",
     "text": [
      "[I 2024-12-09 21:13:25,487] A new study created in memory with name: no-name-58e6111a-5b16-4456-a5fc-15411b7fb855\n",
      "[I 2024-12-09 21:13:36,020] Trial 0 finished with value: 0.45706969880933174 and parameters: {'n_estimators': 496, 'max_depth': 6, 'learning_rate': 0.10137596347315647, 'subsample': 0.5377044116718153, 'colsample_bytree': 0.8375991485498238, 'reg_alpha': 7.4023354236464485, 'reg_lambda': 7.431369557640119, 'min_child_weight': 6, 'gamma': 2.9773326663580524}. Best is trial 0 with value: 0.45706969880933174.\n",
      "[I 2024-12-09 21:13:42,774] Trial 1 finished with value: 0.40505957048499025 and parameters: {'n_estimators': 253, 'max_depth': 9, 'learning_rate': 0.22201398035450098, 'subsample': 0.9792976666278428, 'colsample_bytree': 0.773407708946725, 'reg_alpha': 5.652077312868899, 'reg_lambda': 1.174248421499645, 'min_child_weight': 6, 'gamma': 0.7091687070025032}. Best is trial 1 with value: 0.40505957048499025.\n",
      "[I 2024-12-09 21:13:49,337] Trial 2 finished with value: 0.47976224023125613 and parameters: {'n_estimators': 300, 'max_depth': 5, 'learning_rate': 0.25909577871218975, 'subsample': 0.6670597594677756, 'colsample_bytree': 0.8350450792654884, 'reg_alpha': 2.2741602651726978, 'reg_lambda': 4.815370207231772, 'min_child_weight': 2, 'gamma': 4.6968583221555775}. Best is trial 1 with value: 0.40505957048499025.\n",
      "[I 2024-12-09 21:14:13,395] Trial 3 finished with value: 0.3686319142976237 and parameters: {'n_estimators': 426, 'max_depth': 9, 'learning_rate': 0.22339372732663346, 'subsample': 0.788927350951052, 'colsample_bytree': 0.7018312661380257, 'reg_alpha': 7.001554554823086, 'reg_lambda': 2.0966847070919483, 'min_child_weight': 7, 'gamma': 0.055371517194851005}. Best is trial 3 with value: 0.3686319142976237.\n",
      "[I 2024-12-09 21:14:20,594] Trial 4 finished with value: 0.4266360775996364 and parameters: {'n_estimators': 277, 'max_depth': 9, 'learning_rate': 0.13975606022124543, 'subsample': 0.842322655901478, 'colsample_bytree': 0.9138398455039849, 'reg_alpha': 6.629009450336747, 'reg_lambda': 5.245465565996156, 'min_child_weight': 3, 'gamma': 2.9507614447352886}. Best is trial 3 with value: 0.3686319142976237.\n",
      "[I 2024-12-09 21:14:32,089] Trial 5 finished with value: 0.4500005010064426 and parameters: {'n_estimators': 474, 'max_depth': 7, 'learning_rate': 0.07459435021179157, 'subsample': 0.6974702634272467, 'colsample_bytree': 0.763146451724861, 'reg_alpha': 3.19394013992616, 'reg_lambda': 6.156806763774313, 'min_child_weight': 6, 'gamma': 3.684325294437886}. Best is trial 3 with value: 0.3686319142976237.\n",
      "[I 2024-12-09 21:14:43,718] Trial 6 finished with value: 0.4297935340382165 and parameters: {'n_estimators': 387, 'max_depth': 10, 'learning_rate': 0.06769046921696499, 'subsample': 0.8969541066853357, 'colsample_bytree': 0.6191664850950911, 'reg_alpha': 7.773604487089617, 'reg_lambda': 6.309133722167773, 'min_child_weight': 8, 'gamma': 3.648010848013439}. Best is trial 3 with value: 0.3686319142976237.\n",
      "[I 2024-12-09 21:14:55,218] Trial 7 finished with value: 0.4240596456110837 and parameters: {'n_estimators': 367, 'max_depth': 6, 'learning_rate': 0.13417917938322937, 'subsample': 0.5588918434340817, 'colsample_bytree': 0.7264054838519793, 'reg_alpha': 7.828427385735268, 'reg_lambda': 7.1361118120011175, 'min_child_weight': 9, 'gamma': 0.9625737754754327}. Best is trial 3 with value: 0.3686319142976237.\n",
      "[I 2024-12-09 21:15:01,390] Trial 8 finished with value: 0.45339051384074447 and parameters: {'n_estimators': 240, 'max_depth': 6, 'learning_rate': 0.2756796782284803, 'subsample': 0.8209611033028412, 'colsample_bytree': 0.7546651299980005, 'reg_alpha': 9.87724024415773, 'reg_lambda': 2.999058081190226, 'min_child_weight': 10, 'gamma': 2.4269757332801674}. Best is trial 3 with value: 0.3686319142976237.\n",
      "[I 2024-12-09 21:15:05,710] Trial 9 finished with value: 0.5177887413782157 and parameters: {'n_estimators': 116, 'max_depth': 4, 'learning_rate': 0.2311323116386293, 'subsample': 0.7935274233465703, 'colsample_bytree': 0.9915445626755324, 'reg_alpha': 4.230832784518665, 'reg_lambda': 3.474501901594446, 'min_child_weight': 3, 'gamma': 3.1661442980641508}. Best is trial 3 with value: 0.3686319142976237.\n",
      "[I 2024-12-09 21:15:25,086] Trial 10 finished with value: 0.38128696471483803 and parameters: {'n_estimators': 414, 'max_depth': 8, 'learning_rate': 0.19076376371189546, 'subsample': 0.6389149280172712, 'colsample_bytree': 0.5229115041587902, 'reg_alpha': 8.815855080978386, 'reg_lambda': 9.547238435927582, 'min_child_weight': 8, 'gamma': 0.08046799372799476}. Best is trial 3 with value: 0.3686319142976237.\n",
      "[I 2024-12-09 21:15:44,521] Trial 11 finished with value: 0.3840270589718625 and parameters: {'n_estimators': 411, 'max_depth': 8, 'learning_rate': 0.18817617884343735, 'subsample': 0.6331691379193822, 'colsample_bytree': 0.5056039838251344, 'reg_alpha': 9.74343702148179, 'reg_lambda': 9.943980994820178, 'min_child_weight': 8, 'gamma': 0.1075447128743136}. Best is trial 3 with value: 0.3686319142976237.\n",
      "[I 2024-12-09 21:15:54,208] Trial 12 finished with value: 0.43193845974510336 and parameters: {'n_estimators': 434, 'max_depth': 8, 'learning_rate': 0.18624862133345832, 'subsample': 0.7517017035707869, 'colsample_bytree': 0.5198698420988814, 'reg_alpha': 8.741437681211575, 'reg_lambda': 9.718184153908584, 'min_child_weight': 8, 'gamma': 1.5417636254161229}. Best is trial 3 with value: 0.3686319142976237.\n",
      "[I 2024-12-09 21:16:17,001] Trial 13 finished with value: 0.37090716679839664 and parameters: {'n_estimators': 348, 'max_depth': 10, 'learning_rate': 0.18728374617474736, 'subsample': 0.6115570653904145, 'colsample_bytree': 0.6092885151256582, 'reg_alpha': 5.806026377971409, 'reg_lambda': 1.181455643193543, 'min_child_weight': 5, 'gamma': 0.034484696197537426}. Best is trial 3 with value: 0.3686319142976237.\n",
      "[I 2024-12-09 21:16:39,134] Trial 14 finished with value: 0.43857635167129577 and parameters: {'n_estimators': 326, 'max_depth': 10, 'learning_rate': 0.021546790750325284, 'subsample': 0.7338340429722159, 'colsample_bytree': 0.6427863501295837, 'reg_alpha': 5.209351378142905, 'reg_lambda': 1.4028728249844034, 'min_child_weight': 4, 'gamma': 1.605815816947294}. Best is trial 3 with value: 0.3686319142976237.\n",
      "[I 2024-12-09 21:16:47,895] Trial 15 finished with value: 0.3998135431402757 and parameters: {'n_estimators': 342, 'max_depth': 10, 'learning_rate': 0.29845668177923357, 'subsample': 0.5834212121245447, 'colsample_bytree': 0.6284963792366348, 'reg_alpha': 1.0284310887234955, 'reg_lambda': 2.5307558122455394, 'min_child_weight': 5, 'gamma': 0.886150821898508}. Best is trial 3 with value: 0.3686319142976237.\n",
      "[I 2024-12-09 21:16:54,262] Trial 16 finished with value: 0.4226139076040184 and parameters: {'n_estimators': 215, 'max_depth': 9, 'learning_rate': 0.2282325364115811, 'subsample': 0.8969285541662146, 'colsample_bytree': 0.6827173288869098, 'reg_alpha': 6.042711759539614, 'reg_lambda': 2.251842972301377, 'min_child_weight': 5, 'gamma': 1.6715171970078757}. Best is trial 3 with value: 0.3686319142976237.\n",
      "[I 2024-12-09 21:16:59,682] Trial 17 finished with value: 0.5729197353741922 and parameters: {'n_estimators': 178, 'max_depth': 3, 'learning_rate': 0.1716617149580966, 'subsample': 0.5103898836171328, 'colsample_bytree': 0.5756288117100863, 'reg_alpha': 4.529515889200561, 'reg_lambda': 3.643918075776119, 'min_child_weight': 7, 'gamma': 0.44596496627497373}. Best is trial 3 with value: 0.3686319142976237.\n",
      "[I 2024-12-09 21:17:08,632] Trial 18 finished with value: 0.44319562852632827 and parameters: {'n_estimators': 455, 'max_depth': 7, 'learning_rate': 0.2528359355447641, 'subsample': 0.7612708161694739, 'colsample_bytree': 0.5765896615236021, 'reg_alpha': 6.7139788890435925, 'reg_lambda': 4.358936985089866, 'min_child_weight': 4, 'gamma': 2.0943897250458163}. Best is trial 3 with value: 0.3686319142976237.\n",
      "[I 2024-12-09 21:17:18,554] Trial 19 finished with value: 0.40448035200814514 and parameters: {'n_estimators': 363, 'max_depth': 9, 'learning_rate': 0.15724751197363435, 'subsample': 0.5979736990237972, 'colsample_bytree': 0.7049331923095392, 'reg_alpha': 3.8924009006300335, 'reg_lambda': 1.744745737363884, 'min_child_weight': 7, 'gamma': 1.146482888787178}. Best is trial 3 with value: 0.3686319142976237.\n",
      "[I 2024-12-09 21:17:40,498] Trial 20 finished with value: 0.3688976218306799 and parameters: {'n_estimators': 316, 'max_depth': 10, 'learning_rate': 0.21762692002256714, 'subsample': 0.7134980331728136, 'colsample_bytree': 0.665268096745248, 'reg_alpha': 5.305933801923451, 'reg_lambda': 4.16571471182514, 'min_child_weight': 1, 'gamma': 0.024478473207967883}. Best is trial 3 with value: 0.3686319142976237.\n",
      "[I 2024-12-09 21:18:03,947] Trial 21 finished with value: 0.3698046612075391 and parameters: {'n_estimators': 307, 'max_depth': 10, 'learning_rate': 0.20859436124290612, 'subsample': 0.6965767549244789, 'colsample_bytree': 0.6690841047646316, 'reg_alpha': 5.234607035340964, 'reg_lambda': 2.1231457870489114, 'min_child_weight': 1, 'gamma': 0.032570251921785046}. Best is trial 3 with value: 0.3686319142976237.\n",
      "[I 2024-12-09 21:18:14,876] Trial 22 finished with value: 0.3865616860378855 and parameters: {'n_estimators': 308, 'max_depth': 10, 'learning_rate': 0.21199030615930417, 'subsample': 0.709634486902815, 'colsample_bytree': 0.6667773517538571, 'reg_alpha': 4.932300834328204, 'reg_lambda': 3.998156431772067, 'min_child_weight': 1, 'gamma': 0.47283601508628254}. Best is trial 3 with value: 0.3686319142976237.\n",
      "[I 2024-12-09 21:18:25,422] Trial 23 finished with value: 0.38348586643531635 and parameters: {'n_estimators': 172, 'max_depth': 9, 'learning_rate': 0.24594466890474456, 'subsample': 0.6895216806109531, 'colsample_bytree': 0.7892421343379511, 'reg_alpha': 3.2722733440462526, 'reg_lambda': 2.4866738278802982, 'min_child_weight': 1, 'gamma': 0.35474131924518854}. Best is trial 3 with value: 0.3686319142976237.\n",
      "[I 2024-12-09 21:18:33,248] Trial 24 finished with value: 0.4193322350346616 and parameters: {'n_estimators': 262, 'max_depth': 8, 'learning_rate': 0.21081138735166918, 'subsample': 0.7761275677683961, 'colsample_bytree': 0.7033111950047355, 'reg_alpha': 6.714070648026425, 'reg_lambda': 3.09180391251042, 'min_child_weight': 2, 'gamma': 1.2246026906190741}. Best is trial 3 with value: 0.3686319142976237.\n",
      "[I 2024-12-09 21:18:43,084] Trial 25 finished with value: 0.39663126443331065 and parameters: {'n_estimators': 398, 'max_depth': 10, 'learning_rate': 0.28332703842741225, 'subsample': 0.866585812802426, 'colsample_bytree': 0.8243975095156255, 'reg_alpha': 6.311717368683744, 'reg_lambda': 2.215738784455023, 'min_child_weight': 2, 'gamma': 0.6387395250715452}. Best is trial 3 with value: 0.3686319142976237.\n",
      "[I 2024-12-09 21:18:58,022] Trial 26 finished with value: 0.38396726919135593 and parameters: {'n_estimators': 216, 'max_depth': 9, 'learning_rate': 0.20345044946527469, 'subsample': 0.6599757194333884, 'colsample_bytree': 0.5759515183706524, 'reg_alpha': 7.282833720346031, 'reg_lambda': 4.442577594248112, 'min_child_weight': 1, 'gamma': 0.05824374296115633}. Best is trial 3 with value: 0.3686319142976237.\n",
      "[I 2024-12-09 21:19:06,877] Trial 27 finished with value: 0.43187832160775563 and parameters: {'n_estimators': 317, 'max_depth': 7, 'learning_rate': 0.15681590193818684, 'subsample': 0.8069158656529297, 'colsample_bytree': 0.6700377997275069, 'reg_alpha': 5.049311394847047, 'reg_lambda': 1.8819545772377402, 'min_child_weight': 3, 'gamma': 1.8777694166693837}. Best is trial 3 with value: 0.3686319142976237.\n",
      "[I 2024-12-09 21:19:14,520] Trial 28 finished with value: 0.40593677019274726 and parameters: {'n_estimators': 288, 'max_depth': 10, 'learning_rate': 0.2412051560932948, 'subsample': 0.7293945054234089, 'colsample_bytree': 0.7185249722600937, 'reg_alpha': 3.3588079136208204, 'reg_lambda': 2.893119795243482, 'min_child_weight': 4, 'gamma': 1.2805082002581052}. Best is trial 3 with value: 0.3686319142976237.\n",
      "[I 2024-12-09 21:19:23,083] Trial 29 finished with value: 0.45257741298873055 and parameters: {'n_estimators': 500, 'max_depth': 8, 'learning_rate': 0.2638962511157342, 'subsample': 0.9595748920006324, 'colsample_bytree': 0.8860144460956643, 'reg_alpha': 7.395219674594337, 'reg_lambda': 7.805757362968363, 'min_child_weight': 7, 'gamma': 4.582406920949692}. Best is trial 3 with value: 0.3686319142976237.\n",
      "[I 2024-12-09 21:19:37,619] Trial 30 finished with value: 0.39210497058794136 and parameters: {'n_estimators': 446, 'max_depth': 9, 'learning_rate': 0.12671016417216216, 'subsample': 0.6746636809632984, 'colsample_bytree': 0.6488690613401454, 'reg_alpha': 2.466925469604325, 'reg_lambda': 5.322177398258655, 'min_child_weight': 2, 'gamma': 0.7852597257848927}. Best is trial 3 with value: 0.3686319142976237.\n",
      "[I 2024-12-09 21:19:54,281] Trial 31 finished with value: 0.37967468996082177 and parameters: {'n_estimators': 350, 'max_depth': 10, 'learning_rate': 0.1785750357679323, 'subsample': 0.6178496926405097, 'colsample_bytree': 0.6015461414932192, 'reg_alpha': 5.718421990815396, 'reg_lambda': 1.0302505613018003, 'min_child_weight': 1, 'gamma': 0.30818983448485393}. Best is trial 3 with value: 0.3686319142976237.\n",
      "[I 2024-12-09 21:20:20,748] Trial 32 finished with value: 0.37317028545776265 and parameters: {'n_estimators': 380, 'max_depth': 10, 'learning_rate': 0.20483549318255218, 'subsample': 0.5548891654463044, 'colsample_bytree': 0.5988361510668047, 'reg_alpha': 5.574225755443486, 'reg_lambda': 1.716569230023486, 'min_child_weight': 5, 'gamma': 0.00527603946468783}. Best is trial 3 with value: 0.3686319142976237.\n",
      "[I 2024-12-09 21:20:31,112] Trial 33 finished with value: 0.3924612990313957 and parameters: {'n_estimators': 333, 'max_depth': 9, 'learning_rate': 0.23144636747450287, 'subsample': 0.7175650177242553, 'colsample_bytree': 0.7328519900178806, 'reg_alpha': 4.595270917014737, 'reg_lambda': 1.0064037414108233, 'min_child_weight': 6, 'gamma': 0.661722044943531}. Best is trial 3 with value: 0.3686319142976237.\n",
      "[I 2024-12-09 21:20:42,668] Trial 34 finished with value: 0.38641588253343856 and parameters: {'n_estimators': 285, 'max_depth': 10, 'learning_rate': 0.16189950701660005, 'subsample': 0.6637135095701264, 'colsample_bytree': 0.6859408056514567, 'reg_alpha': 6.072608456219734, 'reg_lambda': 3.5190318429727485, 'min_child_weight': 10, 'gamma': 0.4619002411371339}. Best is trial 3 with value: 0.3686319142976237.\n",
      "[I 2024-12-09 21:21:01,252] Trial 35 finished with value: 0.38096296177717515 and parameters: {'n_estimators': 470, 'max_depth': 9, 'learning_rate': 0.20088626111896812, 'subsample': 0.6007868268755443, 'colsample_bytree': 0.5578762733070228, 'reg_alpha': 6.886028222239439, 'reg_lambda': 1.5591034433704007, 'min_child_weight': 3, 'gamma': 0.2767683327691959}. Best is trial 3 with value: 0.3686319142976237.\n",
      "[I 2024-12-09 21:21:11,840] Trial 36 finished with value: 0.4014262604924864 and parameters: {'n_estimators': 255, 'max_depth': 10, 'learning_rate': 0.10317356291618991, 'subsample': 0.8434268853231729, 'colsample_bytree': 0.8056310406108222, 'reg_alpha': 8.200860325989133, 'reg_lambda': 5.932251072283941, 'min_child_weight': 9, 'gamma': 0.9413011565303618}. Best is trial 3 with value: 0.3686319142976237.\n",
      "[I 2024-12-09 21:21:21,756] Trial 37 finished with value: 0.4239118319556171 and parameters: {'n_estimators': 305, 'max_depth': 5, 'learning_rate': 0.2153133801300333, 'subsample': 0.7784484796852732, 'colsample_bytree': 0.6535984420013329, 'reg_alpha': 5.547806439999195, 'reg_lambda': 4.909576542516671, 'min_child_weight': 2, 'gamma': 0.5520012515171087}. Best is trial 3 with value: 0.3686319142976237.\n",
      "[I 2024-12-09 21:21:30,316] Trial 38 finished with value: 0.40401134420193985 and parameters: {'n_estimators': 361, 'max_depth': 9, 'learning_rate': 0.26193872212513, 'subsample': 0.691950155281393, 'colsample_bytree': 0.7556061661994465, 'reg_alpha': 3.7279968924222144, 'reg_lambda': 2.7634216794166764, 'min_child_weight': 6, 'gamma': 1.0531499185546642}. Best is trial 3 with value: 0.3686319142976237.\n",
      "[I 2024-12-09 21:21:39,749] Trial 39 finished with value: 0.4409884220996453 and parameters: {'n_estimators': 423, 'max_depth': 10, 'learning_rate': 0.1457791405407622, 'subsample': 0.6438809617053565, 'colsample_bytree': 0.6121095273732436, 'reg_alpha': 6.337547602061624, 'reg_lambda': 2.151204923173543, 'min_child_weight': 9, 'gamma': 4.170207470460996}. Best is trial 3 with value: 0.3686319142976237.\n",
      "[I 2024-12-09 21:21:49,781] Trial 40 finished with value: 0.47642536392450924 and parameters: {'n_estimators': 387, 'max_depth': 5, 'learning_rate': 0.11834652349451585, 'subsample': 0.5015262306506232, 'colsample_bytree': 0.5430526209396965, 'reg_alpha': 7.016046507771069, 'reg_lambda': 3.189300729100667, 'min_child_weight': 7, 'gamma': 2.640269410927601}. Best is trial 3 with value: 0.3686319142976237.\n",
      "[I 2024-12-09 21:22:15,281] Trial 41 finished with value: 0.37514198077715033 and parameters: {'n_estimators': 386, 'max_depth': 10, 'learning_rate': 0.22585350604946933, 'subsample': 0.5387431589115477, 'colsample_bytree': 0.601277237779271, 'reg_alpha': 5.790683249967749, 'reg_lambda': 1.5858767041193809, 'min_child_weight': 5, 'gamma': 0.013451085834256742}. Best is trial 3 with value: 0.3686319142976237.\n",
      "[I 2024-12-09 21:22:33,764] Trial 42 finished with value: 0.3763437268400837 and parameters: {'n_estimators': 374, 'max_depth': 10, 'learning_rate': 0.19850436043485098, 'subsample': 0.5612427785176378, 'colsample_bytree': 0.6194915663466057, 'reg_alpha': 5.3624198369790985, 'reg_lambda': 1.8034551712663451, 'min_child_weight': 5, 'gamma': 0.2373381547040071}. Best is trial 3 with value: 0.3686319142976237.\n",
      "[I 2024-12-09 21:22:52,815] Trial 43 finished with value: 0.3736212749837792 and parameters: {'n_estimators': 339, 'max_depth': 9, 'learning_rate': 0.1732898280689011, 'subsample': 0.5562653458308976, 'colsample_bytree': 0.6376947586829895, 'reg_alpha': 4.811209161897762, 'reg_lambda': 2.026919590890494, 'min_child_weight': 6, 'gamma': 0.06942807102940698}. Best is trial 3 with value: 0.3686319142976237.\n",
      "[I 2024-12-09 21:23:20,349] Trial 44 finished with value: 0.37235037278019056 and parameters: {'n_estimators': 411, 'max_depth': 10, 'learning_rate': 0.23871723970950598, 'subsample': 0.6141764507074826, 'colsample_bytree': 0.6865734500387753, 'reg_alpha': 5.510906720839876, 'reg_lambda': 1.4052098738880956, 'min_child_weight': 4, 'gamma': 0.008658121372673851}. Best is trial 3 with value: 0.3686319142976237.\n",
      "[I 2024-12-09 21:23:31,565] Trial 45 finished with value: 0.3998906145798578 and parameters: {'n_estimators': 473, 'max_depth': 9, 'learning_rate': 0.22103094468183462, 'subsample': 0.7431643004394383, 'colsample_bytree': 0.6929924705651909, 'reg_alpha': 7.831209626030385, 'reg_lambda': 1.2864504817339273, 'min_child_weight': 3, 'gamma': 0.7090545856085269}. Best is trial 3 with value: 0.3686319142976237.\n",
      "[I 2024-12-09 21:23:50,628] Trial 46 finished with value: 0.37536854753598636 and parameters: {'n_estimators': 430, 'max_depth': 8, 'learning_rate': 0.23808784946671063, 'subsample': 0.6246529952718851, 'colsample_bytree': 0.7431099524339161, 'reg_alpha': 4.297148102193004, 'reg_lambda': 6.708849079080407, 'min_child_weight': 4, 'gamma': 0.27167064918017747}. Best is trial 3 with value: 0.3686319142976237.\n",
      "[I 2024-12-09 21:23:58,209] Trial 47 finished with value: 0.43195430795539186 and parameters: {'n_estimators': 405, 'max_depth': 10, 'learning_rate': 0.24838282864909655, 'subsample': 0.8278772880359446, 'colsample_bytree': 0.7734891339262294, 'reg_alpha': 6.327665897429847, 'reg_lambda': 2.589514852070412, 'min_child_weight': 2, 'gamma': 3.5113049785193544}. Best is trial 3 with value: 0.3686319142976237.\n",
      "[I 2024-12-09 21:24:06,406] Trial 48 finished with value: 0.41293401131902263 and parameters: {'n_estimators': 267, 'max_depth': 9, 'learning_rate': 0.1883526828433507, 'subsample': 0.6514960788991649, 'colsample_bytree': 0.6703995401924985, 'reg_alpha': 5.326557897878419, 'reg_lambda': 1.2696737904079756, 'min_child_weight': 1, 'gamma': 1.3275770862024519}. Best is trial 3 with value: 0.3686319142976237.\n",
      "[I 2024-12-09 21:24:14,232] Trial 49 finished with value: 0.40519653945793355 and parameters: {'n_estimators': 238, 'max_depth': 10, 'learning_rate': 0.26492049530675454, 'subsample': 0.5870336720181378, 'colsample_bytree': 0.7135095383062346, 'reg_alpha': 5.982483313477967, 'reg_lambda': 8.065120604543042, 'min_child_weight': 4, 'gamma': 0.8941723787329644}. Best is trial 3 with value: 0.3686319142976237.\n",
      "[I 2024-12-09 21:24:29,396] Trial 50 finished with value: 0.3765760616195976 and parameters: {'n_estimators': 325, 'max_depth': 9, 'learning_rate': 0.27720963793335396, 'subsample': 0.6778188758516682, 'colsample_bytree': 0.6625370227243707, 'reg_alpha': 4.37411779078062, 'reg_lambda': 3.7951043746658883, 'min_child_weight': 7, 'gamma': 0.22349966708347918}. Best is trial 3 with value: 0.3686319142976237.\n",
      "[I 2024-12-09 21:24:51,646] Trial 51 finished with value: 0.3740765552745674 and parameters: {'n_estimators': 352, 'max_depth': 10, 'learning_rate': 0.19808370751672155, 'subsample': 0.5232935757618727, 'colsample_bytree': 0.5975162610414494, 'reg_alpha': 5.536789955930629, 'reg_lambda': 1.5218557622634417, 'min_child_weight': 5, 'gamma': 0.0837577108887682}. Best is trial 3 with value: 0.3686319142976237.\n",
      "[I 2024-12-09 21:25:04,621] Trial 52 finished with value: 0.386604524370958 and parameters: {'n_estimators': 376, 'max_depth': 10, 'learning_rate': 0.21442634948873218, 'subsample': 0.5623201124976638, 'colsample_bytree': 0.6365544323411022, 'reg_alpha': 4.771266481098364, 'reg_lambda': 2.333463396339922, 'min_child_weight': 6, 'gamma': 0.5084921462407199}. Best is trial 3 with value: 0.3686319142976237.\n",
      "[I 2024-12-09 21:25:33,644] Trial 53 finished with value: 0.3746113055983378 and parameters: {'n_estimators': 443, 'max_depth': 10, 'learning_rate': 0.23606940830577158, 'subsample': 0.6008873887873355, 'colsample_bytree': 0.5526372227297318, 'reg_alpha': 6.46500975898526, 'reg_lambda': 3.2664712332245123, 'min_child_weight': 5, 'gamma': 0.010013916452011402}. Best is trial 3 with value: 0.3686319142976237.\n",
      "[I 2024-12-09 21:25:46,538] Trial 54 finished with value: 0.38146038938321564 and parameters: {'n_estimators': 405, 'max_depth': 10, 'learning_rate': 0.17639320454166527, 'subsample': 0.7597095752863077, 'colsample_bytree': 0.6820628234895619, 'reg_alpha': 5.111934181984403, 'reg_lambda': 1.7763344930275409, 'min_child_weight': 3, 'gamma': 0.3917100052055416}. Best is trial 3 with value: 0.3686319142976237.\n",
      "[I 2024-12-09 21:26:06,424] Trial 55 finished with value: 0.4109316792434282 and parameters: {'n_estimators': 300, 'max_depth': 10, 'learning_rate': 0.03230324907105425, 'subsample': 0.7047740078335757, 'colsample_bytree': 0.7345335141507556, 'reg_alpha': 3.8773192460502464, 'reg_lambda': 4.2572549543327876, 'min_child_weight': 4, 'gamma': 0.22356278206253377}. Best is trial 3 with value: 0.3686319142976237.\n",
      "[I 2024-12-09 21:26:18,093] Trial 56 finished with value: 0.39141734184266114 and parameters: {'n_estimators': 388, 'max_depth': 9, 'learning_rate': 0.2057647220280932, 'subsample': 0.5394677908235599, 'colsample_bytree': 0.9649052203207201, 'reg_alpha': 5.808498964123032, 'reg_lambda': 2.599350329511873, 'min_child_weight': 5, 'gamma': 0.7266433811687871}. Best is trial 3 with value: 0.3686319142976237.\n",
      "[I 2024-12-09 21:26:28,345] Trial 57 finished with value: 0.4881079491573642 and parameters: {'n_estimators': 415, 'max_depth': 3, 'learning_rate': 0.22388038636454466, 'subsample': 0.61822187019588, 'colsample_bytree': 0.5890095516267025, 'reg_alpha': 7.219883466861813, 'reg_lambda': 1.9607856625987696, 'min_child_weight': 6, 'gamma': 0.002381646615241026}. Best is trial 3 with value: 0.3686319142976237.\n",
      "[I 2024-12-09 21:26:38,921] Trial 58 finished with value: 0.40210835631801956 and parameters: {'n_estimators': 354, 'max_depth': 8, 'learning_rate': 0.18958181217285114, 'subsample': 0.7882238577699647, 'colsample_bytree': 0.6230809638435548, 'reg_alpha': 8.217389732858845, 'reg_lambda': 9.104116341689753, 'min_child_weight': 8, 'gamma': 0.5551493192146073}. Best is trial 3 with value: 0.3686319142976237.\n",
      "[I 2024-12-09 21:26:45,750] Trial 59 finished with value: 0.47906852693656277 and parameters: {'n_estimators': 320, 'max_depth': 6, 'learning_rate': 0.25234013598490534, 'subsample': 0.5809583963101403, 'colsample_bytree': 0.7008722265870002, 'reg_alpha': 6.017770305429128, 'reg_lambda': 1.389146011644747, 'min_child_weight': 1, 'gamma': 4.972367791079222}. Best is trial 3 with value: 0.3686319142976237.\n",
      "[I 2024-12-09 21:26:54,140] Trial 60 finished with value: 0.47722230522999665 and parameters: {'n_estimators': 294, 'max_depth': 4, 'learning_rate': 0.2193061748378466, 'subsample': 0.6450780247154412, 'colsample_bytree': 0.6529871440224939, 'reg_alpha': 4.0994222051414875, 'reg_lambda': 4.811756135017211, 'min_child_weight': 4, 'gamma': 2.3766817254627504}. Best is trial 3 with value: 0.3686319142976237.\n",
      "[I 2024-12-09 21:27:08,881] Trial 61 finished with value: 0.3876511340966676 and parameters: {'n_estimators': 332, 'max_depth': 7, 'learning_rate': 0.16572813751367743, 'subsample': 0.5676864659394545, 'colsample_bytree': 0.6362900934074258, 'reg_alpha': 4.712992499672952, 'reg_lambda': 2.157514985566812, 'min_child_weight': 6, 'gamma': 0.14862274009720478}. Best is trial 3 with value: 0.3686319142976237.\n",
      "[I 2024-12-09 21:27:24,464] Trial 62 finished with value: 0.38339626332199833 and parameters: {'n_estimators': 336, 'max_depth': 9, 'learning_rate': 0.14816270557886332, 'subsample': 0.5303464840457532, 'colsample_bytree': 0.6356718398495381, 'reg_alpha': 4.869662277419581, 'reg_lambda': 2.032105403083742, 'min_child_weight': 6, 'gamma': 0.38579046718269516}. Best is trial 3 with value: 0.3686319142976237.\n",
      "[I 2024-12-09 21:27:42,965] Trial 63 finished with value: 0.37115300971433063 and parameters: {'n_estimators': 345, 'max_depth': 9, 'learning_rate': 0.18213135925220703, 'subsample': 0.7252185081914068, 'colsample_bytree': 0.6779496858441759, 'reg_alpha': 5.2419123667154555, 'reg_lambda': 2.8618920661126843, 'min_child_weight': 7, 'gamma': 0.15742683223333426}. Best is trial 3 with value: 0.3686319142976237.\n",
      "[I 2024-12-09 21:27:59,585] Trial 64 finished with value: 0.37329564929328285 and parameters: {'n_estimators': 373, 'max_depth': 10, 'learning_rate': 0.2327071100603928, 'subsample': 0.727232236356585, 'colsample_bytree': 0.7186086021573315, 'reg_alpha': 5.3595703813616, 'reg_lambda': 2.916262681332638, 'min_child_weight': 7, 'gamma': 0.2215208343204494}. Best is trial 3 with value: 0.3686319142976237.\n",
      "[I 2024-12-09 21:28:06,546] Trial 65 finished with value: 0.4150578282597869 and parameters: {'n_estimators': 113, 'max_depth': 8, 'learning_rate': 0.18106881213783976, 'subsample': 0.7451115624763373, 'colsample_bytree': 0.6781756383124163, 'reg_alpha': 5.13137733881283, 'reg_lambda': 1.0246427981633885, 'min_child_weight': 7, 'gamma': 0.4883449662230453}. Best is trial 3 with value: 0.3686319142976237.\n",
      "[I 2024-12-09 21:28:16,670] Trial 66 finished with value: 0.40001308163467586 and parameters: {'n_estimators': 318, 'max_depth': 10, 'learning_rate': 0.19678099353637646, 'subsample': 0.8056413674919272, 'colsample_bytree': 0.6940571063174034, 'reg_alpha': 6.627757003490634, 'reg_lambda': 2.538253993774707, 'min_child_weight': 8, 'gamma': 0.7946228215150221}. Best is trial 3 with value: 0.3686319142976237.\n",
      "[I 2024-12-09 21:28:31,857] Trial 67 finished with value: 0.3892014250073242 and parameters: {'n_estimators': 274, 'max_depth': 9, 'learning_rate': 0.2086036942731861, 'subsample': 0.6847938946730978, 'colsample_bytree': 0.6550776123204691, 'reg_alpha': 9.46228412712724, 'reg_lambda': 4.000953650037776, 'min_child_weight': 5, 'gamma': 0.3569389192201724}. Best is trial 3 with value: 0.3686319142976237.\n",
      "[I 2024-12-09 21:28:46,104] Trial 68 finished with value: 0.39294797420146615 and parameters: {'n_estimators': 459, 'max_depth': 10, 'learning_rate': 0.18581232698308603, 'subsample': 0.7116447812869506, 'colsample_bytree': 0.6128716811244185, 'reg_alpha': 5.485687114223286, 'reg_lambda': 2.335774362019667, 'min_child_weight': 8, 'gamma': 0.6198671490165353}. Best is trial 3 with value: 0.3686319142976237.\n",
      "[I 2024-12-09 21:29:06,350] Trial 69 finished with value: 0.37554893742578804 and parameters: {'n_estimators': 311, 'max_depth': 9, 'learning_rate': 0.16826457088388375, 'subsample': 0.7688559910296178, 'colsample_bytree': 0.5806714101656429, 'reg_alpha': 6.186465116447812, 'reg_lambda': 3.3474433200817777, 'min_child_weight': 2, 'gamma': 0.13463783625967832}. Best is trial 3 with value: 0.3686319142976237.\n",
      "[I 2024-12-09 21:29:17,539] Trial 70 finished with value: 0.41873952982399415 and parameters: {'n_estimators': 397, 'max_depth': 10, 'learning_rate': 0.2118587053839816, 'subsample': 0.6305709279345357, 'colsample_bytree': 0.5599836085996055, 'reg_alpha': 5.816105020348837, 'reg_lambda': 1.6407155709619017, 'min_child_weight': 1, 'gamma': 1.4553370828319283}. Best is trial 3 with value: 0.3686319142976237.\n",
      "[I 2024-12-09 21:29:38,111] Trial 71 finished with value: 0.37259324499252816 and parameters: {'n_estimators': 372, 'max_depth': 10, 'learning_rate': 0.23281369607876296, 'subsample': 0.733211138951068, 'colsample_bytree': 0.7205778344004441, 'reg_alpha': 5.303550283305452, 'reg_lambda': 2.848740800143983, 'min_child_weight': 7, 'gamma': 0.19472872788991075}. Best is trial 3 with value: 0.3686319142976237.\n",
      "[I 2024-12-09 21:29:53,936] Trial 72 finished with value: 0.3783706122232388 and parameters: {'n_estimators': 345, 'max_depth': 10, 'learning_rate': 0.2412707993062811, 'subsample': 0.7293148154590412, 'colsample_bytree': 0.7775613592922546, 'reg_alpha': 4.549237209711725, 'reg_lambda': 2.8052472348670383, 'min_child_weight': 7, 'gamma': 0.3402861517764034}. Best is trial 3 with value: 0.3686319142976237.\n",
      "[I 2024-12-09 21:30:19,587] Trial 73 finished with value: 0.369965727468758 and parameters: {'n_estimators': 364, 'max_depth': 9, 'learning_rate': 0.22651484234095576, 'subsample': 0.7019733417262407, 'colsample_bytree': 0.7259438186563503, 'reg_alpha': 5.053655978548351, 'reg_lambda': 3.1015135565807133, 'min_child_weight': 7, 'gamma': 0.13257245368211126}. Best is trial 3 with value: 0.3686319142976237.\n",
      "[I 2024-12-09 21:30:46,050] Trial 74 finished with value: 0.3712444847439194 and parameters: {'n_estimators': 365, 'max_depth': 9, 'learning_rate': 0.22723047750928674, 'subsample': 0.6957094229259086, 'colsample_bytree': 0.7425999978117318, 'reg_alpha': 5.053970157763308, 'reg_lambda': 3.7050078178186965, 'min_child_weight': 7, 'gamma': 0.16750819093555297}. Best is trial 3 with value: 0.3686319142976237.\n",
      "[I 2024-12-09 21:31:05,653] Trial 75 finished with value: 0.3842350222274762 and parameters: {'n_estimators': 363, 'max_depth': 8, 'learning_rate': 0.29739518898334294, 'subsample': 0.698284442880336, 'colsample_bytree': 0.7925143997875621, 'reg_alpha': 5.1032847082570765, 'reg_lambda': 3.798649779834121, 'min_child_weight': 8, 'gamma': 0.4109389278429712}. Best is trial 3 with value: 0.3686319142976237.\n",
      "[I 2024-12-09 21:31:28,385] Trial 76 finished with value: 0.37405095850520825 and parameters: {'n_estimators': 424, 'max_depth': 7, 'learning_rate': 0.25451359018210085, 'subsample': 0.7153491505431007, 'colsample_bytree': 0.7600647447377242, 'reg_alpha': 4.9272872101023975, 'reg_lambda': 5.646763890276706, 'min_child_weight': 9, 'gamma': 0.14269239311999368}. Best is trial 3 with value: 0.3686319142976237.\n",
      "[I 2024-12-09 21:31:39,768] Trial 77 finished with value: 0.4045647497772308 and parameters: {'n_estimators': 360, 'max_depth': 9, 'learning_rate': 0.22701884355261429, 'subsample': 0.6764960398652023, 'colsample_bytree': 0.746276578653545, 'reg_alpha': 3.7135929977418902, 'reg_lambda': 3.534021909416935, 'min_child_weight': 7, 'gamma': 1.0880353560572367}. Best is trial 3 with value: 0.3686319142976237.\n",
      "[I 2024-12-09 21:31:55,333] Trial 78 finished with value: 0.38936891476863134 and parameters: {'n_estimators': 485, 'max_depth': 9, 'learning_rate': 0.24584167442175436, 'subsample': 0.6620950919266917, 'colsample_bytree': 0.7393158950295337, 'reg_alpha': 4.436272032390474, 'reg_lambda': 3.1021221622918307, 'min_child_weight': 8, 'gamma': 0.601230002943159}. Best is trial 3 with value: 0.3686319142976237.\n",
      "[I 2024-12-09 21:32:07,029] Trial 79 finished with value: 0.3994723452319533 and parameters: {'n_estimators': 283, 'max_depth': 8, 'learning_rate': 0.19602599240268692, 'subsample': 0.6966515909403015, 'colsample_bytree': 0.7079083960544317, 'reg_alpha': 1.6465762738774607, 'reg_lambda': 4.539456401684601, 'min_child_weight': 6, 'gamma': 0.8402854957585951}. Best is trial 3 with value: 0.3686319142976237.\n",
      "[I 2024-12-09 21:32:34,990] Trial 80 finished with value: 0.3688482143386539 and parameters: {'n_estimators': 393, 'max_depth': 9, 'learning_rate': 0.26962217382442194, 'subsample': 0.7941129719512554, 'colsample_bytree': 0.6712565325233806, 'reg_alpha': 4.114817847995526, 'reg_lambda': 3.3881105768024957, 'min_child_weight': 7, 'gamma': 0.0033923408712044356}. Best is trial 3 with value: 0.3686319142976237.\n",
      "[I 2024-12-09 21:32:53,137] Trial 81 finished with value: 0.37191448949430134 and parameters: {'n_estimators': 391, 'max_depth': 9, 'learning_rate': 0.2719822284271173, 'subsample': 0.864822471897174, 'colsample_bytree': 0.6746264518206697, 'reg_alpha': 4.112166253440009, 'reg_lambda': 3.4006558827838753, 'min_child_weight': 7, 'gamma': 0.13154537283163842}. Best is trial 3 with value: 0.3686319142976237.\n",
      "[I 2024-12-09 21:33:04,946] Trial 82 finished with value: 0.3848842785075683 and parameters: {'n_estimators': 392, 'max_depth': 9, 'learning_rate': 0.2860599472824663, 'subsample': 0.8897853712634901, 'colsample_bytree': 0.7021148411813962, 'reg_alpha': 2.7785310801123346, 'reg_lambda': 4.143729748425548, 'min_child_weight': 7, 'gamma': 0.317000236331157}. Best is trial 3 with value: 0.3686319142976237.\n",
      "[I 2024-12-09 21:33:17,946] Trial 83 finished with value: 0.3766732950972345 and parameters: {'n_estimators': 345, 'max_depth': 9, 'learning_rate': 0.2736223878057623, 'subsample': 0.9476176799148387, 'colsample_bytree': 0.6729723021224335, 'reg_alpha': 2.981885328805475, 'reg_lambda': 3.8182097875225995, 'min_child_weight': 7, 'gamma': 0.1312309198248557}. Best is trial 3 with value: 0.3686319142976237.\n",
      "[I 2024-12-09 21:33:28,262] Trial 84 finished with value: 0.39396953211075314 and parameters: {'n_estimators': 326, 'max_depth': 8, 'learning_rate': 0.2883256420089184, 'subsample': 0.8491184760179544, 'colsample_bytree': 0.6635874596885045, 'reg_alpha': 3.4882051803943703, 'reg_lambda': 3.2898944263874097, 'min_child_weight': 8, 'gamma': 0.4892301109999665}. Best is trial 3 with value: 0.3686319142976237.\n",
      "[I 2024-12-09 21:33:42,208] Trial 85 finished with value: 0.3821635647916698 and parameters: {'n_estimators': 365, 'max_depth': 9, 'learning_rate': 0.26810819705491956, 'subsample': 0.8634971472451509, 'colsample_bytree': 0.7283060299861897, 'reg_alpha': 4.19523047927264, 'reg_lambda': 3.623365397533138, 'min_child_weight': 7, 'gamma': 0.2855579737617488}. Best is trial 3 with value: 0.3686319142976237.\n",
      "[I 2024-12-09 21:33:50,979] Trial 86 finished with value: 0.4347708818380654 and parameters: {'n_estimators': 383, 'max_depth': 9, 'learning_rate': 0.2572596121498581, 'subsample': 0.8124934270791564, 'colsample_bytree': 0.6955459181991713, 'reg_alpha': 3.9644006398960587, 'reg_lambda': 3.0402397122337277, 'min_child_weight': 8, 'gamma': 2.9573097321981785}. Best is trial 3 with value: 0.3686319142976237.\n",
      "[I 2024-12-09 21:34:13,462] Trial 87 finished with value: 0.37179305613441577 and parameters: {'n_estimators': 401, 'max_depth': 8, 'learning_rate': 0.2194008107032269, 'subsample': 0.7578635882575214, 'colsample_bytree': 0.6502944877434759, 'reg_alpha': 4.543831005623589, 'reg_lambda': 3.4134781268963748, 'min_child_weight': 7, 'gamma': 0.14033368512918637}. Best is trial 3 with value: 0.3686319142976237.\n",
      "[I 2024-12-09 21:34:26,869] Trial 88 finished with value: 0.3893057310485545 and parameters: {'n_estimators': 436, 'max_depth': 8, 'learning_rate': 0.21473568441558533, 'subsample': 0.7821701674571063, 'colsample_bytree': 0.6482818236307744, 'reg_alpha': 4.569434360056163, 'reg_lambda': 4.842329295486852, 'min_child_weight': 9, 'gamma': 0.44674046747845575}. Best is trial 3 with value: 0.3686319142976237.\n",
      "[I 2024-12-09 21:34:36,645] Trial 89 finished with value: 0.42273927295738056 and parameters: {'n_estimators': 308, 'max_depth': 8, 'learning_rate': 0.22328226607533183, 'subsample': 0.7560881601004074, 'colsample_bytree': 0.8816758426620179, 'reg_alpha': 4.963308530734204, 'reg_lambda': 3.966756825501464, 'min_child_weight': 6, 'gamma': 1.9078660928247053}. Best is trial 3 with value: 0.3686319142976237.\n",
      "[I 2024-12-09 21:34:54,705] Trial 90 finished with value: 0.37679883150407506 and parameters: {'n_estimators': 419, 'max_depth': 9, 'learning_rate': 0.20508194008221875, 'subsample': 0.7692659886860783, 'colsample_bytree': 0.6845743109472318, 'reg_alpha': 5.681894594575974, 'reg_lambda': 4.620059594786323, 'min_child_weight': 8, 'gamma': 0.2484564282738031}. Best is trial 3 with value: 0.3686319142976237.\n",
      "[I 2024-12-09 21:35:25,257] Trial 91 finished with value: 0.36662392130140325 and parameters: {'n_estimators': 396, 'max_depth': 9, 'learning_rate': 0.24509371812078856, 'subsample': 0.8261059646020015, 'colsample_bytree': 0.6666914710402011, 'reg_alpha': 3.5907581583755066, 'reg_lambda': 3.4430639053811554, 'min_child_weight': 7, 'gamma': 0.002909882319050216}. Best is trial 91 with value: 0.36662392130140325.\n",
      "[I 2024-12-09 21:35:55,186] Trial 92 finished with value: 0.3662160897348536 and parameters: {'n_estimators': 403, 'max_depth': 9, 'learning_rate': 0.21791175957090816, 'subsample': 0.799076039083018, 'colsample_bytree': 0.6651970169758102, 'reg_alpha': 3.390533669570299, 'reg_lambda': 2.710373391253291, 'min_child_weight': 7, 'gamma': 0.0021681807545449114}. Best is trial 92 with value: 0.3662160897348536.\n",
      "[I 2024-12-09 21:36:07,010] Trial 93 finished with value: 0.3795528028775352 and parameters: {'n_estimators': 139, 'max_depth': 9, 'learning_rate': 0.24743402651979027, 'subsample': 0.796069070494209, 'colsample_bytree': 0.7110085359420042, 'reg_alpha': 3.136141905553376, 'reg_lambda': 2.6873511521352444, 'min_child_weight': 7, 'gamma': 0.0036252446543470727}. Best is trial 92 with value: 0.3662160897348536.\n",
      "[I 2024-12-09 21:36:30,829] Trial 94 finished with value: 0.36808870869458715 and parameters: {'n_estimators': 351, 'max_depth': 9, 'learning_rate': 0.18322149473864785, 'subsample': 0.8210820236381413, 'colsample_bytree': 0.6596665784103063, 'reg_alpha': 3.5750827172498103, 'reg_lambda': 2.444810343577627, 'min_child_weight': 7, 'gamma': 0.11921064324020873}. Best is trial 92 with value: 0.3662160897348536.\n",
      "[I 2024-12-09 21:36:46,036] Trial 95 finished with value: 0.38247967409941297 and parameters: {'n_estimators': 356, 'max_depth': 9, 'learning_rate': 0.19257253564984445, 'subsample': 0.8285658346513366, 'colsample_bytree': 0.6271893432335799, 'reg_alpha': 3.4969736675694745, 'reg_lambda': 2.339858147715886, 'min_child_weight': 6, 'gamma': 0.33265302301407745}. Best is trial 92 with value: 0.3662160897348536.\n",
      "[I 2024-12-09 21:37:09,839] Trial 96 finished with value: 0.3658589551224437 and parameters: {'n_estimators': 343, 'max_depth': 9, 'learning_rate': 0.18074617682985317, 'subsample': 0.7997549342253688, 'colsample_bytree': 0.6621464823941218, 'reg_alpha': 2.5474690127199375, 'reg_lambda': 2.4772838993267956, 'min_child_weight': 7, 'gamma': 0.012141005474283553}. Best is trial 96 with value: 0.3658589551224437.\n",
      "[I 2024-12-09 21:37:22,266] Trial 97 finished with value: 0.4218192130551938 and parameters: {'n_estimators': 410, 'max_depth': 10, 'learning_rate': 0.15164574698543154, 'subsample': 0.8161998414179332, 'colsample_bytree': 0.6646250573041522, 'reg_alpha': 2.445034841607261, 'reg_lambda': 2.511279242665853, 'min_child_weight': 2, 'gamma': 3.3696042784155655}. Best is trial 96 with value: 0.3658589551224437.\n",
      "[I 2024-12-09 21:37:44,491] Trial 98 finished with value: 0.36846642675598834 and parameters: {'n_estimators': 297, 'max_depth': 9, 'learning_rate': 0.20202723716821694, 'subsample': 0.8003464412881595, 'colsample_bytree': 0.6160114697452725, 'reg_alpha': 1.922927484466312, 'reg_lambda': 3.0834484469496877, 'min_child_weight': 10, 'gamma': 0.04754162331531669}. Best is trial 96 with value: 0.3658589551224437.\n",
      "[I 2024-12-09 21:37:53,213] Trial 99 finished with value: 0.43749723692366144 and parameters: {'n_estimators': 294, 'max_depth': 9, 'learning_rate': 0.2042555677206475, 'subsample': 0.8276511608195716, 'colsample_bytree': 0.6391752696722459, 'reg_alpha': 1.9069986489708006, 'reg_lambda': 3.0989580499236284, 'min_child_weight': 8, 'gamma': 3.9225870027300407}. Best is trial 96 with value: 0.3658589551224437.\n"
     ]
    },
    {
     "name": "stdout",
     "output_type": "stream",
     "text": [
      "Best hyperparameters: {'n_estimators': 343, 'max_depth': 9, 'learning_rate': 0.18074617682985317, 'subsample': 0.7997549342253688, 'colsample_bytree': 0.6621464823941218, 'reg_alpha': 2.5474690127199375, 'reg_lambda': 2.4772838993267956, 'min_child_weight': 7, 'gamma': 0.012141005474283553}\n"
     ]
    }
   ],
   "source": [
    "def objective_with_cv(trial):\n",
    "    params = {\n",
    "        \"n_estimators\": trial.suggest_int(\"n_estimators\", 100, 500),\n",
    "        \"max_depth\": trial.suggest_int(\"max_depth\", 3, 10),\n",
    "        \"learning_rate\": trial.suggest_float(\"learning_rate\", 0.01, 0.3),\n",
    "        \"subsample\": trial.suggest_float(\"subsample\", 0.5, 1.0),\n",
    "        \"colsample_bytree\": trial.suggest_float(\"colsample_bytree\", 0.5, 1.0),\n",
    "        \"reg_alpha\": trial.suggest_float(\"reg_alpha\", 1.0, 10.0),\n",
    "        \"reg_lambda\": trial.suggest_float(\"reg_lambda\", 1.0, 10.0),\n",
    "        \"min_child_weight\": trial.suggest_int(\"min_child_weight\", 1, 10),\n",
    "        \"gamma\": trial.suggest_float(\"gamma\", 0.0, 5.0),\n",
    "    }\n",
    "\n",
    "    xgb_model = XGBRegressor(**params, random_state=42)\n",
    "    pipeline = Pipeline([\n",
    "        (\"preprocessor\", preprocessor),\n",
    "        (\"model\", xgb_model)\n",
    "    ])\n",
    "\n",
    "    cv_scores = cross_val_score(\n",
    "        pipeline, X_train_encoded3, y_train,\n",
    "        cv=time_series_split, scoring=rmse_scorer\n",
    "    )\n",
    "    mean_rmse = -cv_scores.mean()\n",
    "    return mean_rmse\n",
    "\n",
    "# Define RMSE as a scorer\n",
    "rmse_scorer = make_scorer(root_mean_squared_error, greater_is_better=False)\n",
    "\n",
    "study = optuna.create_study(direction=\"minimize\")\n",
    "study.optimize(objective_with_cv, n_trials=100)\n",
    "\n",
    "# Best hyperparameters\n",
    "print(\"Best hyperparameters:\", study.best_params)\n",
    "\n",
    "# Train the final model with the best hyperparameters using cross-validation\n",
    "best_params = study.best_params\n",
    "best_model = XGBRegressor(**best_params, random_state=42)\n",
    "\n",
    "xgboost_pipeline = Pipeline([\n",
    "    (\"preprocessor\", preprocessor),\n",
    "    (\"model\", best_model)\n",
    "])"
   ]
  },
  {
   "cell_type": "code",
   "execution_count": 10,
   "id": "684539be-12cc-4e1b-9168-64e278cbb36f",
   "metadata": {},
   "outputs": [
    {
     "name": "stdout",
     "output_type": "stream",
     "text": [
      "Final Cross-Validated RMSE: 0.3659\n"
     ]
    }
   ],
   "source": [
    "cv_scores_final = cross_val_score(xgboost_pipeline, X_train_encoded3, y_train, cv=time_series_split, scoring=rmse_scorer)\n",
    "mean_final_rmse = -cv_scores_final.mean()\n",
    "print(f\"Final Cross-Validated RMSE: {mean_final_rmse:.4f}\")"
   ]
  },
  {
   "cell_type": "code",
   "execution_count": 11,
   "id": "ea2734c8-405a-42f2-97fd-0dee43dd443b",
   "metadata": {},
   "outputs": [
    {
     "name": "stdout",
     "output_type": "stream",
     "text": [
      "Final XGBoost RMSE: 0.3466\n"
     ]
    }
   ],
   "source": [
    "xgboost_pipeline.fit(X_train_encoded3, y_train)\n",
    "y_pred = xgboost_pipeline.predict(X_test_encoded3)\n",
    "final_rmse = root_mean_squared_error(y_test, y_pred)\n",
    "print(f\"Final XGBoost RMSE: {final_rmse:.4f}\")"
   ]
  },
  {
   "cell_type": "code",
   "execution_count": 12,
   "id": "84f79858-834a-4300-94a0-3f9665b36bc3",
   "metadata": {},
   "outputs": [
    {
     "name": "stderr",
     "output_type": "stream",
     "text": [
      "/Users/martynaharasym/bike_counters/preprocess_FE.py:98: SettingWithCopyWarning: \n",
      "A value is trying to be set on a copy of a slice from a DataFrame.\n",
      "Try using .loc[row_indexer,col_indexer] = value instead\n",
      "\n",
      "See the caveats in the documentation: https://pandas.pydata.org/pandas-docs/stable/user_guide/indexing.html#returning-a-view-versus-a-copy\n",
      "  X[\"year\"] = X[\"date_x\"].dt.year\n",
      "/Users/martynaharasym/bike_counters/preprocess_FE.py:99: SettingWithCopyWarning: \n",
      "A value is trying to be set on a copy of a slice from a DataFrame.\n",
      "Try using .loc[row_indexer,col_indexer] = value instead\n",
      "\n",
      "See the caveats in the documentation: https://pandas.pydata.org/pandas-docs/stable/user_guide/indexing.html#returning-a-view-versus-a-copy\n",
      "  X[\"month\"] = X[\"date_x\"].dt.month\n",
      "/Users/martynaharasym/bike_counters/preprocess_FE.py:100: SettingWithCopyWarning: \n",
      "A value is trying to be set on a copy of a slice from a DataFrame.\n",
      "Try using .loc[row_indexer,col_indexer] = value instead\n",
      "\n",
      "See the caveats in the documentation: https://pandas.pydata.org/pandas-docs/stable/user_guide/indexing.html#returning-a-view-versus-a-copy\n",
      "  X[\"day\"] = X[\"date_x\"].dt.day\n",
      "/Users/martynaharasym/bike_counters/preprocess_FE.py:101: SettingWithCopyWarning: \n",
      "A value is trying to be set on a copy of a slice from a DataFrame.\n",
      "Try using .loc[row_indexer,col_indexer] = value instead\n",
      "\n",
      "See the caveats in the documentation: https://pandas.pydata.org/pandas-docs/stable/user_guide/indexing.html#returning-a-view-versus-a-copy\n",
      "  X[\"weekday\"] = X[\"date_x\"].dt.weekday\n",
      "/Users/martynaharasym/bike_counters/preprocess_FE.py:102: SettingWithCopyWarning: \n",
      "A value is trying to be set on a copy of a slice from a DataFrame.\n",
      "Try using .loc[row_indexer,col_indexer] = value instead\n",
      "\n",
      "See the caveats in the documentation: https://pandas.pydata.org/pandas-docs/stable/user_guide/indexing.html#returning-a-view-versus-a-copy\n",
      "  X[\"hour\"] = X[\"date_x\"].dt.hour\n",
      "/Users/martynaharasym/bike_counters/preprocess_FE.py:122: SettingWithCopyWarning: \n",
      "A value is trying to be set on a copy of a slice from a DataFrame.\n",
      "Try using .loc[row_indexer,col_indexer] = value instead\n",
      "\n",
      "See the caveats in the documentation: https://pandas.pydata.org/pandas-docs/stable/user_guide/indexing.html#returning-a-view-versus-a-copy\n",
      "  X[\"season\"] = np.select(conditions, seasons, default=\"Unknown\")\n",
      "/Users/martynaharasym/bike_counters/preprocess_FE.py:137: SettingWithCopyWarning: \n",
      "A value is trying to be set on a copy of a slice from a DataFrame.\n",
      "Try using .loc[row_indexer,col_indexer] = value instead\n",
      "\n",
      "See the caveats in the documentation: https://pandas.pydata.org/pandas-docs/stable/user_guide/indexing.html#returning-a-view-versus-a-copy\n",
      "  X[\"school_holiday\"] = X[\"date_x\"].isin(school_holidays).astype(int)\n"
     ]
    }
   ],
   "source": [
    "df_test = pd.read_parquet(\"./data/final_test.parquet\")\n",
    "df_test_merged = df_test.merge(weather_data_interpolated, on='date', how='left')\n",
    "df_test_merged['date_only'] = pd.to_datetime(df_test_merged['date']).dt.date\n",
    "\n",
    "df_test_merged = df_test_merged.merge(covid_data, on='date_only', how='left')\n",
    "\n",
    "X = df_test_merged[[\"counter_name\", \"date_x\", \"longitude\", \"latitude\", \"ff\", \"t\", \"vv\", \"pres\", \"rr1\", \"nouveaux_patients_hospitalises\"]]\n",
    "\n",
    "X = encode_dates(X, school_holidays, public_holidays)\n",
    "X = engineer_weather_features(X)\n",
    "\n",
    "X_test_final = preprocessor.transform(X)\n",
    "final_predictions = xgboost_pipeline.named_steps['model'].predict(X_test_final)\n",
    "\n",
    "results = pd.DataFrame({\"Id\": np.arange(final_predictions.shape[0]), \"log_bike_count\": final_predictions})\n",
    "results.to_csv(\"submission_xgboost_optuna_ts3.csv\", index=False)"
   ]
  }
 ],
 "metadata": {
  "kernelspec": {
   "display_name": "Python 3 (ipykernel)",
   "language": "python",
   "name": "python3"
  },
  "language_info": {
   "codemirror_mode": {
    "name": "ipython",
    "version": 3
   },
   "file_extension": ".py",
   "mimetype": "text/x-python",
   "name": "python",
   "nbconvert_exporter": "python",
   "pygments_lexer": "ipython3",
   "version": "3.12.4"
  }
 },
 "nbformat": 4,
 "nbformat_minor": 5
}
