{
 "cells": [
  {
   "cell_type": "code",
   "execution_count": 1,
   "id": "fbe933c2-19be-4af8-863a-87ca84a7a74c",
   "metadata": {},
   "outputs": [],
   "source": [
    "from pathlib import Path\n",
    "import pandas as pd\n",
    "import numpy as np\n",
    "from sklearn.model_selection import train_test_split\n",
    "from sklearn.pipeline import Pipeline\n",
    "from sklearn.compose import ColumnTransformer\n",
    "from sklearn.preprocessing import OneHotEncoder\n",
    "from sklearn.linear_model import Ridge\n",
    "from sklearn.ensemble import RandomForestRegressor\n",
    "from xgboost import XGBRegressor\n",
    "from catboost import CatBoostRegressor\n",
    "from sklearn.metrics import root_mean_squared_error\n",
    "import matplotlib.pyplot as plt\n",
    "import optuna\n",
    "from vacances_scolaires_france import SchoolHolidayDates\n",
    "from sklearn.model_selection import train_test_split\n",
    "import importlib\n",
    "\n",
    "from sklearn.model_selection import cross_val_score, KFold\n",
    "from sklearn.metrics import make_scorer\n",
    "\n",
    "from preprocess_FE import (\n",
    "    get_zone_c_holidays,\n",
    "    encode_dates,\n",
    "    engineer_weather_features, \n",
    "    remove_outliers, \n",
    "    get_public_holidays\n",
    ")\n",
    "\n",
    "from sklearn.model_selection import TimeSeriesSplit"
   ]
  },
  {
   "cell_type": "code",
   "execution_count": 2,
   "id": "652b34ba-07c3-4fe2-af4a-29f6f285b704",
   "metadata": {},
   "outputs": [],
   "source": [
    "school_holidays = get_zone_c_holidays()\n",
    "public_holidays = get_public_holidays()"
   ]
  },
  {
   "cell_type": "code",
   "execution_count": 3,
   "id": "2466e382-867c-4b59-afe4-2c0041b46296",
   "metadata": {},
   "outputs": [
    {
     "name": "stderr",
     "output_type": "stream",
     "text": [
      "/Users/martynaharasym/bike_counters/preprocess_FE.py:217: FutureWarning: The default of observed=False is deprecated and will be changed to True in a future version of pandas. Pass observed=False to retain current behavior or observed=True to adopt the future default and silence this warning.\n",
      "  data.groupby([\"counter_name\", \"date_truncated\"])\n"
     ]
    }
   ],
   "source": [
    "data = pd.read_parquet(Path(\"data\") / \"train.parquet\")\n",
    "data = remove_outliers(data)\n",
    "data = data.sort_values([\"date\", \"counter_name\"])\n",
    "\n",
    "important_columns = [\"date\", \"pres\", \"ff\", \"t\", \"vv\", \"rr1\"]\n",
    "weather_data = pd.read_csv(\"./external_data/external_data.csv\", usecols=important_columns)"
   ]
  },
  {
   "cell_type": "code",
   "execution_count": 4,
   "id": "a48d3044-0506-4a53-bc89-b33f6af76c8c",
   "metadata": {},
   "outputs": [],
   "source": [
    "weather_data[\"date\"] = pd.to_datetime(weather_data[\"date\"])\n",
    "weather_data = weather_data.dropna(axis=1, how=\"all\")\n",
    "weather_data.set_index(\"date\", inplace=True)\n",
    "weather_data = weather_data[~weather_data.index.duplicated(keep=\"first\")]\n",
    "weather_data_interpolated = weather_data.resample(\"h\").interpolate(method=\"linear\")"
   ]
  },
  {
   "cell_type": "code",
   "execution_count": 5,
   "id": "3b2bd2ad-49d2-4afb-92a6-31b91ec0a4c2",
   "metadata": {},
   "outputs": [],
   "source": [
    "columns = ['date', 'nouveaux_patients_hospitalises']\n",
    "covid_data = pd.read_csv('./synthese-fra (1).csv', parse_dates=False, usecols=columns)\n",
    "covid_data['date_only'] = pd.to_datetime(covid_data['date']).dt.date"
   ]
  },
  {
   "cell_type": "code",
   "execution_count": 6,
   "id": "6247d7d8-2897-4ae4-ab64-54a82798753b",
   "metadata": {},
   "outputs": [],
   "source": [
    "merged_data = data.merge(weather_data_interpolated, on=\"date\", how=\"left\")\n",
    "merged_data['date_only'] = pd.to_datetime(merged_data['date']).dt.date\n",
    "\n",
    "merged_data = merged_data.merge(covid_data, on=\"date_only\", how=\"left\")"
   ]
  },
  {
   "cell_type": "code",
   "execution_count": 7,
   "id": "f3e20524-694e-4c9c-bb72-197628936fe9",
   "metadata": {},
   "outputs": [],
   "source": [
    "X = merged_data[[\"counter_name\", \"date_x\", \"longitude\", \"latitude\", \"ff\", \"t\", \"vv\", \"pres\", \"rr1\", \"nouveaux_patients_hospitalises\"]]\n",
    "y = merged_data[\"log_bike_count\"]\n",
    "\n",
    "X_train, X_test, y_train, y_test = train_test_split(X, y, test_size=0.2, random_state=42)\n",
    "\n",
    "# Apply date encoding\n",
    "\n",
    "X_train_encoded1 = encode_dates(X_train, school_holidays, public_holidays)\n",
    "X_test_encoded1 = encode_dates(X_test, school_holidays, public_holidays)\n",
    "\n",
    "X_train_encoded3 = engineer_weather_features(X_train_encoded1)\n",
    "X_test_encoded3 = engineer_weather_features(X_test_encoded1)\n",
    "\n",
    "# Column transformer for preprocessing\n",
    "categorical_features = [\"counter_name\", \"rain_category\", \"season\"]\n",
    "\n",
    "numerical_features = list(X_train_encoded3.drop(columns=categorical_features).columns)\n",
    "\n",
    "preprocessor = ColumnTransformer(\n",
    "    transformers=[\n",
    "        (\"cat\", OneHotEncoder(handle_unknown=\"ignore\"), categorical_features),\n",
    "        (\"num\", \"passthrough\", numerical_features)\n",
    "    ]\n",
    ")"
   ]
  },
  {
   "cell_type": "code",
   "execution_count": 8,
   "id": "2ff08e0a-3cbc-41b0-b5f3-22df21b1bf98",
   "metadata": {},
   "outputs": [],
   "source": [
    "time_series_split = TimeSeriesSplit(n_splits=5)"
   ]
  },
  {
   "cell_type": "code",
   "execution_count": 9,
   "id": "1953581f-fd22-4d01-9b75-45541cf42b2e",
   "metadata": {},
   "outputs": [
    {
     "name": "stderr",
     "output_type": "stream",
     "text": [
      "[I 2024-12-09 18:03:18,307] A new study created in memory with name: no-name-abf5d1ac-3964-4121-b983-7f9c052a693e\n",
      "[I 2024-12-09 18:03:32,898] Trial 0 finished with value: 0.3817855140797195 and parameters: {'n_estimators': 185, 'max_depth': 9, 'learning_rate': 0.16092397303687297, 'subsample': 0.7273785067518931, 'colsample_bytree': 0.8211387205684981, 'reg_alpha': 6.833127622483164, 'reg_lambda': 4.3171353123547735}. Best is trial 0 with value: 0.3817855140797195.\n",
      "[I 2024-12-09 18:04:03,832] Trial 1 finished with value: 0.3659460444146424 and parameters: {'n_estimators': 418, 'max_depth': 10, 'learning_rate': 0.15248710367334545, 'subsample': 0.6517662427014275, 'colsample_bytree': 0.8323056035048266, 'reg_alpha': 5.74984712346305, 'reg_lambda': 9.122517999966174}. Best is trial 1 with value: 0.3659460444146424.\n",
      "[I 2024-12-09 18:04:14,866] Trial 2 finished with value: 0.4148220698939312 and parameters: {'n_estimators': 370, 'max_depth': 5, 'learning_rate': 0.1819888940982254, 'subsample': 0.8315110625177706, 'colsample_bytree': 0.7548337368304836, 'reg_alpha': 7.755691645887198, 'reg_lambda': 4.2850189113438795}. Best is trial 1 with value: 0.3659460444146424.\n",
      "[I 2024-12-09 18:05:01,832] Trial 3 finished with value: 0.36495166221744074 and parameters: {'n_estimators': 485, 'max_depth': 10, 'learning_rate': 0.21110007368483802, 'subsample': 0.9385531657967661, 'colsample_bytree': 0.684055741103853, 'reg_alpha': 9.8784118142351, 'reg_lambda': 9.018073969788553}. Best is trial 3 with value: 0.36495166221744074.\n",
      "[I 2024-12-09 18:05:27,313] Trial 4 finished with value: 0.37299205940321645 and parameters: {'n_estimators': 469, 'max_depth': 7, 'learning_rate': 0.2988583042969087, 'subsample': 0.7161848021028951, 'colsample_bytree': 0.8905265022298281, 'reg_alpha': 6.6557742324557045, 'reg_lambda': 5.569012004184378}. Best is trial 3 with value: 0.36495166221744074.\n",
      "[I 2024-12-09 18:06:13,032] Trial 5 finished with value: 0.37509413736698904 and parameters: {'n_estimators': 469, 'max_depth': 10, 'learning_rate': 0.29919137149150143, 'subsample': 0.8527694991784138, 'colsample_bytree': 0.964936745798465, 'reg_alpha': 1.6857256451999403, 'reg_lambda': 6.310600578395007}. Best is trial 3 with value: 0.36495166221744074.\n",
      "[I 2024-12-09 18:06:29,018] Trial 6 finished with value: 0.4367797256249628 and parameters: {'n_estimators': 146, 'max_depth': 9, 'learning_rate': 0.06521983522207249, 'subsample': 0.6579216172742386, 'colsample_bytree': 0.8144093036513673, 'reg_alpha': 8.0412784652172, 'reg_lambda': 6.0903770110616335}. Best is trial 3 with value: 0.36495166221744074.\n",
      "[I 2024-12-09 18:06:44,239] Trial 7 finished with value: 0.4749627975384243 and parameters: {'n_estimators': 366, 'max_depth': 5, 'learning_rate': 0.08188346708803756, 'subsample': 0.5991904569608284, 'colsample_bytree': 0.5051050872635177, 'reg_alpha': 6.124982549153708, 'reg_lambda': 1.96560021717364}. Best is trial 3 with value: 0.36495166221744074.\n",
      "[I 2024-12-09 18:07:05,040] Trial 8 finished with value: 0.40958792236109876 and parameters: {'n_estimators': 176, 'max_depth': 10, 'learning_rate': 0.0673739457897908, 'subsample': 0.7202508453913125, 'colsample_bytree': 0.734289408581437, 'reg_alpha': 9.667702527574248, 'reg_lambda': 1.3453100857983844}. Best is trial 3 with value: 0.36495166221744074.\n",
      "[I 2024-12-09 18:07:22,879] Trial 9 finished with value: 0.6252436239976042 and parameters: {'n_estimators': 345, 'max_depth': 5, 'learning_rate': 0.013808753151328896, 'subsample': 0.937498622617927, 'colsample_bytree': 0.9730842093460885, 'reg_alpha': 7.848081082081667, 'reg_lambda': 7.6079768550488485}. Best is trial 3 with value: 0.36495166221744074.\n",
      "[I 2024-12-09 18:07:31,277] Trial 10 finished with value: 0.5186162387079104 and parameters: {'n_estimators': 261, 'max_depth': 3, 'learning_rate': 0.22796358606148537, 'subsample': 0.9973114455755341, 'colsample_bytree': 0.6134019921417998, 'reg_alpha': 2.8853331431749343, 'reg_lambda': 9.944472220615383}. Best is trial 3 with value: 0.36495166221744074.\n",
      "[I 2024-12-09 18:08:03,030] Trial 11 finished with value: 0.3726597266749095 and parameters: {'n_estimators': 480, 'max_depth': 8, 'learning_rate': 0.21975167788840497, 'subsample': 0.5711256256135797, 'colsample_bytree': 0.6559572566869136, 'reg_alpha': 4.12857200663692, 'reg_lambda': 9.937436488569237}. Best is trial 3 with value: 0.36495166221744074.\n",
      "[I 2024-12-09 18:08:29,658] Trial 12 finished with value: 0.37898429710568415 and parameters: {'n_estimators': 411, 'max_depth': 8, 'learning_rate': 0.12112922589233718, 'subsample': 0.5165743459703662, 'colsample_bytree': 0.6704350424144059, 'reg_alpha': 4.559869501193782, 'reg_lambda': 8.232799134010985}. Best is trial 3 with value: 0.36495166221744074.\n",
      "[I 2024-12-09 18:08:54,560] Trial 13 finished with value: 0.37452158184330947 and parameters: {'n_estimators': 276, 'max_depth': 10, 'learning_rate': 0.2154302213215235, 'subsample': 0.8374060165196006, 'colsample_bytree': 0.5694142503821207, 'reg_alpha': 9.630962964017005, 'reg_lambda': 8.376862836409304}. Best is trial 3 with value: 0.36495166221744074.\n",
      "[I 2024-12-09 18:09:20,658] Trial 14 finished with value: 0.369587545582745 and parameters: {'n_estimators': 419, 'max_depth': 8, 'learning_rate': 0.12400050621240596, 'subsample': 0.909848541367247, 'colsample_bytree': 0.8555408704760501, 'reg_alpha': 5.00205311614771, 'reg_lambda': 7.36815433088362}. Best is trial 3 with value: 0.36495166221744074.\n",
      "[I 2024-12-09 18:09:53,075] Trial 15 finished with value: 0.36875741791598077 and parameters: {'n_estimators': 421, 'max_depth': 9, 'learning_rate': 0.2543346591795156, 'subsample': 0.7854986903169963, 'colsample_bytree': 0.7323876026847316, 'reg_alpha': 1.128674651389451, 'reg_lambda': 8.971327718597584}. Best is trial 3 with value: 0.36495166221744074.\n",
      "[I 2024-12-09 18:10:23,612] Trial 16 finished with value: 0.3709379563243361 and parameters: {'n_estimators': 500, 'max_depth': 7, 'learning_rate': 0.18206760355761603, 'subsample': 0.6631273554352014, 'colsample_bytree': 0.9027568607705598, 'reg_alpha': 3.4685703796277076, 'reg_lambda': 6.8619939993967165}. Best is trial 3 with value: 0.36495166221744074.\n",
      "[I 2024-12-09 18:10:41,301] Trial 17 finished with value: 0.4138458399122033 and parameters: {'n_estimators': 325, 'max_depth': 6, 'learning_rate': 0.12924318590306066, 'subsample': 0.6344395368875264, 'colsample_bytree': 0.7756739755501036, 'reg_alpha': 8.774244180210633, 'reg_lambda': 9.02367679944377}. Best is trial 3 with value: 0.36495166221744074.\n",
      "[I 2024-12-09 18:11:22,389] Trial 18 finished with value: 0.3659601808557925 and parameters: {'n_estimators': 429, 'max_depth': 10, 'learning_rate': 0.1860225999655893, 'subsample': 0.777884619985646, 'colsample_bytree': 0.7057200775852076, 'reg_alpha': 5.892969936274817, 'reg_lambda': 4.3125553113965385}. Best is trial 3 with value: 0.36495166221744074.\n",
      "[I 2024-12-09 18:11:31,635] Trial 19 finished with value: 0.5126991519903641 and parameters: {'n_estimators': 236, 'max_depth': 3, 'learning_rate': 0.26312447760175434, 'subsample': 0.9792982855081271, 'colsample_bytree': 0.6071465334026602, 'reg_alpha': 2.704625446660921, 'reg_lambda': 2.7967487045873503}. Best is trial 3 with value: 0.36495166221744074.\n",
      "[I 2024-12-09 18:11:41,984] Trial 20 finished with value: 0.42260268006393087 and parameters: {'n_estimators': 103, 'max_depth': 9, 'learning_rate': 0.14131003969157896, 'subsample': 0.5109965644067914, 'colsample_bytree': 0.7931246976720485, 'reg_alpha': 8.918691442106287, 'reg_lambda': 9.227440707467897}. Best is trial 3 with value: 0.36495166221744074.\n",
      "[I 2024-12-09 18:12:20,670] Trial 21 finished with value: 0.3656561665204518 and parameters: {'n_estimators': 441, 'max_depth': 10, 'learning_rate': 0.19011050605349908, 'subsample': 0.7865896409693219, 'colsample_bytree': 0.6997184579067681, 'reg_alpha': 5.567388499736254, 'reg_lambda': 4.196804147021862}. Best is trial 3 with value: 0.36495166221744074.\n",
      "[I 2024-12-09 18:12:59,653] Trial 22 finished with value: 0.3621377143930949 and parameters: {'n_estimators': 450, 'max_depth': 10, 'learning_rate': 0.15853126528848976, 'subsample': 0.9156462392867724, 'colsample_bytree': 0.6839620844722424, 'reg_alpha': 5.728275903589198, 'reg_lambda': 3.3941135676049043}. Best is trial 22 with value: 0.3621377143930949.\n",
      "[I 2024-12-09 18:13:48,431] Trial 23 finished with value: 0.36527982759920324 and parameters: {'n_estimators': 453, 'max_depth': 9, 'learning_rate': 0.1981767064758185, 'subsample': 0.90268790075575, 'colsample_bytree': 0.6701168067758989, 'reg_alpha': 6.9810491122504565, 'reg_lambda': 3.4456953457374837}. Best is trial 22 with value: 0.3621377143930949.\n",
      "[I 2024-12-09 18:14:12,908] Trial 24 finished with value: 0.36760970472659993 and parameters: {'n_estimators': 385, 'max_depth': 9, 'learning_rate': 0.24579567519412066, 'subsample': 0.9042932903930517, 'colsample_bytree': 0.6399693059628817, 'reg_alpha': 7.056853801412879, 'reg_lambda': 3.1347783763259107}. Best is trial 22 with value: 0.3621377143930949.\n",
      "[I 2024-12-09 18:14:34,808] Trial 25 finished with value: 0.38056797778910556 and parameters: {'n_estimators': 459, 'max_depth': 8, 'learning_rate': 0.1004456613908691, 'subsample': 0.9473635660726402, 'colsample_bytree': 0.5516005901480658, 'reg_alpha': 8.612878828086357, 'reg_lambda': 3.071886519972251}. Best is trial 22 with value: 0.3621377143930949.\n",
      "[I 2024-12-09 18:17:18,972] Trial 26 finished with value: 0.3643218836919759 and parameters: {'n_estimators': 494, 'max_depth': 9, 'learning_rate': 0.20522758624490248, 'subsample': 0.871273304070809, 'colsample_bytree': 0.7035756795370638, 'reg_alpha': 5.085726288393598, 'reg_lambda': 5.240376111629939}. Best is trial 22 with value: 0.3621377143930949.\n",
      "[I 2024-12-09 18:19:50,301] Trial 27 finished with value: 0.37113568048628076 and parameters: {'n_estimators': 493, 'max_depth': 7, 'learning_rate': 0.16376492240013657, 'subsample': 0.8756604619490019, 'colsample_bytree': 0.7033113060610084, 'reg_alpha': 3.690174351228783, 'reg_lambda': 5.281486508611206}. Best is trial 22 with value: 0.3621377143930949.\n",
      "[I 2024-12-09 18:20:17,443] Trial 28 finished with value: 0.3643726106268134 and parameters: {'n_estimators': 394, 'max_depth': 10, 'learning_rate': 0.207478836671724, 'subsample': 0.952472186396963, 'colsample_bytree': 0.6038341218662596, 'reg_alpha': 4.655624742349401, 'reg_lambda': 4.815374744725664}. Best is trial 22 with value: 0.3621377143930949.\n",
      "[I 2024-12-09 18:25:02,695] Trial 29 finished with value: 0.3670231555187349 and parameters: {'n_estimators': 392, 'max_depth': 9, 'learning_rate': 0.16362341002490863, 'subsample': 0.977136699969859, 'colsample_bytree': 0.5754874657799353, 'reg_alpha': 4.751481248395466, 'reg_lambda': 5.182006536390466}. Best is trial 22 with value: 0.3621377143930949.\n",
      "[I 2024-12-09 18:26:49,166] Trial 30 finished with value: 0.3762375212958743 and parameters: {'n_estimators': 308, 'max_depth': 8, 'learning_rate': 0.2725903399430565, 'subsample': 0.8667078070548011, 'colsample_bytree': 0.5270279310889925, 'reg_alpha': 5.077153010029798, 'reg_lambda': 2.268137610564767}. Best is trial 22 with value: 0.3621377143930949.\n",
      "[I 2024-12-09 18:27:27,754] Trial 31 finished with value: 0.36386181452559796 and parameters: {'n_estimators': 497, 'max_depth': 10, 'learning_rate': 0.20978739082121906, 'subsample': 0.9428728733060563, 'colsample_bytree': 0.6165171296221993, 'reg_alpha': 4.040874560336762, 'reg_lambda': 4.921627458377052}. Best is trial 22 with value: 0.3621377143930949.\n",
      "[I 2024-12-09 18:28:06,988] Trial 32 finished with value: 0.3656389119124451 and parameters: {'n_estimators': 447, 'max_depth': 10, 'learning_rate': 0.23675232698260545, 'subsample': 0.9519511851359725, 'colsample_bytree': 0.6165876869872337, 'reg_alpha': 4.362221090104899, 'reg_lambda': 4.953832228178642}. Best is trial 22 with value: 0.3621377143930949.\n",
      "[I 2024-12-09 18:28:43,235] Trial 33 finished with value: 0.36443993292328136 and parameters: {'n_estimators': 497, 'max_depth': 9, 'learning_rate': 0.20604614159219026, 'subsample': 0.8948153335044838, 'colsample_bytree': 0.6348432731397197, 'reg_alpha': 3.854262629429755, 'reg_lambda': 3.9843045087523477}. Best is trial 22 with value: 0.3621377143930949.\n",
      "[I 2024-12-09 18:29:19,053] Trial 34 finished with value: 0.36739982406303934 and parameters: {'n_estimators': 395, 'max_depth': 10, 'learning_rate': 0.17212369331864014, 'subsample': 0.810099380758026, 'colsample_bytree': 0.5769813153423816, 'reg_alpha': 6.398065955672673, 'reg_lambda': 3.7246642707165494}. Best is trial 22 with value: 0.3621377143930949.\n",
      "[I 2024-12-09 18:30:00,876] Trial 35 finished with value: 0.36124703188530927 and parameters: {'n_estimators': 468, 'max_depth': 10, 'learning_rate': 0.15139743126294197, 'subsample': 0.9276331892875389, 'colsample_bytree': 0.753853789820854, 'reg_alpha': 5.363455831107592, 'reg_lambda': 4.887295609497945}. Best is trial 35 with value: 0.36124703188530927.\n",
      "[I 2024-12-09 18:30:38,444] Trial 36 finished with value: 0.3609825022596486 and parameters: {'n_estimators': 467, 'max_depth': 10, 'learning_rate': 0.14803836707709175, 'subsample': 0.9230151868848748, 'colsample_bytree': 0.7589353901079721, 'reg_alpha': 5.3601973065003, 'reg_lambda': 5.783572293399919}. Best is trial 36 with value: 0.3609825022596486.\n",
      "[I 2024-12-09 18:30:51,089] Trial 37 finished with value: 0.4518648894381482 and parameters: {'n_estimators': 469, 'max_depth': 4, 'learning_rate': 0.14466927537462182, 'subsample': 0.9231090269798807, 'colsample_bytree': 0.7492637608671675, 'reg_alpha': 5.516441052939256, 'reg_lambda': 5.920438167054526}. Best is trial 36 with value: 0.3609825022596486.\n",
      "[I 2024-12-09 18:31:16,403] Trial 38 finished with value: 0.3625212564002219 and parameters: {'n_estimators': 361, 'max_depth': 10, 'learning_rate': 0.10525561651816447, 'subsample': 0.8276458167775744, 'colsample_bytree': 0.8473988289406382, 'reg_alpha': 3.265830803996231, 'reg_lambda': 4.612756673987902}. Best is trial 36 with value: 0.3609825022596486.\n",
      "[I 2024-12-09 18:31:30,052] Trial 39 finished with value: 0.41328308196950514 and parameters: {'n_estimators': 355, 'max_depth': 6, 'learning_rate': 0.1015278455759055, 'subsample': 0.7494979960650626, 'colsample_bytree': 0.8800926952716835, 'reg_alpha': 3.1522320988936907, 'reg_lambda': 6.479451182322334}. Best is trial 36 with value: 0.3609825022596486.\n",
      "[I 2024-12-09 18:31:58,515] Trial 40 finished with value: 0.362466916902128 and parameters: {'n_estimators': 333, 'max_depth': 10, 'learning_rate': 0.10276510116267482, 'subsample': 0.8219823771144895, 'colsample_bytree': 0.9197217140771746, 'reg_alpha': 2.203964378261997, 'reg_lambda': 5.8557447775043725}. Best is trial 36 with value: 0.3609825022596486.\n",
      "[I 2024-12-09 18:32:26,079] Trial 41 finished with value: 0.36270366296189954 and parameters: {'n_estimators': 332, 'max_depth': 10, 'learning_rate': 0.10790308606497473, 'subsample': 0.8322932918119691, 'colsample_bytree': 0.9214508219596402, 'reg_alpha': 2.2109000958546283, 'reg_lambda': 5.805916868554466}. Best is trial 36 with value: 0.3609825022596486.\n",
      "[I 2024-12-09 18:32:46,090] Trial 42 finished with value: 0.4129230688491193 and parameters: {'n_estimators': 222, 'max_depth': 10, 'learning_rate': 0.03801654633810446, 'subsample': 0.8145276378306829, 'colsample_bytree': 0.9437952404432455, 'reg_alpha': 1.955682538665265, 'reg_lambda': 4.543688791349832}. Best is trial 36 with value: 0.3609825022596486.\n",
      "[I 2024-12-09 18:33:07,447] Trial 43 finished with value: 0.37076913725160077 and parameters: {'n_estimators': 289, 'max_depth': 10, 'learning_rate': 0.07767735112156064, 'subsample': 0.8812327209539925, 'colsample_bytree': 0.832772859099813, 'reg_alpha': 1.0701163298567486, 'reg_lambda': 6.663543995364982}. Best is trial 36 with value: 0.3609825022596486.\n",
      "[I 2024-12-09 18:33:29,854] Trial 44 finished with value: 0.364159891507654 and parameters: {'n_estimators': 369, 'max_depth': 9, 'learning_rate': 0.1500992522460057, 'subsample': 0.8475355666389222, 'colsample_bytree': 0.7922070794978873, 'reg_alpha': 2.3336060718673677, 'reg_lambda': 5.542588374585306}. Best is trial 36 with value: 0.3609825022596486.\n",
      "[I 2024-12-09 18:34:01,776] Trial 45 finished with value: 0.36760401558367917 and parameters: {'n_estimators': 471, 'max_depth': 9, 'learning_rate': 0.09167717155930999, 'subsample': 0.7469863004865777, 'colsample_bytree': 0.8659024539338175, 'reg_alpha': 6.3224080252107395, 'reg_lambda': 6.190008160569407}. Best is trial 36 with value: 0.3609825022596486.\n",
      "[I 2024-12-09 18:34:25,519] Trial 46 finished with value: 0.36805303259027466 and parameters: {'n_estimators': 312, 'max_depth': 10, 'learning_rate': 0.132932079411621, 'subsample': 0.7020040532858374, 'colsample_bytree': 0.9969275639245826, 'reg_alpha': 7.221167411473533, 'reg_lambda': 7.066062081651841}. Best is trial 36 with value: 0.3609825022596486.\n",
      "[I 2024-12-09 18:34:50,736] Trial 47 finished with value: 0.37210017947601287 and parameters: {'n_estimators': 349, 'max_depth': 10, 'learning_rate': 0.0577747508612268, 'subsample': 0.8092685666655998, 'colsample_bytree': 0.8305637121478964, 'reg_alpha': 1.7314074309254575, 'reg_lambda': 4.618198685741939}. Best is trial 36 with value: 0.3609825022596486.\n",
      "[I 2024-12-09 18:35:15,022] Trial 48 finished with value: 0.3686779193477737 and parameters: {'n_estimators': 437, 'max_depth': 8, 'learning_rate': 0.11057288974757366, 'subsample': 0.9237373634026197, 'colsample_bytree': 0.7621646815413867, 'reg_alpha': 3.106142986617161, 'reg_lambda': 2.4746873587918774}. Best is trial 36 with value: 0.3609825022596486.\n",
      "[I 2024-12-09 18:35:39,271] Trial 49 finished with value: 0.3644805747444507 and parameters: {'n_estimators': 405, 'max_depth': 9, 'learning_rate': 0.15553587097397123, 'subsample': 0.981077439868563, 'colsample_bytree': 0.7305601858256067, 'reg_alpha': 5.923576104666958, 'reg_lambda': 3.7960547691933666}. Best is trial 36 with value: 0.3609825022596486.\n",
      "[I 2024-12-09 18:36:08,845] Trial 50 finished with value: 0.3650272439436041 and parameters: {'n_estimators': 370, 'max_depth': 10, 'learning_rate': 0.17380545317069898, 'subsample': 0.8522578981963138, 'colsample_bytree': 0.9209072617640931, 'reg_alpha': 7.437700736553412, 'reg_lambda': 5.690881617019516}. Best is trial 36 with value: 0.3609825022596486.\n",
      "[I 2024-12-09 18:36:36,670] Trial 51 finished with value: 0.3623836965811481 and parameters: {'n_estimators': 329, 'max_depth': 10, 'learning_rate': 0.11440091661225553, 'subsample': 0.8274677686741695, 'colsample_bytree': 0.919268453202003, 'reg_alpha': 2.4639960765769553, 'reg_lambda': 5.895415080227383}. Best is trial 36 with value: 0.3609825022596486.\n",
      "[I 2024-12-09 18:37:00,872] Trial 52 finished with value: 0.36543463279305183 and parameters: {'n_estimators': 273, 'max_depth': 10, 'learning_rate': 0.11741984287341949, 'subsample': 0.7680045239017812, 'colsample_bytree': 0.9497074032501704, 'reg_alpha': 2.4235812699217942, 'reg_lambda': 6.154238938333173}. Best is trial 36 with value: 0.3609825022596486.\n",
      "[I 2024-12-09 18:37:24,905] Trial 53 finished with value: 0.3648127482800875 and parameters: {'n_estimators': 331, 'max_depth': 9, 'learning_rate': 0.13682789745144533, 'subsample': 0.8210733222495717, 'colsample_bytree': 0.8122399954842395, 'reg_alpha': 1.552420636595985, 'reg_lambda': 1.0228897586707393}. Best is trial 36 with value: 0.3609825022596486.\n",
      "[I 2024-12-09 18:38:00,769] Trial 54 finished with value: 0.36024706948017854 and parameters: {'n_estimators': 479, 'max_depth': 10, 'learning_rate': 0.08682502171081648, 'subsample': 0.8881361496791328, 'colsample_bytree': 0.8504397181070714, 'reg_alpha': 3.320135372594952, 'reg_lambda': 7.6541196789586}. Best is trial 54 with value: 0.36024706948017854.\n",
      "[I 2024-12-09 18:38:35,620] Trial 55 finished with value: 0.3608425898335011 and parameters: {'n_estimators': 477, 'max_depth': 10, 'learning_rate': 0.08139311291996312, 'subsample': 0.9232667744764846, 'colsample_bytree': 0.8946932715649443, 'reg_alpha': 2.7407134828761195, 'reg_lambda': 7.374636653766127}. Best is trial 54 with value: 0.36024706948017854.\n",
      "[I 2024-12-09 18:39:06,182] Trial 56 finished with value: 0.3705421923242552 and parameters: {'n_estimators': 465, 'max_depth': 9, 'learning_rate': 0.07234415896768706, 'subsample': 0.917804923617263, 'colsample_bytree': 0.8845239277825334, 'reg_alpha': 5.387812849491957, 'reg_lambda': 8.34115201185709}. Best is trial 54 with value: 0.36024706948017854.\n",
      "[I 2024-12-09 18:39:41,663] Trial 57 finished with value: 0.3598153105190775 and parameters: {'n_estimators': 481, 'max_depth': 10, 'learning_rate': 0.0902662223174311, 'subsample': 0.8875529450834454, 'colsample_bytree': 0.9028440287690443, 'reg_alpha': 2.8660666305296787, 'reg_lambda': 8.137790766629834}. Best is trial 57 with value: 0.3598153105190775.\n",
      "[I 2024-12-09 18:39:55,133] Trial 58 finished with value: 0.5342602732195434 and parameters: {'n_estimators': 427, 'max_depth': 4, 'learning_rate': 0.052274400492000675, 'subsample': 0.9975159659790684, 'colsample_bytree': 0.7984828235669877, 'reg_alpha': 6.596495138373004, 'reg_lambda': 7.634571166035678}. Best is trial 57 with value: 0.3598153105190775.\n",
      "[I 2024-12-09 18:40:26,678] Trial 59 finished with value: 0.39721321283032485 and parameters: {'n_estimators': 480, 'max_depth': 9, 'learning_rate': 0.033976835594823555, 'subsample': 0.8895647389841916, 'colsample_bytree': 0.7719601718218603, 'reg_alpha': 2.7243769178503334, 'reg_lambda': 7.5014544503859675}. Best is trial 57 with value: 0.3598153105190775.\n",
      "[I 2024-12-09 18:41:00,459] Trial 60 finished with value: 0.36022174611925456 and parameters: {'n_estimators': 482, 'max_depth': 10, 'learning_rate': 0.09075549581373785, 'subsample': 0.9658548394168729, 'colsample_bytree': 0.8947251799475717, 'reg_alpha': 3.5238168800665988, 'reg_lambda': 8.025578549239254}. Best is trial 57 with value: 0.3598153105190775.\n",
      "[I 2024-12-09 18:41:38,826] Trial 61 finished with value: 0.36019248697384226 and parameters: {'n_estimators': 480, 'max_depth': 10, 'learning_rate': 0.08820167310413612, 'subsample': 0.9751810561640571, 'colsample_bytree': 0.9025721753268928, 'reg_alpha': 3.495130015654016, 'reg_lambda': 7.95056646313059}. Best is trial 57 with value: 0.3598153105190775.\n",
      "[I 2024-12-09 18:42:12,620] Trial 62 finished with value: 0.3620374454921774 and parameters: {'n_estimators': 480, 'max_depth': 10, 'learning_rate': 0.07901774043947611, 'subsample': 0.9669704512578247, 'colsample_bytree': 0.872718186522255, 'reg_alpha': 3.5533469637942625, 'reg_lambda': 7.945449206384438}. Best is trial 57 with value: 0.3598153105190775.\n",
      "[I 2024-12-09 18:42:48,103] Trial 63 finished with value: 0.36156607491702675 and parameters: {'n_estimators': 479, 'max_depth': 10, 'learning_rate': 0.08320911248113183, 'subsample': 0.9360951661063523, 'colsample_bytree': 0.8991411704647939, 'reg_alpha': 4.185532347126224, 'reg_lambda': 8.689060569943164}. Best is trial 57 with value: 0.3598153105190775.\n",
      "[I 2024-12-09 18:43:21,662] Trial 64 finished with value: 0.36655849868902024 and parameters: {'n_estimators': 459, 'max_depth': 10, 'learning_rate': 0.06138774322960403, 'subsample': 0.9636313958994044, 'colsample_bytree': 0.8495361680973648, 'reg_alpha': 2.8889304508936022, 'reg_lambda': 9.494121071542953}. Best is trial 57 with value: 0.3598153105190775.\n",
      "[I 2024-12-09 18:43:50,452] Trial 65 finished with value: 0.36615435751015046 and parameters: {'n_estimators': 437, 'max_depth': 9, 'learning_rate': 0.08889089530768723, 'subsample': 0.93546223803842, 'colsample_bytree': 0.9417175403304078, 'reg_alpha': 3.4462852816453213, 'reg_lambda': 7.93413000682697}. Best is trial 57 with value: 0.3598153105190775.\n",
      "[I 2024-12-09 18:44:22,548] Trial 66 finished with value: 0.37352398604813614 and parameters: {'n_estimators': 454, 'max_depth': 10, 'learning_rate': 0.04855155692693176, 'subsample': 0.981103873415962, 'colsample_bytree': 0.97369731013599, 'reg_alpha': 3.802125542225402, 'reg_lambda': 6.965098678328523}. Best is trial 57 with value: 0.3598153105190775.\n",
      "[I 2024-12-09 18:44:54,696] Trial 67 finished with value: 0.36131849324771825 and parameters: {'n_estimators': 489, 'max_depth': 9, 'learning_rate': 0.12572121813948361, 'subsample': 0.9621707222014347, 'colsample_bytree': 0.8988139374139319, 'reg_alpha': 4.328092532119299, 'reg_lambda': 7.913641891002378}. Best is trial 57 with value: 0.3598153105190775.\n",
      "[I 2024-12-09 18:45:28,738] Trial 68 finished with value: 0.3596248126737299 and parameters: {'n_estimators': 470, 'max_depth': 10, 'learning_rate': 0.09120725228456578, 'subsample': 0.8981698503617795, 'colsample_bytree': 0.8604236712838133, 'reg_alpha': 2.763502206076269, 'reg_lambda': 7.241792794689796}. Best is trial 68 with value: 0.3596248126737299.\n",
      "[I 2024-12-09 18:45:54,078] Trial 69 finished with value: 0.3832816858678511 and parameters: {'n_estimators': 441, 'max_depth': 8, 'learning_rate': 0.06861477733021559, 'subsample': 0.9024982154772817, 'colsample_bytree': 0.8668042425303044, 'reg_alpha': 2.9282555805586683, 'reg_lambda': 8.648839505455253}. Best is trial 68 with value: 0.3596248126737299.\n",
      "[I 2024-12-09 18:46:25,109] Trial 70 finished with value: 0.3606742666986461 and parameters: {'n_estimators': 420, 'max_depth': 10, 'learning_rate': 0.0936770265214111, 'subsample': 0.86235699692635, 'colsample_bytree': 0.8401807666277525, 'reg_alpha': 1.3657122552891843, 'reg_lambda': 7.242237709403007}. Best is trial 68 with value: 0.3596248126737299.\n",
      "[I 2024-12-09 18:46:55,356] Trial 71 finished with value: 0.3607239505408484 and parameters: {'n_estimators': 413, 'max_depth': 10, 'learning_rate': 0.09133154282649922, 'subsample': 0.889288393973972, 'colsample_bytree': 0.8372175820538078, 'reg_alpha': 1.5529547641992532, 'reg_lambda': 7.23583206690025}. Best is trial 68 with value: 0.3596248126737299.\n",
      "[I 2024-12-09 18:47:25,743] Trial 72 finished with value: 0.3609863191024895 and parameters: {'n_estimators': 413, 'max_depth': 10, 'learning_rate': 0.09188482581158668, 'subsample': 0.885964862247453, 'colsample_bytree': 0.8408287870441644, 'reg_alpha': 1.6337724801409874, 'reg_lambda': 7.296294655753683}. Best is trial 68 with value: 0.3596248126737299.\n",
      "[I 2024-12-09 18:48:01,877] Trial 73 finished with value: 0.3592885997078441 and parameters: {'n_estimators': 484, 'max_depth': 10, 'learning_rate': 0.08851239682057532, 'subsample': 0.8666306587578756, 'colsample_bytree': 0.81079269350909, 'reg_alpha': 1.9380759831834604, 'reg_lambda': 7.2896907583188675}. Best is trial 73 with value: 0.3592885997078441.\n",
      "[I 2024-12-09 18:48:33,868] Trial 74 finished with value: 0.3623250434040347 and parameters: {'n_estimators': 487, 'max_depth': 9, 'learning_rate': 0.09443783979709365, 'subsample': 0.8618549344914959, 'colsample_bytree': 0.8139901852958128, 'reg_alpha': 1.4312981515570329, 'reg_lambda': 8.121767111264779}. Best is trial 73 with value: 0.3592885997078441.\n",
      "[I 2024-12-09 18:49:14,108] Trial 75 finished with value: 0.3633333319376389 and parameters: {'n_estimators': 428, 'max_depth': 10, 'learning_rate': 0.07327956033862862, 'subsample': 0.8627624343824193, 'colsample_bytree': 0.8576109140351124, 'reg_alpha': 1.953753313870963, 'reg_lambda': 7.700062930107839}. Best is trial 73 with value: 0.3592885997078441.\n",
      "[I 2024-12-09 18:49:48,394] Trial 76 finished with value: 0.3599207565324728 and parameters: {'n_estimators': 449, 'max_depth': 10, 'learning_rate': 0.09708319371009622, 'subsample': 0.795965957505389, 'colsample_bytree': 0.8246372527614217, 'reg_alpha': 1.3324340317312213, 'reg_lambda': 6.795531023795316}. Best is trial 73 with value: 0.3592885997078441.\n",
      "[I 2024-12-09 18:50:18,357] Trial 77 finished with value: 0.3614991813771325 and parameters: {'n_estimators': 452, 'max_depth': 9, 'learning_rate': 0.12027421525057798, 'subsample': 0.8514631421293476, 'colsample_bytree': 0.8191561818813119, 'reg_alpha': 1.2178205307856023, 'reg_lambda': 8.60372251368963}. Best is trial 73 with value: 0.3592885997078441.\n",
      "[I 2024-12-09 18:50:54,902] Trial 78 finished with value: 0.35950554564262355 and parameters: {'n_estimators': 497, 'max_depth': 10, 'learning_rate': 0.0986914186506106, 'subsample': 0.792328763214834, 'colsample_bytree': 0.8011708278931591, 'reg_alpha': 1.8611917165388903, 'reg_lambda': 6.696755458051152}. Best is trial 73 with value: 0.3592885997078441.\n",
      "[I 2024-12-09 18:51:30,803] Trial 79 finished with value: 0.36269565629630657 and parameters: {'n_estimators': 498, 'max_depth': 10, 'learning_rate': 0.06526575397105853, 'subsample': 0.785242305708339, 'colsample_bytree': 0.7779850280840779, 'reg_alpha': 1.9926485833962253, 'reg_lambda': 6.514903172633799}. Best is trial 73 with value: 0.3592885997078441.\n",
      "[I 2024-12-09 18:51:52,717] Trial 80 finished with value: 0.45536482833445235 and parameters: {'n_estimators': 460, 'max_depth': 6, 'learning_rate': 0.04485351497882576, 'subsample': 0.7017115335620222, 'colsample_bytree': 0.8018771900626367, 'reg_alpha': 2.5528174071473773, 'reg_lambda': 6.759326392429008}. Best is trial 73 with value: 0.3592885997078441.\n",
      "[I 2024-12-09 18:52:31,170] Trial 81 finished with value: 0.3595706480342375 and parameters: {'n_estimators': 485, 'max_depth': 10, 'learning_rate': 0.09815246868489344, 'subsample': 0.8034124494454397, 'colsample_bytree': 0.8806838070886179, 'reg_alpha': 1.8381378986543047, 'reg_lambda': 7.054251175794114}. Best is trial 73 with value: 0.3592885997078441.\n",
      "[I 2024-12-09 18:53:08,334] Trial 82 finished with value: 0.3605244791399781 and parameters: {'n_estimators': 487, 'max_depth': 10, 'learning_rate': 0.10086359735885418, 'subsample': 0.7730385379910271, 'colsample_bytree': 0.912348694926425, 'reg_alpha': 3.318428808267073, 'reg_lambda': 7.012193236638725}. Best is trial 73 with value: 0.3592885997078441.\n",
      "[I 2024-12-09 18:53:44,772] Trial 83 finished with value: 0.360428780020997 and parameters: {'n_estimators': 474, 'max_depth': 10, 'learning_rate': 0.08316257932907796, 'subsample': 0.8067564426650053, 'colsample_bytree': 0.8790464492459795, 'reg_alpha': 2.115984340136607, 'reg_lambda': 8.214803080062515}. Best is trial 73 with value: 0.3592885997078441.\n",
      "[I 2024-12-09 18:54:23,674] Trial 84 finished with value: 0.35977611075429233 and parameters: {'n_estimators': 498, 'max_depth': 10, 'learning_rate': 0.1134156851498945, 'subsample': 0.7979982018899263, 'colsample_bytree': 0.8589202840773852, 'reg_alpha': 1.8370673246398725, 'reg_lambda': 6.3620610785352145}. Best is trial 73 with value: 0.3592885997078441.\n",
      "[I 2024-12-09 18:55:04,849] Trial 85 finished with value: 0.3604910367607264 and parameters: {'n_estimators': 500, 'max_depth': 10, 'learning_rate': 0.1098703416972391, 'subsample': 0.7362831757583252, 'colsample_bytree': 0.8603924128860394, 'reg_alpha': 1.7515328976950642, 'reg_lambda': 6.596595864510632}. Best is trial 73 with value: 0.3592885997078441.\n",
      "[I 2024-12-09 18:55:37,788] Trial 86 finished with value: 0.3621000320381822 and parameters: {'n_estimators': 488, 'max_depth': 9, 'learning_rate': 0.09798287685944228, 'subsample': 0.7963586625115825, 'colsample_bytree': 0.8252529227695604, 'reg_alpha': 1.876996943195723, 'reg_lambda': 6.250187651170792}. Best is trial 73 with value: 0.3592885997078441.\n",
      "[I 2024-12-09 18:55:59,054] Trial 87 finished with value: 0.3772171652401802 and parameters: {'n_estimators': 443, 'max_depth': 7, 'learning_rate': 0.11340952897430884, 'subsample': 0.7619603569517429, 'colsample_bytree': 0.8881291452946646, 'reg_alpha': 1.3113888298628362, 'reg_lambda': 6.835710012987503}. Best is trial 73 with value: 0.3592885997078441.\n",
      "[I 2024-12-09 18:56:34,479] Trial 88 finished with value: 0.3608134993479182 and parameters: {'n_estimators': 465, 'max_depth': 10, 'learning_rate': 0.12676326887576425, 'subsample': 0.7961484493753772, 'colsample_bytree': 0.9350404624606313, 'reg_alpha': 3.0562892531694086, 'reg_lambda': 6.356386098055994}. Best is trial 73 with value: 0.3592885997078441.\n",
      "[I 2024-12-09 18:56:45,714] Trial 89 finished with value: 0.4199221791561552 and parameters: {'n_estimators': 147, 'max_depth': 9, 'learning_rate': 0.07628503584255374, 'subsample': 0.8435628935851885, 'colsample_bytree': 0.7841252246519804, 'reg_alpha': 2.2107142912496194, 'reg_lambda': 7.13472488496884}. Best is trial 73 with value: 0.3592885997078441.\n",
      "[I 2024-12-09 18:57:23,766] Trial 90 finished with value: 0.3592048464126235 and parameters: {'n_estimators': 489, 'max_depth': 10, 'learning_rate': 0.10676762926601126, 'subsample': 0.839054670675623, 'colsample_bytree': 0.9083749934882669, 'reg_alpha': 1.1206695256511665, 'reg_lambda': 7.819267341117954}. Best is trial 90 with value: 0.3592048464126235.\n",
      "[I 2024-12-09 18:58:02,555] Trial 91 finished with value: 0.3591054254373787 and parameters: {'n_estimators': 490, 'max_depth': 10, 'learning_rate': 0.10117050764710818, 'subsample': 0.8411960247413527, 'colsample_bytree': 0.9101958773064905, 'reg_alpha': 1.0987112336861455, 'reg_lambda': 7.819189444833687}. Best is trial 91 with value: 0.3591054254373787.\n",
      "[I 2024-12-09 18:58:40,386] Trial 92 finished with value: 0.35890855377576564 and parameters: {'n_estimators': 493, 'max_depth': 10, 'learning_rate': 0.10806083507132916, 'subsample': 0.8405405259904322, 'colsample_bytree': 0.9116653568849942, 'reg_alpha': 1.0720540923387891, 'reg_lambda': 7.819270698069333}. Best is trial 92 with value: 0.35890855377576564.\n",
      "[I 2024-12-09 18:59:18,835] Trial 93 finished with value: 0.3590494119752221 and parameters: {'n_estimators': 500, 'max_depth': 10, 'learning_rate': 0.10585152574102422, 'subsample': 0.8399894239832748, 'colsample_bytree': 0.911493982120143, 'reg_alpha': 1.017740009977155, 'reg_lambda': 7.505110159279679}. Best is trial 92 with value: 0.35890855377576564.\n",
      "[I 2024-12-09 18:59:58,208] Trial 94 finished with value: 0.35935553201419934 and parameters: {'n_estimators': 493, 'max_depth': 10, 'learning_rate': 0.10783856362108615, 'subsample': 0.8418754813124686, 'colsample_bytree': 0.9628095860231645, 'reg_alpha': 1.0534457259216794, 'reg_lambda': 8.46677206306496}. Best is trial 92 with value: 0.35890855377576564.\n",
      "[I 2024-12-09 19:00:41,885] Trial 95 finished with value: 0.3607188406400475 and parameters: {'n_estimators': 500, 'max_depth': 10, 'learning_rate': 0.1368903450806217, 'subsample': 0.8361138579392907, 'colsample_bytree': 0.9718961767047243, 'reg_alpha': 1.0210459803956577, 'reg_lambda': 7.4922983377919286}. Best is trial 92 with value: 0.35890855377576564.\n",
      "[I 2024-12-09 19:01:25,064] Trial 96 finished with value: 0.3598095655062495 and parameters: {'n_estimators': 489, 'max_depth': 10, 'learning_rate': 0.12034514569786013, 'subsample': 0.8150152255629617, 'colsample_bytree': 0.9820707886388718, 'reg_alpha': 1.1142426319685876, 'reg_lambda': 7.721429940829635}. Best is trial 92 with value: 0.35890855377576564.\n",
      "[I 2024-12-09 19:02:04,896] Trial 97 finished with value: 0.36112198763193926 and parameters: {'n_estimators': 471, 'max_depth': 9, 'learning_rate': 0.10703187553036562, 'subsample': 0.8380937672853882, 'colsample_bytree': 0.9575821340173731, 'reg_alpha': 1.4757169901074243, 'reg_lambda': 8.456892074164637}. Best is trial 92 with value: 0.35890855377576564.\n",
      "[I 2024-12-09 19:02:48,250] Trial 98 finished with value: 0.35935288342567895 and parameters: {'n_estimators': 492, 'max_depth': 10, 'learning_rate': 0.10549097858964812, 'subsample': 0.8270439116883738, 'colsample_bytree': 0.9332088592409774, 'reg_alpha': 1.0264679601284656, 'reg_lambda': 8.924735328079006}. Best is trial 92 with value: 0.35890855377576564.\n",
      "[I 2024-12-09 19:03:04,491] Trial 99 finished with value: 0.4265695706051808 and parameters: {'n_estimators': 460, 'max_depth': 5, 'learning_rate': 0.10370702204318927, 'subsample': 0.8769826634736593, 'colsample_bytree': 0.9339710065799612, 'reg_alpha': 1.0238462484979187, 'reg_lambda': 9.600471315339965}. Best is trial 92 with value: 0.35890855377576564.\n"
     ]
    },
    {
     "name": "stdout",
     "output_type": "stream",
     "text": [
      "Best hyperparameters: {'n_estimators': 493, 'max_depth': 10, 'learning_rate': 0.10806083507132916, 'subsample': 0.8405405259904322, 'colsample_bytree': 0.9116653568849942, 'reg_alpha': 1.0720540923387891, 'reg_lambda': 7.819270698069333}\n"
     ]
    }
   ],
   "source": [
    "def objective_with_cv(trial):\n",
    "    params = {\n",
    "        \"n_estimators\": trial.suggest_int(\"n_estimators\", 100, 500),\n",
    "        \"max_depth\": trial.suggest_int(\"max_depth\", 3, 10),\n",
    "        \"learning_rate\": trial.suggest_float(\"learning_rate\", 0.01, 0.3),\n",
    "        \"subsample\": trial.suggest_float(\"subsample\", 0.5, 1.0),\n",
    "        \"colsample_bytree\": trial.suggest_float(\"colsample_bytree\", 0.5, 1.0),\n",
    "        \"reg_alpha\": trial.suggest_float(\"reg_alpha\", 1.0, 10.0),\n",
    "        \"reg_lambda\": trial.suggest_float(\"reg_lambda\", 1.0, 10.0),\n",
    "    }\n",
    "\n",
    "    xgb_model = XGBRegressor(**params, random_state=42)\n",
    "    pipeline = Pipeline([\n",
    "        (\"preprocessor\", preprocessor),\n",
    "        (\"model\", xgb_model)\n",
    "    ])\n",
    "\n",
    "    cv_scores = cross_val_score(\n",
    "        pipeline, X_train_encoded3, y_train,\n",
    "        cv=time_series_split, scoring=rmse_scorer\n",
    "    )\n",
    "    mean_rmse = -cv_scores.mean()\n",
    "    return mean_rmse\n",
    "\n",
    "# Define RMSE as a scorer\n",
    "rmse_scorer = make_scorer(root_mean_squared_error, greater_is_better=False)\n",
    "\n",
    "study = optuna.create_study(direction=\"minimize\")\n",
    "study.optimize(objective_with_cv, n_trials=100)\n",
    "\n",
    "# Best hyperparameters\n",
    "print(\"Best hyperparameters:\", study.best_params)\n",
    "\n",
    "# Train the final model with the best hyperparameters using cross-validation\n",
    "best_params = study.best_params\n",
    "best_model = XGBRegressor(**best_params, random_state=42)\n",
    "\n",
    "xgboost_pipeline = Pipeline([\n",
    "    (\"preprocessor\", preprocessor),\n",
    "    (\"model\", best_model)\n",
    "])"
   ]
  },
  {
   "cell_type": "code",
   "execution_count": 10,
   "id": "684539be-12cc-4e1b-9168-64e278cbb36f",
   "metadata": {},
   "outputs": [
    {
     "name": "stdout",
     "output_type": "stream",
     "text": [
      "Final Cross-Validated RMSE: 0.3589\n"
     ]
    }
   ],
   "source": [
    "cv_scores_final = cross_val_score(xgboost_pipeline, X_train_encoded3, y_train, cv=time_series_split, scoring=rmse_scorer)\n",
    "mean_final_rmse = -cv_scores_final.mean()\n",
    "print(f\"Final Cross-Validated RMSE: {mean_final_rmse:.4f}\")"
   ]
  },
  {
   "cell_type": "code",
   "execution_count": 11,
   "id": "ea2734c8-405a-42f2-97fd-0dee43dd443b",
   "metadata": {},
   "outputs": [
    {
     "name": "stdout",
     "output_type": "stream",
     "text": [
      "Final XGBoost RMSE: 0.3388\n"
     ]
    }
   ],
   "source": [
    "xgboost_pipeline.fit(X_train_encoded3, y_train)\n",
    "y_pred = xgboost_pipeline.predict(X_test_encoded3)\n",
    "final_rmse = root_mean_squared_error(y_test, y_pred)\n",
    "print(f\"Final XGBoost RMSE: {final_rmse:.4f}\")"
   ]
  },
  {
   "cell_type": "code",
   "execution_count": 12,
   "id": "84f79858-834a-4300-94a0-3f9665b36bc3",
   "metadata": {},
   "outputs": [
    {
     "name": "stderr",
     "output_type": "stream",
     "text": [
      "/Users/martynaharasym/bike_counters/preprocess_FE.py:98: SettingWithCopyWarning: \n",
      "A value is trying to be set on a copy of a slice from a DataFrame.\n",
      "Try using .loc[row_indexer,col_indexer] = value instead\n",
      "\n",
      "See the caveats in the documentation: https://pandas.pydata.org/pandas-docs/stable/user_guide/indexing.html#returning-a-view-versus-a-copy\n",
      "  X[\"year\"] = X[\"date_x\"].dt.year\n",
      "/Users/martynaharasym/bike_counters/preprocess_FE.py:99: SettingWithCopyWarning: \n",
      "A value is trying to be set on a copy of a slice from a DataFrame.\n",
      "Try using .loc[row_indexer,col_indexer] = value instead\n",
      "\n",
      "See the caveats in the documentation: https://pandas.pydata.org/pandas-docs/stable/user_guide/indexing.html#returning-a-view-versus-a-copy\n",
      "  X[\"month\"] = X[\"date_x\"].dt.month\n",
      "/Users/martynaharasym/bike_counters/preprocess_FE.py:100: SettingWithCopyWarning: \n",
      "A value is trying to be set on a copy of a slice from a DataFrame.\n",
      "Try using .loc[row_indexer,col_indexer] = value instead\n",
      "\n",
      "See the caveats in the documentation: https://pandas.pydata.org/pandas-docs/stable/user_guide/indexing.html#returning-a-view-versus-a-copy\n",
      "  X[\"day\"] = X[\"date_x\"].dt.day\n",
      "/Users/martynaharasym/bike_counters/preprocess_FE.py:101: SettingWithCopyWarning: \n",
      "A value is trying to be set on a copy of a slice from a DataFrame.\n",
      "Try using .loc[row_indexer,col_indexer] = value instead\n",
      "\n",
      "See the caveats in the documentation: https://pandas.pydata.org/pandas-docs/stable/user_guide/indexing.html#returning-a-view-versus-a-copy\n",
      "  X[\"weekday\"] = X[\"date_x\"].dt.weekday\n",
      "/Users/martynaharasym/bike_counters/preprocess_FE.py:102: SettingWithCopyWarning: \n",
      "A value is trying to be set on a copy of a slice from a DataFrame.\n",
      "Try using .loc[row_indexer,col_indexer] = value instead\n",
      "\n",
      "See the caveats in the documentation: https://pandas.pydata.org/pandas-docs/stable/user_guide/indexing.html#returning-a-view-versus-a-copy\n",
      "  X[\"hour\"] = X[\"date_x\"].dt.hour\n",
      "/Users/martynaharasym/bike_counters/preprocess_FE.py:122: SettingWithCopyWarning: \n",
      "A value is trying to be set on a copy of a slice from a DataFrame.\n",
      "Try using .loc[row_indexer,col_indexer] = value instead\n",
      "\n",
      "See the caveats in the documentation: https://pandas.pydata.org/pandas-docs/stable/user_guide/indexing.html#returning-a-view-versus-a-copy\n",
      "  X[\"season\"] = np.select(conditions, seasons, default=\"Unknown\")\n",
      "/Users/martynaharasym/bike_counters/preprocess_FE.py:137: SettingWithCopyWarning: \n",
      "A value is trying to be set on a copy of a slice from a DataFrame.\n",
      "Try using .loc[row_indexer,col_indexer] = value instead\n",
      "\n",
      "See the caveats in the documentation: https://pandas.pydata.org/pandas-docs/stable/user_guide/indexing.html#returning-a-view-versus-a-copy\n",
      "  X[\"school_holiday\"] = X[\"date_x\"].isin(school_holidays).astype(int)\n"
     ]
    }
   ],
   "source": [
    "df_test = pd.read_parquet(\"./data/final_test.parquet\")\n",
    "df_test_merged = df_test.merge(weather_data_interpolated, on='date', how='left')\n",
    "df_test_merged['date_only'] = pd.to_datetime(df_test_merged['date']).dt.date\n",
    "\n",
    "df_test_merged = df_test_merged.merge(covid_data, on='date_only', how='left')\n",
    "\n",
    "X = df_test_merged[[\"counter_name\", \"date_x\", \"longitude\", \"latitude\", \"ff\", \"t\", \"vv\", \"pres\", \"rr1\", \"nouveaux_patients_hospitalises\"]]\n",
    "\n",
    "X = encode_dates(X, school_holidays, public_holidays)\n",
    "X = engineer_weather_features(X)\n",
    "\n",
    "X_test_final = preprocessor.transform(X)\n",
    "final_predictions = xgboost_pipeline.named_steps['model'].predict(X_test_final)\n",
    "\n",
    "results = pd.DataFrame({\"Id\": np.arange(final_predictions.shape[0]), \"log_bike_count\": final_predictions})\n",
    "results.to_csv(\"submission_xgboost_optuna_ts.csv\", index=False)"
   ]
  }
 ],
 "metadata": {
  "kernelspec": {
   "display_name": "Python 3 (ipykernel)",
   "language": "python",
   "name": "python3"
  },
  "language_info": {
   "codemirror_mode": {
    "name": "ipython",
    "version": 3
   },
   "file_extension": ".py",
   "mimetype": "text/x-python",
   "name": "python",
   "nbconvert_exporter": "python",
   "pygments_lexer": "ipython3",
   "version": "3.12.4"
  }
 },
 "nbformat": 4,
 "nbformat_minor": 5
}
