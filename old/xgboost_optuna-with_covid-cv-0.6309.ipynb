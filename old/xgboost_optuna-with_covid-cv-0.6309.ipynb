{
 "cells": [
  {
   "cell_type": "code",
   "execution_count": 1,
   "id": "fbe933c2-19be-4af8-863a-87ca84a7a74c",
   "metadata": {},
   "outputs": [],
   "source": [
    "from pathlib import Path\n",
    "import pandas as pd\n",
    "import numpy as np\n",
    "from sklearn.model_selection import train_test_split\n",
    "from sklearn.pipeline import Pipeline\n",
    "from sklearn.compose import ColumnTransformer\n",
    "from sklearn.preprocessing import OneHotEncoder\n",
    "from sklearn.linear_model import Ridge\n",
    "from sklearn.ensemble import RandomForestRegressor\n",
    "from xgboost import XGBRegressor\n",
    "from catboost import CatBoostRegressor\n",
    "from sklearn.metrics import root_mean_squared_error\n",
    "import matplotlib.pyplot as plt\n",
    "import optuna\n",
    "from vacances_scolaires_france import SchoolHolidayDates\n",
    "from sklearn.model_selection import train_test_split\n",
    "import importlib\n",
    "\n",
    "from sklearn.model_selection import cross_val_score, KFold\n",
    "from sklearn.metrics import make_scorer\n",
    "\n",
    "from preprocess_FE import (\n",
    "    get_zone_c_holidays,\n",
    "    encode_dates,\n",
    "    engineer_weather_features, \n",
    "    remove_outliers, \n",
    "    get_public_holidays\n",
    ")"
   ]
  },
  {
   "cell_type": "code",
   "execution_count": 2,
   "id": "652b34ba-07c3-4fe2-af4a-29f6f285b704",
   "metadata": {},
   "outputs": [],
   "source": [
    "school_holidays = get_zone_c_holidays()\n",
    "public_holidays = get_public_holidays()"
   ]
  },
  {
   "cell_type": "code",
   "execution_count": 3,
   "id": "2466e382-867c-4b59-afe4-2c0041b46296",
   "metadata": {},
   "outputs": [
    {
     "name": "stderr",
     "output_type": "stream",
     "text": [
      "/Users/martynaharasym/bike_counters/preprocess_FE.py:217: FutureWarning: The default of observed=False is deprecated and will be changed to True in a future version of pandas. Pass observed=False to retain current behavior or observed=True to adopt the future default and silence this warning.\n",
      "  data.groupby([\"counter_name\", \"date_truncated\"])\n"
     ]
    }
   ],
   "source": [
    "data = pd.read_parquet(Path(\"data\") / \"train.parquet\")\n",
    "data = remove_outliers(data)\n",
    "\n",
    "important_columns = [\"date\", \"pres\", \"ff\", \"t\", \"vv\", \"rr1\"]\n",
    "weather_data = pd.read_csv(\"./external_data/external_data.csv\", usecols=important_columns)"
   ]
  },
  {
   "cell_type": "code",
   "execution_count": 4,
   "id": "a48d3044-0506-4a53-bc89-b33f6af76c8c",
   "metadata": {},
   "outputs": [],
   "source": [
    "weather_data[\"date\"] = pd.to_datetime(weather_data[\"date\"])\n",
    "weather_data = weather_data.dropna(axis=1, how=\"all\")\n",
    "weather_data.set_index(\"date\", inplace=True)\n",
    "weather_data = weather_data[~weather_data.index.duplicated(keep=\"first\")]\n",
    "weather_data_interpolated = weather_data.resample(\"h\").interpolate(method=\"linear\")"
   ]
  },
  {
   "cell_type": "code",
   "execution_count": 5,
   "id": "3b2bd2ad-49d2-4afb-92a6-31b91ec0a4c2",
   "metadata": {},
   "outputs": [],
   "source": [
    "columns = ['date', 'nouveaux_patients_hospitalises']\n",
    "covid_data = pd.read_csv('./synthese-fra (1).csv', parse_dates=False, usecols=columns)\n",
    "covid_data['date_only'] = pd.to_datetime(covid_data['date']).dt.date"
   ]
  },
  {
   "cell_type": "code",
   "execution_count": 6,
   "id": "6247d7d8-2897-4ae4-ab64-54a82798753b",
   "metadata": {},
   "outputs": [],
   "source": [
    "merged_data = data.merge(weather_data_interpolated, on=\"date\", how=\"left\")\n",
    "merged_data['date_only'] = pd.to_datetime(merged_data['date']).dt.date\n",
    "\n",
    "merged_data = merged_data.merge(covid_data, on=\"date_only\", how=\"left\")"
   ]
  },
  {
   "cell_type": "code",
   "execution_count": 7,
   "id": "f3e20524-694e-4c9c-bb72-197628936fe9",
   "metadata": {},
   "outputs": [],
   "source": [
    "X = merged_data[[\"counter_name\", \"site_name\", \"date_x\", \"longitude\", \"latitude\", \"ff\", \"t\", \"vv\", \"pres\", \"rr1\", \"nouveaux_patients_hospitalises\"]]\n",
    "y = merged_data[\"log_bike_count\"]\n",
    "\n",
    "X_train, X_test, y_train, y_test = train_test_split(X, y, test_size=0.2, random_state=42)\n",
    "\n",
    "# Apply date encoding\n",
    "\n",
    "X_train_encoded1 = encode_dates(X_train, school_holidays, public_holidays)\n",
    "X_test_encoded1 = encode_dates(X_test, school_holidays, public_holidays)\n",
    "\n",
    "X_train_encoded3 = engineer_weather_features(X_train_encoded1)\n",
    "X_test_encoded3 = engineer_weather_features(X_test_encoded1)\n",
    "\n",
    "# Column transformer for preprocessing\n",
    "categorical_features = [\"counter_name\", \"site_name\", \"rain_category\", \"season\"]\n",
    "\n",
    "numerical_features = list(X_train_encoded3.drop(columns=categorical_features).columns)\n",
    "\n",
    "preprocessor = ColumnTransformer(\n",
    "    transformers=[\n",
    "        (\"cat\", OneHotEncoder(handle_unknown=\"ignore\"), categorical_features),\n",
    "        (\"num\", \"passthrough\", numerical_features)\n",
    "    ]\n",
    ")"
   ]
  },
  {
   "cell_type": "code",
   "execution_count": 8,
   "id": "1953581f-fd22-4d01-9b75-45541cf42b2e",
   "metadata": {},
   "outputs": [
    {
     "name": "stderr",
     "output_type": "stream",
     "text": [
      "[I 2024-12-09 17:04:56,628] A new study created in memory with name: no-name-ba614a9e-1095-4204-95e0-bb11663e811d\n",
      "[I 2024-12-09 17:05:35,447] Trial 0 finished with value: 0.34688005743320105 and parameters: {'n_estimators': 435, 'max_depth': 9, 'learning_rate': 0.17555723219018465, 'subsample': 0.7875452232618532, 'colsample_bytree': 0.6704957626922161, 'reg_alpha': 2.4107018006660086, 'reg_lambda': 4.996803080669925}. Best is trial 0 with value: 0.34688005743320105.\n",
      "[I 2024-12-09 17:05:49,840] Trial 1 finished with value: 0.4935410264288199 and parameters: {'n_estimators': 299, 'max_depth': 4, 'learning_rate': 0.1119567068911478, 'subsample': 0.8494954927485123, 'colsample_bytree': 0.8682567506303727, 'reg_alpha': 9.921259617403187, 'reg_lambda': 6.455939184638107}. Best is trial 0 with value: 0.34688005743320105.\n",
      "[I 2024-12-09 17:06:22,078] Trial 2 finished with value: 0.38561604100135327 and parameters: {'n_estimators': 484, 'max_depth': 7, 'learning_rate': 0.07511359690097413, 'subsample': 0.8041246821038198, 'colsample_bytree': 0.7206487919170732, 'reg_alpha': 6.916426940751428, 'reg_lambda': 7.142572948712523}. Best is trial 0 with value: 0.34688005743320105.\n",
      "[I 2024-12-09 17:06:42,527] Trial 3 finished with value: 0.5055447066374612 and parameters: {'n_estimators': 356, 'max_depth': 5, 'learning_rate': 0.04952368634606486, 'subsample': 0.5255418396609234, 'colsample_bytree': 0.5629601238867495, 'reg_alpha': 3.0930090156759142, 'reg_lambda': 7.084877076487248}. Best is trial 0 with value: 0.34688005743320105.\n",
      "[I 2024-12-09 17:07:07,141] Trial 4 finished with value: 0.3832030997930813 and parameters: {'n_estimators': 330, 'max_depth': 7, 'learning_rate': 0.116580800975572, 'subsample': 0.9278343642591056, 'colsample_bytree': 0.6001845243473196, 'reg_alpha': 2.4579050621742433, 'reg_lambda': 1.182354993866424}. Best is trial 0 with value: 0.34688005743320105.\n",
      "[I 2024-12-09 17:07:49,124] Trial 5 finished with value: 0.37597404090615594 and parameters: {'n_estimators': 418, 'max_depth': 9, 'learning_rate': 0.047270661490277935, 'subsample': 0.6227653794161008, 'colsample_bytree': 0.8239048539607432, 'reg_alpha': 4.594997274168634, 'reg_lambda': 3.158606963631932}. Best is trial 0 with value: 0.34688005743320105.\n",
      "[I 2024-12-09 17:08:13,417] Trial 6 finished with value: 0.3784485241820797 and parameters: {'n_estimators': 299, 'max_depth': 7, 'learning_rate': 0.17681542815809004, 'subsample': 0.5107540300199451, 'colsample_bytree': 0.7158505697224193, 'reg_alpha': 9.939922299975784, 'reg_lambda': 5.135257618720733}. Best is trial 0 with value: 0.34688005743320105.\n",
      "[I 2024-12-09 17:08:35,201] Trial 7 finished with value: 0.40681139800378635 and parameters: {'n_estimators': 348, 'max_depth': 5, 'learning_rate': 0.18067984621508787, 'subsample': 0.8744324730182031, 'colsample_bytree': 0.8402186221940456, 'reg_alpha': 7.250054551602336, 'reg_lambda': 5.164039948756546}. Best is trial 0 with value: 0.34688005743320105.\n",
      "[I 2024-12-09 17:08:55,232] Trial 8 finished with value: 0.4128685314914714 and parameters: {'n_estimators': 406, 'max_depth': 5, 'learning_rate': 0.13099231431029373, 'subsample': 0.7594488479639598, 'colsample_bytree': 0.8857850941120033, 'reg_alpha': 4.140182180406602, 'reg_lambda': 5.4845801235894}. Best is trial 0 with value: 0.34688005743320105.\n",
      "[I 2024-12-09 17:09:08,370] Trial 9 finished with value: 0.5192702865213199 and parameters: {'n_estimators': 231, 'max_depth': 5, 'learning_rate': 0.05616070442243312, 'subsample': 0.5566039552648676, 'colsample_bytree': 0.8595389019610717, 'reg_alpha': 2.1170886617140603, 'reg_lambda': 7.591687716052093}. Best is trial 0 with value: 0.34688005743320105.\n",
      "[I 2024-12-09 17:10:10,824] Trial 10 finished with value: 0.4418153055721506 and parameters: {'n_estimators': 488, 'max_depth': 10, 'learning_rate': 0.012207571748602014, 'subsample': 0.6675037126819998, 'colsample_bytree': 0.6358505956403676, 'reg_alpha': 1.3425296314233899, 'reg_lambda': 9.7602881866294}. Best is trial 0 with value: 0.34688005743320105.\n",
      "[I 2024-12-09 17:11:01,076] Trial 11 finished with value: 0.3454366670001176 and parameters: {'n_estimators': 409, 'max_depth': 10, 'learning_rate': 0.15788335624541475, 'subsample': 0.7056865045165731, 'colsample_bytree': 0.9640752148255323, 'reg_alpha': 4.856504128252152, 'reg_lambda': 3.087799141363016}. Best is trial 11 with value: 0.3454366670001176.\n",
      "[I 2024-12-09 17:11:46,178] Trial 12 finished with value: 0.34785362261489555 and parameters: {'n_estimators': 441, 'max_depth': 9, 'learning_rate': 0.15156277097119797, 'subsample': 0.6806622840190094, 'colsample_bytree': 0.9891019491314773, 'reg_alpha': 6.051673228647983, 'reg_lambda': 3.2673439914122593}. Best is trial 11 with value: 0.3454366670001176.\n",
      "[I 2024-12-09 17:12:37,615] Trial 13 finished with value: 0.3458421401278639 and parameters: {'n_estimators': 390, 'max_depth': 10, 'learning_rate': 0.1915191064236083, 'subsample': 0.7266773232313661, 'colsample_bytree': 0.9887952129732323, 'reg_alpha': 4.00921191996864, 'reg_lambda': 3.468403715272818}. Best is trial 11 with value: 0.3454366670001176.\n",
      "[I 2024-12-09 17:13:33,454] Trial 14 finished with value: 0.34681207598884434 and parameters: {'n_estimators': 384, 'max_depth': 10, 'learning_rate': 0.1929610657615902, 'subsample': 0.7036882372091066, 'colsample_bytree': 0.9981395657741616, 'reg_alpha': 4.77925983305469, 'reg_lambda': 3.0636833437923316}. Best is trial 11 with value: 0.3454366670001176.\n",
      "[I 2024-12-09 17:14:05,724] Trial 15 finished with value: 0.3521985782858699 and parameters: {'n_estimators': 388, 'max_depth': 8, 'learning_rate': 0.14231976782046488, 'subsample': 0.9996327292729397, 'colsample_bytree': 0.9420526908172714, 'reg_alpha': 3.602122590338726, 'reg_lambda': 1.3165163926496621}. Best is trial 11 with value: 0.3454366670001176.\n",
      "[I 2024-12-09 17:15:01,415] Trial 16 finished with value: 0.34793211464251994 and parameters: {'n_estimators': 456, 'max_depth': 10, 'learning_rate': 0.16108360401448285, 'subsample': 0.6110744445290721, 'colsample_bytree': 0.7822159070341683, 'reg_alpha': 5.75398728802508, 'reg_lambda': 3.985957554181929}. Best is trial 11 with value: 0.3454366670001176.\n",
      "[I 2024-12-09 17:15:22,143] Trial 17 finished with value: 0.36589202944409127 and parameters: {'n_estimators': 210, 'max_depth': 8, 'learning_rate': 0.1952770032075815, 'subsample': 0.7228492773413132, 'colsample_bytree': 0.9302274271328413, 'reg_alpha': 8.342393600972756, 'reg_lambda': 2.0145777248391816}. Best is trial 11 with value: 0.3454366670001176.\n",
      "[I 2024-12-09 17:15:35,339] Trial 18 finished with value: 0.5736369621264296 and parameters: {'n_estimators': 267, 'max_depth': 3, 'learning_rate': 0.09398351775492533, 'subsample': 0.6282430364499657, 'colsample_bytree': 0.9434754015453157, 'reg_alpha': 5.127362753007181, 'reg_lambda': 3.8559339249524816}. Best is trial 11 with value: 0.3454366670001176.\n",
      "[I 2024-12-09 17:16:07,624] Trial 19 finished with value: 0.3606807987484201 and parameters: {'n_estimators': 370, 'max_depth': 8, 'learning_rate': 0.1585106527578587, 'subsample': 0.7475943210030929, 'colsample_bytree': 0.5068490147005553, 'reg_alpha': 3.68059575926776, 'reg_lambda': 2.4645426384163627}. Best is trial 11 with value: 0.3454366670001176.\n",
      "[I 2024-12-09 17:16:51,312] Trial 20 finished with value: 0.34813294539863754 and parameters: {'n_estimators': 410, 'max_depth': 9, 'learning_rate': 0.13591734997362392, 'subsample': 0.8229136733729212, 'colsample_bytree': 0.917179731981851, 'reg_alpha': 6.899754035997744, 'reg_lambda': 4.202642893731268}. Best is trial 11 with value: 0.3454366670001176.\n",
      "[I 2024-12-09 17:17:43,798] Trial 21 finished with value: 0.34762486919781527 and parameters: {'n_estimators': 384, 'max_depth': 10, 'learning_rate': 0.19976842551248009, 'subsample': 0.6876487654526533, 'colsample_bytree': 0.9985764637521325, 'reg_alpha': 5.074974795545236, 'reg_lambda': 2.593594674865536}. Best is trial 11 with value: 0.3454366670001176.\n",
      "[I 2024-12-09 17:18:27,499] Trial 22 finished with value: 0.34647199944451157 and parameters: {'n_estimators': 322, 'max_depth': 10, 'learning_rate': 0.18210457149915915, 'subsample': 0.7164697287164092, 'colsample_bytree': 0.9822430718005312, 'reg_alpha': 4.468337197319351, 'reg_lambda': 1.9018023168411429}. Best is trial 11 with value: 0.3454366670001176.\n",
      "[I 2024-12-09 17:19:08,479] Trial 23 finished with value: 0.34755656048590117 and parameters: {'n_estimators': 318, 'max_depth': 10, 'learning_rate': 0.1631461653186982, 'subsample': 0.7395021476165403, 'colsample_bytree': 0.9563247974737185, 'reg_alpha': 6.001163473684931, 'reg_lambda': 2.1466584523523315}. Best is trial 11 with value: 0.3454366670001176.\n",
      "[I 2024-12-09 17:19:38,685] Trial 24 finished with value: 0.35268050137515333 and parameters: {'n_estimators': 268, 'max_depth': 9, 'learning_rate': 0.17812401870263675, 'subsample': 0.6595735802801281, 'colsample_bytree': 0.7925962568194977, 'reg_alpha': 3.3240522019765457, 'reg_lambda': 1.7567609548139245}. Best is trial 11 with value: 0.3454366670001176.\n",
      "[I 2024-12-09 17:20:10,557] Trial 25 finished with value: 0.3614763925775983 and parameters: {'n_estimators': 329, 'max_depth': 8, 'learning_rate': 0.12630668770308554, 'subsample': 0.577296363512035, 'colsample_bytree': 0.8968166541394491, 'reg_alpha': 4.525893367232038, 'reg_lambda': 4.415406864017354}. Best is trial 11 with value: 0.3454366670001176.\n",
      "[I 2024-12-09 17:21:09,130] Trial 26 finished with value: 0.342886659820028 and parameters: {'n_estimators': 464, 'max_depth': 10, 'learning_rate': 0.1470967494275153, 'subsample': 0.7851262648915907, 'colsample_bytree': 0.9676411355846567, 'reg_alpha': 4.010364799699361, 'reg_lambda': 3.486253794150691}. Best is trial 26 with value: 0.342886659820028.\n",
      "[I 2024-12-09 17:21:37,063] Trial 27 finished with value: 0.36987994123276174 and parameters: {'n_estimators': 473, 'max_depth': 6, 'learning_rate': 0.14739924518394015, 'subsample': 0.7732708327249946, 'colsample_bytree': 0.9554370105819959, 'reg_alpha': 1.1681076720741466, 'reg_lambda': 3.7237929687924542}. Best is trial 26 with value: 0.342886659820028.\n",
      "[I 2024-12-09 17:22:27,813] Trial 28 finished with value: 0.3437758279897355 and parameters: {'n_estimators': 449, 'max_depth': 9, 'learning_rate': 0.16599043549336032, 'subsample': 0.87430808243892, 'colsample_bytree': 0.8974670248494225, 'reg_alpha': 2.8200159258649595, 'reg_lambda': 6.220842042858545}. Best is trial 26 with value: 0.342886659820028.\n",
      "[I 2024-12-09 17:23:19,825] Trial 29 finished with value: 0.3474719106102776 and parameters: {'n_estimators': 453, 'max_depth': 9, 'learning_rate': 0.09770906270954116, 'subsample': 0.9064666168663791, 'colsample_bytree': 0.9082336080113682, 'reg_alpha': 2.3892237612295513, 'reg_lambda': 8.879473757584314}. Best is trial 26 with value: 0.342886659820028.\n"
     ]
    },
    {
     "name": "stdout",
     "output_type": "stream",
     "text": [
      "Best hyperparameters: {'n_estimators': 464, 'max_depth': 10, 'learning_rate': 0.1470967494275153, 'subsample': 0.7851262648915907, 'colsample_bytree': 0.9676411355846567, 'reg_alpha': 4.010364799699361, 'reg_lambda': 3.486253794150691}\n",
      "Final Cross-Validated RMSE: 0.3429\n"
     ]
    }
   ],
   "source": [
    "def objective_with_cv(trial):\n",
    "    params = {\n",
    "        \"n_estimators\": trial.suggest_int(\"n_estimators\", 100, 500),\n",
    "        \"max_depth\": trial.suggest_int(\"max_depth\", 3, 10),\n",
    "        \"learning_rate\": trial.suggest_float(\"learning_rate\", 0.01, 0.2),\n",
    "        \"subsample\": trial.suggest_float(\"subsample\", 0.5, 1.0),\n",
    "        \"colsample_bytree\": trial.suggest_float(\"colsample_bytree\", 0.5, 1.0),\n",
    "        \"reg_alpha\": trial.suggest_float(\"reg_alpha\", 1.0, 10.0),\n",
    "        \"reg_lambda\": trial.suggest_float(\"reg_lambda\", 1.0, 10.0),\n",
    "    }\n",
    "\n",
    "    xgb_model = XGBRegressor(**params, random_state=42)\n",
    "    pipeline = Pipeline([\n",
    "        (\"preprocessor\", preprocessor),\n",
    "        (\"model\", xgb_model)\n",
    "    ])\n",
    "\n",
    "    # Perform cross-validation\n",
    "    cv_scores = cross_val_score(pipeline, X_train_encoded3, y_train, cv=kf, scoring=rmse_scorer)\n",
    "    mean_rmse = -cv_scores.mean()  # Negate to get positive RMSE as scores are negative\n",
    "    return mean_rmse\n",
    "\n",
    "# Define RMSE as a scorer\n",
    "rmse_scorer = make_scorer(root_mean_squared_error, greater_is_better=False)\n",
    "\n",
    "# Create a K-Fold cross-validator\n",
    "kf = KFold(n_splits=5, shuffle=True, random_state=42)\n",
    "\n",
    "study = optuna.create_study(direction=\"minimize\")\n",
    "study.optimize(objective_with_cv, n_trials=30)\n",
    "\n",
    "# Best hyperparameters\n",
    "print(\"Best hyperparameters:\", study.best_params)\n",
    "\n",
    "# Train the final model with the best hyperparameters using cross-validation\n",
    "best_params = study.best_params\n",
    "best_model = XGBRegressor(**best_params, random_state=42)\n",
    "\n",
    "xgboost_pipeline = Pipeline([\n",
    "    (\"preprocessor\", preprocessor),\n",
    "    (\"model\", best_model)\n",
    "])\n",
    "\n",
    "cv_scores_final = cross_val_score(xgboost_pipeline, X_train_encoded3, y_train, cv=kf, scoring=rmse_scorer)\n",
    "mean_final_rmse = -cv_scores_final.mean()\n",
    "print(f\"Final Cross-Validated RMSE: {mean_final_rmse:.4f}\")"
   ]
  },
  {
   "cell_type": "code",
   "execution_count": 9,
   "id": "ea2734c8-405a-42f2-97fd-0dee43dd443b",
   "metadata": {},
   "outputs": [
    {
     "name": "stdout",
     "output_type": "stream",
     "text": [
      "Final XGBoost RMSE: 0.3386\n"
     ]
    }
   ],
   "source": [
    "xgboost_pipeline.fit(X_train_encoded3, y_train)\n",
    "y_pred = xgboost_pipeline.predict(X_test_encoded3)\n",
    "final_rmse = root_mean_squared_error(y_test, y_pred)\n",
    "print(f\"Final XGBoost RMSE: {final_rmse:.4f}\")"
   ]
  },
  {
   "cell_type": "code",
   "execution_count": 10,
   "id": "84f79858-834a-4300-94a0-3f9665b36bc3",
   "metadata": {},
   "outputs": [
    {
     "name": "stderr",
     "output_type": "stream",
     "text": [
      "/Users/martynaharasym/bike_counters/preprocess_FE.py:98: SettingWithCopyWarning: \n",
      "A value is trying to be set on a copy of a slice from a DataFrame.\n",
      "Try using .loc[row_indexer,col_indexer] = value instead\n",
      "\n",
      "See the caveats in the documentation: https://pandas.pydata.org/pandas-docs/stable/user_guide/indexing.html#returning-a-view-versus-a-copy\n",
      "  X[\"year\"] = X[\"date_x\"].dt.year\n",
      "/Users/martynaharasym/bike_counters/preprocess_FE.py:99: SettingWithCopyWarning: \n",
      "A value is trying to be set on a copy of a slice from a DataFrame.\n",
      "Try using .loc[row_indexer,col_indexer] = value instead\n",
      "\n",
      "See the caveats in the documentation: https://pandas.pydata.org/pandas-docs/stable/user_guide/indexing.html#returning-a-view-versus-a-copy\n",
      "  X[\"month\"] = X[\"date_x\"].dt.month\n",
      "/Users/martynaharasym/bike_counters/preprocess_FE.py:100: SettingWithCopyWarning: \n",
      "A value is trying to be set on a copy of a slice from a DataFrame.\n",
      "Try using .loc[row_indexer,col_indexer] = value instead\n",
      "\n",
      "See the caveats in the documentation: https://pandas.pydata.org/pandas-docs/stable/user_guide/indexing.html#returning-a-view-versus-a-copy\n",
      "  X[\"day\"] = X[\"date_x\"].dt.day\n",
      "/Users/martynaharasym/bike_counters/preprocess_FE.py:101: SettingWithCopyWarning: \n",
      "A value is trying to be set on a copy of a slice from a DataFrame.\n",
      "Try using .loc[row_indexer,col_indexer] = value instead\n",
      "\n",
      "See the caveats in the documentation: https://pandas.pydata.org/pandas-docs/stable/user_guide/indexing.html#returning-a-view-versus-a-copy\n",
      "  X[\"weekday\"] = X[\"date_x\"].dt.weekday\n",
      "/Users/martynaharasym/bike_counters/preprocess_FE.py:102: SettingWithCopyWarning: \n",
      "A value is trying to be set on a copy of a slice from a DataFrame.\n",
      "Try using .loc[row_indexer,col_indexer] = value instead\n",
      "\n",
      "See the caveats in the documentation: https://pandas.pydata.org/pandas-docs/stable/user_guide/indexing.html#returning-a-view-versus-a-copy\n",
      "  X[\"hour\"] = X[\"date_x\"].dt.hour\n",
      "/Users/martynaharasym/bike_counters/preprocess_FE.py:122: SettingWithCopyWarning: \n",
      "A value is trying to be set on a copy of a slice from a DataFrame.\n",
      "Try using .loc[row_indexer,col_indexer] = value instead\n",
      "\n",
      "See the caveats in the documentation: https://pandas.pydata.org/pandas-docs/stable/user_guide/indexing.html#returning-a-view-versus-a-copy\n",
      "  X[\"season\"] = np.select(conditions, seasons, default=\"Unknown\")\n"
     ]
    }
   ],
   "source": [
    "df_test = pd.read_parquet(\"./data/final_test.parquet\")\n",
    "df_test_merged = df_test.merge(weather_data_interpolated, on='date', how='left')\n",
    "df_test_merged['date_only'] = pd.to_datetime(df_test_merged['date']).dt.date\n",
    "\n",
    "df_test_merged = df_test_merged.merge(covid_data, on='date_only', how='left')\n",
    "\n",
    "X = df_test_merged[[\"counter_name\", \"site_name\", \"date_x\", \"longitude\", \"latitude\", \"ff\", \"t\", \"vv\", \"pres\", \"rr1\", \"nouveaux_patients_hospitalises\"]]\n",
    "\n",
    "X = encode_dates(X, school_holidays, public_holidays)\n",
    "X = engineer_weather_features(X)\n",
    "\n",
    "X_test_final = preprocessor.transform(X)\n",
    "final_predictions = xgboost_pipeline.named_steps['model'].predict(X_test_final)\n",
    "\n",
    "results = pd.DataFrame({\"Id\": np.arange(final_predictions.shape[0]), \"log_bike_count\": final_predictions})\n",
    "results.to_csv(\"submission_xgboost_optuna_cv.csv\", index=False)"
   ]
  }
 ],
 "metadata": {
  "kernelspec": {
   "display_name": "Python 3 (ipykernel)",
   "language": "python",
   "name": "python3"
  },
  "language_info": {
   "codemirror_mode": {
    "name": "ipython",
    "version": 3
   },
   "file_extension": ".py",
   "mimetype": "text/x-python",
   "name": "python",
   "nbconvert_exporter": "python",
   "pygments_lexer": "ipython3",
   "version": "3.12.4"
  }
 },
 "nbformat": 4,
 "nbformat_minor": 5
}
